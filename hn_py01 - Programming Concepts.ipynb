{
 "cells": [
  {
   "cell_type": "markdown",
   "id": "2d5f66c2",
   "metadata": {
    "jp-MarkdownHeadingCollapsed": true,
    "tags": []
   },
   "source": [
    "# Computer Programming and Software Development Introduction 1: Programming Concepts\n",
    "#### Notebook by: michael.ferrie@edinburghcollege.ac.uk\n",
    "#### Edinburgh College, Feb 2022"
   ]
  },
  {
   "cell_type": "markdown",
   "id": "3df50d96",
   "metadata": {
    "tags": []
   },
   "source": [
    "# Part 1 - Introduction and Concepts\n",
    "<div class=\"alert alert-block alert-info\">\n",
    "<b>Information:</b> In this class you will learn how to write programs using the Python Language. The python version required is version 3.x, many of the examples will not work with python 2. Python is a free and open source language and is one of the most popular languages in use in computing today.\n",
    "</div>"
   ]
  },
  {
   "cell_type": "markdown",
   "id": "521bca2c-02de-47eb-9903-f961bd2feb4a",
   "metadata": {},
   "source": [
    "<div class=\"alert alert-block alert-danger\">\n",
    "    <b>Note:</b> Make sure you run every cell, click on the cell and press <b>CTRL+ENTER</b>\n",
    "</div>"
   ]
  },
  {
   "cell_type": "markdown",
   "id": "b14e444a-0199-4d9d-8d49-b50b2da7e04f",
   "metadata": {
    "tags": []
   },
   "source": [
    "Computer science has been around for less than a century and so in comparison to subjects like mathematics or art, it is in its infancy. Computer Science is actually quite a bad name for the subject as it's not really a science - there are no test tubes or measuring instruments, it's also not really about computers.\n",
    "\n",
    "You will use a computer to write programs but you do not need to know how the computer was built. When writing programs it is important to try and not confuse what you are trying to do with the instrument you are using. Much like biology isn't really about microscopes, computer science is not about computers, but about how you can make a computer follow a set of instructions. This leads to the question - what can a computer do? At the simplest level a computer can only perform two tasks.\n",
    "1. Perform a calculation\n",
    "2. Store the result\n"
   ]
  },
  {
   "cell_type": "markdown",
   "id": "756fd019-6a09-4240-b4b3-0f07209bdce5",
   "metadata": {
    "tags": []
   },
   "source": [
    "# Part 2 - Types of Knowledge"
   ]
  },
  {
   "cell_type": "markdown",
   "id": "8eca0d92-3a87-4e96-87ad-b4bbf4bd4e9f",
   "metadata": {},
   "source": [
    "This seems very simple but it is true, that's all a computer can do. In this course it is important that we establish the correct methods of talking about what we are doing, once we can give the correct names to things they become much easier to discuss. There are two types of knowledge that we are concerned with:\n",
    "\n",
    "1. Imperative Knowledge\n",
    "2. Declarative knowledge\n",
    "\n",
    "**Imperative knowledge** is knowledge of how-to methods and **declarative knowledge** is knowledge of fact. Consider this example - you have been asked to make a cup of tea - here is a recipe for the task:\n",
    "\n",
    "1. Put water into kettle\n",
    "2. Press button\n",
    "3. Once boiled pour water into cup\n",
    "4. Add 1 tea bag\n",
    "5. Stir\n",
    "6. Remove tea bag\n",
    "7. Add milk/ sugar as required\n",
    "\n",
    "If you had never made a cup of tea before could you use those steps to complete the task?\n",
    "\n",
    "Dividing this up into two different types of knowledge, there are *how-to* steps which are imperative and facts which are declarative. For example the water, kettle, tea bag, sugar - we do not have to explain what these are, we can take these as fact - however things like pressing a button, and pouring water and removing teabag are imperative steps, they are how-to knowledge."
   ]
  },
  {
   "cell_type": "markdown",
   "id": "aac54d35-3af3-459c-ac73-1e31009ca5e1",
   "metadata": {},
   "source": [
    "An algorithm can be thought of as a recipe, it is a list of steps to follow to achieve a result, just like the making tea example. Consider this next algorithm for calculating the square root of a number, this is called a *guess and check* method to try and find the square root of a number, in this example we will try to find the square root of 25, we know this is 5 because ***5 * 5=25*** but let's take a guess that it is to work it out.\n",
    "\n",
    "1. Guess the square root of 25 - guess is 3\n",
    "2. Multiply 3 by 3 and see if this is 25\n",
    "3. Answer is 9 - too low, take a higher guess\n",
    "4. Guessing that the answer is 4\n",
    "5. Multiply 4 by 4 and see if this is 25\n",
    "6. Answer is too low take a higher guess… getting fed up now let’s go higher - guess 6\n",
    "7. Multiply 6 by 6 and the answer is 36 - that's too high take another guess\n",
    "8. Guessing 5\n",
    "9. Multiply 5 by 5 and the answer is 25 - thats it\n",
    "10. The square root of 25 is 5\n",
    "\n",
    "That's great - now try with the calculator on your phone, use the guess and check method to calculate the square root of 1600? - remember to start with a guess, then follow the steps until you get the right answer."
   ]
  },
  {
   "cell_type": "markdown",
   "id": "f9af98b2",
   "metadata": {},
   "source": [
    "# Part 3 - Algorithm Example: Peano Addition\n",
    "Created by Italian mathematician Giuseppe Peano (1858–1932)\n",
    "\n",
    "The sum of two numbers x and y, if x is zero then y is the answer. Otherwise the answer is the sum of the decrement of the first number and the increment of the second:\n",
    "\n",
    "### Example - 3+4 (3 is not zero so 4 is not the answer)\n",
    "* 3-1 = 2 \t\tand \t4+1 = 5\n",
    "* 2-1 = 1 \t\tand \t5+1 = 6\n",
    "* 1-1 = 0 \t\tand \t6+1 = 7\n",
    "\n",
    "7 is the answer because the other number is now zero"
   ]
  },
  {
   "cell_type": "markdown",
   "id": "d80f908f-f1ce-4820-b27f-434409a22ec3",
   "metadata": {},
   "source": [
    "# Part 4 - Some Python to get started\n",
    "In Python ```=``` is the assignment operator, we can assign a variable using the ```=``` operator.\n",
    "\n",
    "We can also print using the ```print``` function, run these examples to see this in action."
   ]
  },
  {
   "cell_type": "code",
   "execution_count": 3,
   "id": "e78a3bf3-725f-46e3-ad01-dc19cd931dee",
   "metadata": {},
   "outputs": [
    {
     "name": "stdout",
     "output_type": "stream",
     "text": [
      "hello world\n"
     ]
    }
   ],
   "source": [
    "print(\"hello world\")"
   ]
  },
  {
   "cell_type": "code",
   "execution_count": 9,
   "id": "9de0c296-b8b6-405d-acbb-bb4d8e429984",
   "metadata": {},
   "outputs": [],
   "source": [
    "my_variable = 5"
   ]
  },
  {
   "cell_type": "code",
   "execution_count": 10,
   "id": "c6b9522d-0901-44b8-a94a-be46e5e5252e",
   "metadata": {},
   "outputs": [
    {
     "name": "stdout",
     "output_type": "stream",
     "text": [
      "5\n"
     ]
    }
   ],
   "source": [
    "print(my_variable)"
   ]
  },
  {
   "cell_type": "markdown",
   "id": "75d23878-c4f6-4ed4-984e-2c97036f0cfd",
   "metadata": {},
   "source": [
    "# Part 5 - Questions\n",
    "<div class=\"alert alert-block alert-success\">\n",
    "<b>How to answer: </b> Add your code to the code cell below each question.\n",
    "</div>"
   ]
  },
  {
   "cell_type": "markdown",
   "id": "0e99bfba-80d9-4ce9-82d7-be0f6f69e693",
   "metadata": {
    "tags": []
   },
   "source": [
    "Q1 Print out your name using the ```print``` function"
   ]
  },
  {
   "cell_type": "code",
   "execution_count": 11,
   "id": "accd22ea-4e60-481e-8b37-28eea2f62be1",
   "metadata": {},
   "outputs": [],
   "source": [
    "# your code here\n"
   ]
  },
  {
   "cell_type": "markdown",
   "id": "15ab1b85-1a0d-4e86-b43e-a1d5a4a5a143",
   "metadata": {
    "tags": []
   },
   "source": [
    "Q2 Create a variable called ***v*** and assign it the value of ***5***"
   ]
  },
  {
   "cell_type": "code",
   "execution_count": 12,
   "id": "842aa8af-91f3-4306-ab80-ba9badc481e5",
   "metadata": {},
   "outputs": [],
   "source": [
    "# your code here\n"
   ]
  },
  {
   "cell_type": "markdown",
   "id": "488891bd-d2a0-452b-b5f2-cbe771b797de",
   "metadata": {},
   "source": [
    "Q3 Create a variable called ***w*** and assign it the value of ***10***"
   ]
  },
  {
   "cell_type": "code",
   "execution_count": 13,
   "id": "c96282fa-59c9-4349-9251-291ffb756e68",
   "metadata": {},
   "outputs": [],
   "source": [
    "# your code here\n"
   ]
  },
  {
   "cell_type": "markdown",
   "id": "4393395e-5ac4-4ac1-ba52-5d92dfe50d50",
   "metadata": {},
   "source": [
    "Q4 Create a variable called ***x*** and assign it the value of ***v*** + ***w***"
   ]
  },
  {
   "cell_type": "code",
   "execution_count": 14,
   "id": "1b10d52c-16fe-427f-b2b8-ff29c39a9259",
   "metadata": {},
   "outputs": [],
   "source": [
    "# your code here\n"
   ]
  },
  {
   "cell_type": "markdown",
   "id": "198a0dcd-b70c-4abc-bb4d-c240db4dbe0b",
   "metadata": {},
   "source": [
    "Q5 Print out the value of the variable ***x*** using the ```print``` function"
   ]
  },
  {
   "cell_type": "code",
   "execution_count": 15,
   "id": "9d5539a0-e074-4d86-90f8-1122be5c7b6c",
   "metadata": {},
   "outputs": [],
   "source": [
    "# your code here\n"
   ]
  }
 ],
 "metadata": {
  "kernelspec": {
   "display_name": "Python 3 (ipykernel)",
   "language": "python",
   "name": "python3"
  },
  "language_info": {
   "codemirror_mode": {
    "name": "ipython",
    "version": 3
   },
   "file_extension": ".py",
   "mimetype": "text/x-python",
   "name": "python",
   "nbconvert_exporter": "python",
   "pygments_lexer": "ipython3",
   "version": "3.9.2"
  },
  "toc-showmarkdowntxt": false
 },
 "nbformat": 4,
 "nbformat_minor": 5
}
