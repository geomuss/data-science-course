{
 "cells": [
  {
   "cell_type": "markdown",
   "id": "2d5f66c2",
   "metadata": {
    "tags": []
   },
   "source": [
    "# Computer Programming and Software Development Introduction 8: Sorting and Searching\n",
    "#### Notebook by: michael.ferrie@edinburghcollege.ac.uk\n",
    "#### Edinburgh College, Sep 2021"
   ]
  },
  {
   "cell_type": "markdown",
   "id": "3df50d96",
   "metadata": {
    "tags": []
   },
   "source": [
    "# Part 1 - Sorting Algorithms"
   ]
  },
  {
   "cell_type": "markdown",
   "id": "521bca2c-02de-47eb-9903-f961bd2feb4a",
   "metadata": {},
   "source": [
    "<div class=\"alert alert-block alert-danger\">\n",
    "    <b>Note:</b> Make sure you run every cell, click on the cell and press <b>CTRL+ENTER</b>\n",
    "</div>"
   ]
  },
  {
   "cell_type": "markdown",
   "id": "1745d9ec-c90a-402c-ad75-2d84f77b4450",
   "metadata": {},
   "source": [
    "A Sorting Algorithm is used to rearrange a given array or list elements according to a comparison operator on the elements. The comparison operator is used to decide the new order of element in the respective data structure."
   ]
  },
  {
   "cell_type": "markdown",
   "id": "65ca1c68-1e33-48ec-afe3-d2c068ed1a9a",
   "metadata": {},
   "source": [
    "### Bubble Sort\n",
    "Consider the list a, then consider each round of sorting as the list gets sorted by comparing the elements, after each round the largest number moves to it’s leftmost position. The steps are: \n",
    "\n",
    "1.  For the first iteration, compare all the elements (n). For subsequent runs, compare (n-1) (n-2) and so on.\n",
    "\n",
    "2.  Compare each element with its right side neighbour.\n",
    "\n",
    "3.  Swap the smallest element to the left.\n",
    "\n",
    "4.  Keep repeating steps 1-3 until the whole list is covered.\n",
    "\n",
    "`a = [6,8,1,3,0,5]`\n",
    "\n",
    "**Round 1:**\n",
    "\n",
    "0 - 6\\<8 (no swap) - \\[6,8,1,3,0,5\\]\n",
    "\n",
    "1 - 8\\>1 (swap) - \\[6,1,8,3,0,5\\]\n",
    "\n",
    "2 - 8\\>3 (swap) - \\[6,1,3,8,0,5\\]\n",
    "\n",
    "3 - 8\\>0 (swap) - \\[6,1,3,0,8,5\\]\n",
    "\n",
    "4 - 8\\>5 (swap) - \\[6,1,3,0,5,8\\]\n",
    "\n",
    "Note: 8 is in its correct place after round 1\n",
    "\n",
    "**Round 2:**\n",
    "\n",
    "0 - 6\\>1 (swap) - \\[1,6,3,0,5,8\\]\n",
    "\n",
    "1 - 6\\>3(swap) - \\[1,3,6,0,5,8\\]\n",
    "\n",
    "2 - 6\\>0(swap) - \\[1,3,0,6,8\\]\n",
    "\n",
    "3 - 6\\<8 (no swap) - \\[1,3,0,6,8\\] -- not needed\n",
    "\n",
    "Note: 6 is in its correct place after round 2\n",
    "\n",
    "**Round 3:**\n",
    "\n",
    "0 - 1\\<3 (no swap) - \\[1,3,0,6,8\\]\n",
    "\n",
    "1 - 3\\>0 (swap) - \\[1,0,3,6,8\\]\n",
    "\n",
    "2 - 3\\<6 (no swap) - \\[1,0,3,6,8\\]\n",
    "\n",
    "3 - 6\\<8 (no swap) - \\[1,0,3,6,8\\] -- not needed\n",
    "\n",
    "Note: 3 is in its correct place after round 3\n",
    "\n",
    "**Round 4:**\n",
    "\n",
    "0 - 1\\>0 (swap) - \\[0,1,3,6,8\\]\n",
    "\n",
    "1 - 1\\<3 (no swap) - \\[0,1,3,6,8\\]\n",
    "\n",
    "2 - 3\\<6 (no swap) - \\[0,1,3,6,8\\] -- not needed\n",
    "\n",
    "3 - 6\\<8 (no swap) - \\[0,1,3,6,8\\] -- not needed\n",
    "\n",
    "Note: 1 is in its correct place after round 4\n",
    "\n",
    "**Round 5:**\n",
    "\n",
    "0 - 0\\<1 (no swap) - \\[0,1,3,6,8\\]\n",
    "\n",
    "1 - 1\\<3 (no swap) - \\[0,1,3,6,8\\]-- not needed\n",
    "\n",
    "2 - 3\\<6 (no swap) - \\[0,1,3,6,8\\]-- not needed\n",
    "\n",
    "3 - 6\\<8 (no swap) - \\[0,1,3,6,8\\]-- not needed\n",
    "\n",
    "Note: 0 is in its correct place. Even though 0 was in its correct place in round 4, our algorithm does not understand that until the process is complete. The above unsorted list is not the worst case, the worst case unsorted list would be a list in descending order. For such a list, that contains n elements, we need to perform (n-1) swaps for it to be sorted in ascending order. Try this yourself. Observe how for the first round you need to sort all of the n elements, while on the second round you sort (n-1) elements and so on and so forth."
   ]
  },
  {
   "cell_type": "markdown",
   "id": "1c68038b-33d1-4763-8c09-c31257d9e481",
   "metadata": {},
   "source": [
    "### Merge Sort\n",
    "\n",
    "Merge Sort can be used to sort an unsorted list or to merge two sorted lists. The idea is to split the unsorted list into smaller groups until there is only one element in a group. Then, group two elements in the sorted order and gradually build the size of the group. Every time the merging happens, the elements in the groups must be compared one by one and combined into a single list in the sorted order. This process continues till all the elements are merged and sorted. Note that when the regrouping happens the sorted order must always be maintained.\n",
    "Consider the following example:\n",
    "\n",
    "` a = [5,9,1,2,7,0] `\n",
    "\n",
    "**Splitting**\n",
    "\n",
    "Step 1: [5,9,1] [2,7,0]\n",
    "\n",
    "Step 2: [5] [9,1] [2] [7,0]\n",
    "\n",
    "Step 3: [5\\] [9\\] [1\\] [2\\] [7\\] [0\\]\n",
    "\n",
    "Note: In Step 2, we are dealing with an odd number of elements in the group so we are arbitrarily splitting them. So, \\[5,9\\] \\[1\\] \\[2,7\\]\n",
    "\\[0\\] is also correct.\n",
    "\n",
    "**Merging**\n",
    "\n",
    "Step 4: \\[5,9\\] \\[1,2\\] \\[0,7\\]\n",
    "\n",
    "Step 5: \\[1,2,5,9\\]\\[0,7\\]\n",
    "\n",
    "Step 6: \\[0,1,2,5,7,9\\]\n",
    "\n",
    "\n",
    "#### Comparison\n",
    "\n",
    "Bubble sort is simpler to implement but slower, merge sort is slightly more complicated but can be quicker on large datasets."
   ]
  },
  {
   "cell_type": "code",
   "execution_count": 21,
   "id": "4b53b2da-51c2-4ae2-9809-02c082c71375",
   "metadata": {},
   "outputs": [
    {
     "name": "stdout",
     "output_type": "stream",
     "text": [
      "Michael loves python\n",
      "Mike loves python\n",
      "Mick loves python\n"
     ]
    }
   ],
   "source": [
    "def my_function_2(loves):\n",
    "    print(loves + \" loves python\")\n",
    "\n",
    "   \n",
    "# Call the function and pass an argument    \n",
    "my_function_2(\"Michael\")\n",
    "my_function_2(\"Mike\")\n",
    "my_function_2(\"Mick\")"
   ]
  },
  {
   "cell_type": "markdown",
   "id": "6dc80936-918f-4807-bc49-af66321e71e9",
   "metadata": {},
   "source": [
    "Arguments are often shortened to args in Python documentation. *Parameters or Arguments*? \n",
    "\n",
    "The terms parameter and argument can be used for the same thing. \n",
    "\n",
    "* A parameter is the variable listed inside the parentheses in the function definition. \n",
    "\n",
    "* An argument is the value that is sent to the function when it is called. By default, a function must be called with the correct number of arguments. Meaning that if your function expects 2 arguments, you have to call the function with 2 arguments, not more, and not less. Look at the following example: This function expects 2 arguments, and gets 2 arguments:\n",
    "\n",
    "```python\n",
    "def my_function(fname, lname):\n",
    "  print(fname + \" \" + lname)\n",
    "my_function(\"Michael\", \"Jordan\")\n",
    "```\n",
    "If the number of arguments is unknown, add a * before the parameter name:\n",
    "\n",
    "```python\n",
    "def my_function(*kids):\n",
    "  print(\"The number of children is \" + kids)\n",
    "my_function(\"Bill\", \"William\", \"Billybob\")\n",
    "```\n",
    "\n",
    "#### The Cheerleader Function\n",
    "\n",
    "In this task we will create a python program to print out the letters in a string in the style of a team of cheerleaders. First we need a string to pass into the program and an empty variable called letter:\n",
    "\n",
    "```python\n",
    "\n",
    "def cheer(input_value):\n",
    "\tletter = ' '\n",
    "\taaaas = 'cbdgpqktu'\n",
    "\tfor letter in input_value:\n",
    "    \tif letter in aaaas:\n",
    "            \tprint (\"Give me a: \")\n",
    "            \tprint (letter)\n",
    "    \telse:\n",
    "        \tprint (\"Give me an: \")\n",
    "        \tprint (letter)\n",
    "\tprint (\"Let's hear it for\")\n",
    "\tprint (input_value.upper())\n",
    "\tprint ('!!!')\n",
    "    \n",
    "```\n",
    "\n",
    "Now we need to pass a string into the body of the function, in this case let's send the function the string scotland and see how it is evaluated\n",
    "\n",
    "```cheer(\"Scotland\")```\n",
    "\n",
    "* Run the cheerleader function in the next cell"
   ]
  },
  {
   "cell_type": "code",
   "execution_count": 1,
   "id": "459ea489-8eac-4687-9515-b94ca5675bf5",
   "metadata": {},
   "outputs": [
    {
     "name": "stdout",
     "output_type": "stream",
     "text": [
      "Give me a: \n",
      "t\n",
      "Give me an: \n",
      "n\n",
      "Let's hear it for\n",
      "PYTHON\n",
      "!!!\n"
     ]
    }
   ],
   "source": [
    "# Cheerleader Function\n",
    "def cheer(input_value):\n",
    "    letter = ' '\n",
    "    aaaas = 'cbdgpqktu'\n",
    "    for letter in input_value:\n",
    "        if letter in aaaas:\n",
    "            print (\"Give me a: \")\n",
    "            print (letter)\n",
    "    else:\n",
    "        print (\"Give me an: \")\n",
    "        print (letter)\n",
    "        print (\"Let's hear it for\")\n",
    "        print (input_value.upper())\n",
    "        print ('!!!')\n",
    "    \n",
    "# Uncomment and pass an argument to the function    \n",
    "# cheer(\" \")"
   ]
  },
  {
   "cell_type": "markdown",
   "id": "75d23878-c4f6-4ed4-984e-2c97036f0cfd",
   "metadata": {
    "tags": []
   },
   "source": [
    "# Part 2 - Questions\n",
    "<div class=\"alert alert-block alert-success\">\n",
    "<b>How to answer: </b> Add your code to the code cell below each question.\n",
    "</div>"
   ]
  },
  {
   "cell_type": "markdown",
   "id": "a51c1218-2c3b-4305-9b51-4b066db6b6aa",
   "metadata": {
    "tags": []
   },
   "source": [
    "### Introduction\n",
    "\n",
    "The code in the next cell uses the random module to pick a number between 1 and 20, run this a few times and check you are getting different numbers."
   ]
  },
  {
   "cell_type": "markdown",
   "id": "118ec6b7-e632-495c-9a56-bc0bee04ffac",
   "metadata": {},
   "source": [
    "# Generates a number between 1 and 20, run to test\n",
    "import random\n",
    "number = random.randint(1,20)\n",
    "print (number)"
   ]
  },
  {
   "cell_type": "markdown",
   "id": "475d6fe1-80ae-4695-98d4-49851d81624a",
   "metadata": {},
   "source": [
    "1 Create a program that asks the user to enter a number between 1 and 1000, save this as a variable called `guess` and then print the number back to the user, saying `you chose X` where X is the number they entered?"
   ]
  },
  {
   "cell_type": "code",
   "execution_count": 23,
   "id": "db23833f-3383-44fa-b983-923a555bc4f4",
   "metadata": {},
   "outputs": [],
   "source": [
    "# code for Q1 below this line\n"
   ]
  },
  {
   "cell_type": "markdown",
   "id": "ce7f5bcd-17f1-4a34-9a61-5d5e7d45941f",
   "metadata": {},
   "source": [
    "2 Add code to the next cell to check if the guess is the same as the secret, print back to the user one of the following 3 responses.\n",
    "\n",
    "1. The guess is the same as the secret\n",
    "2. The guess is lower than the secret\n",
    "3. The guess is higher than the secret"
   ]
  },
  {
   "cell_type": "code",
   "execution_count": 24,
   "id": "4c35707f-2825-4f95-b882-89db42c43fa2",
   "metadata": {},
   "outputs": [],
   "source": [
    "import random\n",
    "secret = random.randint(1,1000)\n",
    "# code for Q2 below this line\n"
   ]
  },
  {
   "cell_type": "markdown",
   "id": "a5ab962c-53bb-48d1-8c10-901e91803044",
   "metadata": {},
   "source": [
    "3 Add the code to achieve the following, if the guess was the same as the secret (a 1 in 1000 chance) then the program should do nothing, however if the guess is lower than the secret, caclulate how much lower it is?"
   ]
  },
  {
   "cell_type": "code",
   "execution_count": 25,
   "id": "a20aa68b-1e3b-41d0-b67a-0967771c7979",
   "metadata": {},
   "outputs": [],
   "source": [
    "# code for Q3 below this line\n"
   ]
  },
  {
   "cell_type": "markdown",
   "id": "cdce2fe0-92de-4696-840c-5f8e0481cf1b",
   "metadata": {},
   "source": [
    "4 Add the code to achieve the following, if the guess was the same as the secret (a 1 in 1000 chance) then the program should do nothing, however if the guess is higher than the secret, caclulate how much higher it is?"
   ]
  },
  {
   "cell_type": "code",
   "execution_count": 26,
   "id": "e1507860-cbba-4827-9e10-3b0c992c5b05",
   "metadata": {},
   "outputs": [],
   "source": [
    "# code for Q4 below this line\n"
   ]
  },
  {
   "cell_type": "markdown",
   "id": "983a3822-bf8f-4ea8-8ae8-caad999c359f",
   "metadata": {},
   "source": [
    "5 If the guess is lower than the secret, using a loop add 1 to the guess and print out the new value until it is the same as the secret?"
   ]
  },
  {
   "cell_type": "code",
   "execution_count": 27,
   "id": "c3c8a7dc-4f2d-4533-9414-69865eeee637",
   "metadata": {},
   "outputs": [],
   "source": [
    "# code for Q5 below this line\n"
   ]
  },
  {
   "cell_type": "markdown",
   "id": "47f02552-e081-48aa-aa72-a1c4a6f2dc7b",
   "metadata": {},
   "source": [
    "6 If the guess is higher than the secret, using a loop subtract 1 from the guess and print out the new value until it is the same as the secret?"
   ]
  },
  {
   "cell_type": "code",
   "execution_count": 28,
   "id": "920ad8f2-af41-4e81-9c98-c9579cd6a754",
   "metadata": {},
   "outputs": [],
   "source": [
    "# code for Q6 below this line\n"
   ]
  },
  {
   "cell_type": "markdown",
   "id": "0c11be87-3a9f-4818-a333-caff10ae0ae4",
   "metadata": {},
   "source": [
    "<div class=\"alert alert-block alert-danger\">\n",
    "    <b>Challenge Questions:</b> Write a program that uses an interval-halving method?</div>"
   ]
  },
  {
   "cell_type": "markdown",
   "id": "42f35ac8-7c6a-4c74-80f2-0fd9bc787961",
   "metadata": {},
   "source": [
    "7 Write a program with a variable called `new_guess` that takes the guess and the secret and finds the halfway point between them, save the halfway point value in the `new_guess` variable and print it out?"
   ]
  },
  {
   "cell_type": "code",
   "execution_count": 29,
   "id": "f0bcdeb6-0857-4612-968b-4dbd33d15b42",
   "metadata": {},
   "outputs": [],
   "source": [
    "# code below this line for Q7\n"
   ]
  },
  {
   "cell_type": "markdown",
   "id": "5092a809-a200-4123-a146-39b04173b67c",
   "metadata": {},
   "source": [
    "8 Write a program that will repeat the steps in Q7 until the `new_guess` is the same as the `secret`, each time the `new_guess` variable is updated print out the new value? The program should say \"The value of the new guess is now X\" each time the variable is updated (where X is the value)"
   ]
  },
  {
   "cell_type": "code",
   "execution_count": 30,
   "id": "ec73c8f3-f085-4081-b11b-0e14811f1f27",
   "metadata": {},
   "outputs": [],
   "source": [
    "# code below this line for Q8\n"
   ]
  }
 ],
 "metadata": {
  "kernelspec": {
   "display_name": "Python 3 (ipykernel)",
   "language": "python",
   "name": "python3"
  },
  "language_info": {
   "codemirror_mode": {
    "name": "ipython",
    "version": 3
   },
   "file_extension": ".py",
   "mimetype": "text/x-python",
   "name": "python",
   "nbconvert_exporter": "python",
   "pygments_lexer": "ipython3",
   "version": "3.9.2"
  },
  "toc-showmarkdowntxt": false
 },
 "nbformat": 4,
 "nbformat_minor": 5
}
