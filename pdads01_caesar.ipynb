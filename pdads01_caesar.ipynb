{
 "cells": [
  {
   "cell_type": "markdown",
   "id": "0766dc7c",
   "metadata": {},
   "source": [
    "# PDA data science - python practice with ciphers\n",
    "<div class=\"alert alert-block alert-info\"> \n",
    "    Notebook 1: by michael.ferrie@edinburghcollege.ac.uk <br> Edinburgh College, March 2022\n",
    "</div>"
   ]
  },
  {
   "cell_type": "markdown",
   "id": "ac9d0cd2",
   "metadata": {},
   "source": [
    "In cryptography, a Caesar cipher, also known as Caesar's cipher, the shift cipher, Caesar's code or Caesar shift, is one of the simplest and most widely known encryption techniques. It is a type of substitution cipher in which each letter in the plaintext is replaced by a letter some fixed number of positions down the alphabet. For example, with a left shift of 3, D would be replaced by A, E would become B, and so on. The method is named after Julius Caesar, who used it in his private correspondence.\n",
    "\n",
    "Encryption can also be represented using modular arithmetic by first transforming the letters into numbers, according to the scheme, A → 0, B → 1, ..., Z → 25. Encryption of a letter x by a shift n can be described mathematically as:\n",
    "\n",
    "$$ {\\displaystyle E_{n}(x)=(x+n)\\mod {26}.}  $$\n",
    "\n",
    "\n",
    "Decryption is performed similarly:\n",
    "\n",
    "$$ {\\displaystyle D_{n}(x)=(x+n)\\mod {26}.}  $$\n",
    "\n",
    "There are different definitions for the modulo operation. Often in python using lists we need to use the range 0 to 25 due to indexing starting at 0. Look at the following example then answer the questions below.\n",
    "\n",
    "First a list of letters is created called `letters`. Then two variables are hardcoded, `key` and `value` representing the input to the program. Then a for loop gets the index of the value and increments it by the key, modulus 26, then prints out the value at the new index in the list. This program only works for a right shift in the alphabet."
   ]
  },
  {
   "cell_type": "code",
   "execution_count": 5,
   "id": "fa9f8297",
   "metadata": {
    "tags": []
   },
   "outputs": [
    {
     "ename": "NameError",
     "evalue": "name 'value' is not defined",
     "output_type": "error",
     "traceback": [
      "\u001b[0;31m---------------------------------------------------------------------------\u001b[0m",
      "\u001b[0;31mNameError\u001b[0m                                 Traceback (most recent call last)",
      "\u001b[0;32m/tmp/ipykernel_25074/993902536.py\u001b[0m in \u001b[0;36m<module>\u001b[0;34m\u001b[0m\n\u001b[1;32m      9\u001b[0m \u001b[0;34m\u001b[0m\u001b[0m\n\u001b[1;32m     10\u001b[0m \u001b[0;31m# Loop over value and find new index in list based on key\u001b[0m\u001b[0;34m\u001b[0m\u001b[0;34m\u001b[0m\u001b[0;34m\u001b[0m\u001b[0m\n\u001b[0;32m---> 11\u001b[0;31m \u001b[0;32mfor\u001b[0m \u001b[0mstr\u001b[0m \u001b[0;32min\u001b[0m \u001b[0mvalue\u001b[0m\u001b[0;34m:\u001b[0m\u001b[0;34m\u001b[0m\u001b[0;34m\u001b[0m\u001b[0m\n\u001b[0m\u001b[1;32m     12\u001b[0m     \u001b[0mindex\u001b[0m \u001b[0;34m=\u001b[0m \u001b[0mletters\u001b[0m\u001b[0;34m.\u001b[0m\u001b[0mindex\u001b[0m\u001b[0;34m(\u001b[0m\u001b[0mstr\u001b[0m\u001b[0;34m)\u001b[0m\u001b[0;34m\u001b[0m\u001b[0;34m\u001b[0m\u001b[0m\n\u001b[1;32m     13\u001b[0m     \u001b[0mindex\u001b[0m \u001b[0;34m+=\u001b[0m \u001b[0mkey\u001b[0m\u001b[0;34m\u001b[0m\u001b[0;34m\u001b[0m\u001b[0m\n",
      "\u001b[0;31mNameError\u001b[0m: name 'value' is not defined"
     ]
    }
   ],
   "source": [
    "# Create letters list\n",
    "letters = ['a', 'b', 'c', 'd', 'e', 'f', 'g', 'h', 'i', 'j', 'k', 'l', 'm',\n",
    "           'n', 'o', 'p', 'q', 'r', 's', 't', 'u', 'v', 'w', 'x', 'y', 'z']\n",
    "\n",
    "# Define key and value\n",
    "key = 3\n",
    "#value = 'hello there'\n",
    "#test_value = 'jfzexbi'\n",
    "\n",
    "# Loop over value and find new index in list based on key\n",
    "for str in value:\n",
    "    index = letters.index(str)\n",
    "    index += key\n",
    "    index %= 26\n",
    "    print(letters[index])"
   ]
  },
  {
   "cell_type": "markdown",
   "id": "7f8939ee",
   "metadata": {},
   "source": [
    "### Questions"
   ]
  },
  {
   "cell_type": "markdown",
   "id": "6ca494f5",
   "metadata": {},
   "source": [
    "1) Adapt the program in the next cell, so that it can handle spaces in the value variable?"
   ]
  },
  {
   "cell_type": "code",
   "execution_count": 2,
   "id": "18827f8b",
   "metadata": {},
   "outputs": [
    {
     "name": "stdout",
     "output_type": "stream",
     "text": [
      "j\n"
     ]
    }
   ],
   "source": [
    "# Create letters list\n",
    "letters = ['a', 'b', 'c', 'd', 'e', 'f', 'g', 'h', 'i', 'j', 'k', 'l', 'm',\n",
    "           'n', 'o', 'p', 'q', 'r', 's', 't', 'u', 'v', 'w', 'x', 'y', 'z']\n",
    "\n",
    "# Define key and value\n",
    "key = 2\n",
    "value = 'h'\n",
    "\n",
    "# Loop over letters, find new value in list by key\n",
    "for str in value:\n",
    "    index = letters.index(str)\n",
    "    index += key\n",
    "    index %= 26\n",
    "    print(letters[index])"
   ]
  },
  {
   "cell_type": "markdown",
   "id": "63880764",
   "metadata": {},
   "source": [
    "2) Adapt the program in the next cell, so that the program asks the user to enter the value?"
   ]
  },
  {
   "cell_type": "code",
   "execution_count": 3,
   "id": "430efd5f",
   "metadata": {
    "tags": []
   },
   "outputs": [
    {
     "name": "stdout",
     "output_type": "stream",
     "text": [
      "j\n"
     ]
    }
   ],
   "source": [
    "# Create letters list\n",
    "letters = ['a', 'b', 'c', 'd', 'e', 'f', 'g', 'h', 'i', 'j', 'k', 'l', 'm',\n",
    "           'n', 'o', 'p', 'q', 'r', 's', 't', 'u', 'v', 'w', 'x', 'y', 'z']\n",
    "\n",
    "# Define key and value\n",
    "key = 2\n",
    "value = 'h'\n",
    "\n",
    "# Loop over letters, find new value in list by key\n",
    "for str in value:\n",
    "    index = letters.index(str)\n",
    "    index += key\n",
    "    index %= 26\n",
    "    print(letters[index])"
   ]
  },
  {
   "cell_type": "markdown",
   "id": "c25e77d2",
   "metadata": {},
   "source": [
    "3) Adapt the program in the next cell, so that the program asks the user to enter the key?"
   ]
  },
  {
   "cell_type": "code",
   "execution_count": 4,
   "id": "da11dc0d",
   "metadata": {
    "tags": []
   },
   "outputs": [
    {
     "name": "stdout",
     "output_type": "stream",
     "text": [
      "j\n"
     ]
    }
   ],
   "source": [
    "# Create letters list\n",
    "letters = ['a', 'b', 'c', 'd', 'e', 'f', 'g', 'h', 'i', 'j', 'k', 'l', 'm',\n",
    "           'n', 'o', 'p', 'q', 'r', 's', 't', 'u', 'v', 'w', 'x', 'y', 'z']\n",
    "\n",
    "# Define key and value\n",
    "key = 2\n",
    "value = 'h'\n",
    "\n",
    "# Loop over letters, find new value in list by key\n",
    "for str in value:\n",
    "    index = letters.index(str)\n",
    "    index += key\n",
    "    index %= 26\n",
    "    print(letters[index])"
   ]
  },
  {
   "cell_type": "markdown",
   "id": "dd8d7b25",
   "metadata": {},
   "source": [
    "4) Adapt the program in the next cell so that it can accept uppercase letters and convert them to lowercase?"
   ]
  },
  {
   "cell_type": "code",
   "execution_count": 8,
   "id": "e8bb62c5",
   "metadata": {},
   "outputs": [
    {
     "name": "stdout",
     "output_type": "stream",
     "text": [
      "j\n"
     ]
    }
   ],
   "source": [
    "# Create letters list\n",
    "letters = ['a', 'b', 'c', 'd', 'e', 'f', 'g', 'h', 'i', 'j', 'k', 'l', 'm',\n",
    "           'n', 'o', 'p', 'q', 'r', 's', 't', 'u', 'v', 'w', 'x', 'y', 'z']\n",
    "\n",
    "# Define key and value\n",
    "key = 2\n",
    "value = 'h'\n",
    "\n",
    "# Loop over letters, find new value in list by key\n",
    "for str in value:\n",
    "    index = letters.index(str)\n",
    "    index += key\n",
    "    index %= 26\n",
    "    print(letters[index])"
   ]
  },
  {
   "cell_type": "markdown",
   "id": "7e58989f",
   "metadata": {},
   "source": [
    "5) Combine all of your improvements to the program into a new final program and add some exception handling. \n",
    "\n",
    "* The program should stop with an error message if the user enters an integer as a value or a non-interger as a key.\n",
    "* The program should say `Error: Values must be alphabetical and keys must be numeric` if incorrect values are entered.\n",
    "* Add useful comments to the program describing what it does."
   ]
  },
  {
   "cell_type": "code",
   "execution_count": null,
   "id": "6a2c1e8e",
   "metadata": {},
   "outputs": [],
   "source": [
    "# Create letters list\n",
    "letters = ['a', 'b', 'c', 'd', 'e', 'f', 'g', 'h', 'i', 'j', 'k', 'l', 'm',\n",
    "           'n', 'o', 'p', 'q', 'r', 's', 't', 'u', 'v', 'w', 'x', 'y', 'z']\n",
    "\n",
    "# Answer for Q5 here:\n",
    "\n"
   ]
  },
  {
   "cell_type": "markdown",
   "id": "4108e31c-b7a3-462a-a62e-ab280f94172f",
   "metadata": {},
   "source": [
    "6. The biggest limitation of the Caesar Cipher is that if the key is intercepted, the message can easily be decoded, there is a far stronger form of encryption known as the [One Time Pad (OTP)](https://www.cryptomuseum.com/crypto/otp/index.htm), in which a unique key is generated for every message and is used only once.\n",
    "\n",
    "* Write a program, that is an adaptation of the program from question 5. \n",
    "* It should still ask the user to input a value to encrypt, but this time your program should also generate a list of random numbers from 1-26 called `otp_list` that is the same length as the value string, this will be our key stream.\n",
    "* Each character in the value string should be matched to it's position in the `letters` list and then be shifted by the corresponding number in the `otp_list`\n",
    "* Then use this to to output the value and the value encrypted by the OTP Cipher.\n",
    "\n",
    "For example if the value string was input as `cat` and a OTP list was generated of `234` the program should shift the c by 2, the a by 3 and the t by 4, resulting in: `edx`."
   ]
  },
  {
   "cell_type": "code",
   "execution_count": 6,
   "id": "33115af2-0c2b-451f-995c-05abe0ea9d02",
   "metadata": {},
   "outputs": [],
   "source": [
    "# Answer for Q6 here\n",
    "\n",
    "\n"
   ]
  },
  {
   "cell_type": "markdown",
   "id": "7f4828c4-41d9-458a-8bfb-79868ae3b5ad",
   "metadata": {},
   "source": [
    "<div class=\"alert alert-block alert-warning\">\n",
    "<b>Challenge questions:</b> If you found the other questions easy, attempt to complete these.\n",
    "</div>"
   ]
  },
  {
   "cell_type": "markdown",
   "id": "e95ef708-bd9f-4d31-a7e0-32e91c7b7dd9",
   "metadata": {},
   "source": [
    "7. Now we have created two programs for generating ciphers, now let's look at a way to send the information over a network, it is common to perform an XOR bitwise operation on a value and it's key to generate an encrypted message.\n",
    "\n",
    "* Adapt the following code to perform the exclusive or XOR operation on the key and the value to generate a cipher.\n",
    "\n",
    "* Iterate over the key and the value and generate the XOR value."
   ]
  },
  {
   "cell_type": "code",
   "execution_count": 15,
   "id": "5505ca5c-6a26-4b1c-82bf-eb9061b3c1a3",
   "metadata": {},
   "outputs": [
    {
     "name": "stdout",
     "output_type": "stream",
     "text": [
      "01101000 01100101 01101100 01101100 01101111\n",
      "00110001 00110010 00110011 00110100 00110101\n",
      "False\n",
      "True\n",
      "True\n",
      "False\n"
     ]
    }
   ],
   "source": [
    "# Converting values to ciphertext\n",
    "value = \"hello\"\n",
    "print(\" \".join(f\"{ord(i):08b}\" for i in value))\n",
    "\n",
    "key = \"12345\"\n",
    "print(\" \".join(f\"{ord(i):08b}\" for i in key))\n",
    "\n",
    "# Generating XOR's\n",
    "def xor(x, y):\n",
    "    return bool((x and not y) or (not x and y))\n",
    "print(xor(0,0))\n",
    "print(xor(0,1))\n",
    "print(xor(1,0))\n",
    "print(xor(1,1))"
   ]
  },
  {
   "cell_type": "code",
   "execution_count": null,
   "id": "35a5d742-c055-4696-bc56-12926ac41b46",
   "metadata": {},
   "outputs": [],
   "source": [
    "# Your code here for Q7\n",
    "\n",
    "\n"
   ]
  },
  {
   "cell_type": "markdown",
   "id": "1442fe63-e93e-441a-ad07-b1616821306a",
   "metadata": {},
   "source": [
    "8. As shown here XOR works to generate a cipher because it is it's own inverse. In such that \n",
    "𝑎 = (𝑎 ⊕ 𝑏) ⊕ 𝑏\n",
    "\n",
    "* Write a program to demonstrate that using your key and value from question 7, you can XOR the ciphertext back against the key to generate the value?\n",
    "* Once you have the value, use the decoder to turn it back into plain text"
   ]
  },
  {
   "cell_type": "code",
   "execution_count": 23,
   "id": "ae92de68-7a66-4c20-a37e-5ce8c80cc036",
   "metadata": {},
   "outputs": [
    {
     "data": {
      "text/plain": [
       "''"
      ]
     },
     "execution_count": 23,
     "metadata": {},
     "output_type": "execute_result"
    }
   ],
   "source": [
    "# Decoder function\n",
    "def decode_binary_string(s):\n",
    "    return ''.join(chr(int(s[i*8:i*8+8],2)) for i in range(len(s)//8))\n",
    "x='hl'\n",
    "decode_binary_string(x)"
   ]
  },
  {
   "cell_type": "code",
   "execution_count": null,
   "id": "2ba04f2e-94b9-463b-8646-53ad556af611",
   "metadata": {},
   "outputs": [],
   "source": [
    "# Your code here for Q8\n",
    "\n",
    "\n"
   ]
  }
 ],
 "metadata": {
  "kernelspec": {
   "display_name": "Python 3 (ipykernel)",
   "language": "python",
   "name": "python3"
  },
  "language_info": {
   "codemirror_mode": {
    "name": "ipython",
    "version": 3
   },
   "file_extension": ".py",
   "mimetype": "text/x-python",
   "name": "python",
   "nbconvert_exporter": "python",
   "pygments_lexer": "ipython3",
   "version": "3.9.2"
  }
 },
 "nbformat": 4,
 "nbformat_minor": 5
}
