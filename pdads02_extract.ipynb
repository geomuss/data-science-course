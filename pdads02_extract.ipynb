{
 "cells": [
  {
   "cell_type": "markdown",
   "id": "6cbdb49b",
   "metadata": {},
   "source": [
    "# PDA data science - extract data using python\n",
    "<div class=\"alert alert-block alert-info\"> \n",
    "    Notebook 2: by michael.ferrie@edinburghcollege.ac.uk <br> Edinburgh College, March 2022\n",
    "</div>"
   ]
  },
  {
   "cell_type": "markdown",
   "id": "871f1f53",
   "metadata": {},
   "source": [
    "# Introduction\n",
    "\n",
    "This notebook should help you to work with different types of data, read through the notebook and run the examples. Download the files from Moodle to run the examples on, make sure you have the files in the same directory as this notebook (or add the path).\n",
    "\n",
    "* Raw text files\n",
    "* JSON files\n",
    "* CSV files"
   ]
  },
  {
   "cell_type": "markdown",
   "id": "e3ab47e2-4f8c-4cdb-8093-dea50ab482cb",
   "metadata": {},
   "source": [
    "## Raw text sources\n",
    "\n",
    "### Open and close manually\n",
    "Python has a few ways of getting data from files, `gettysburg.txt` is a simple text file, first check if the file exists in the path, change the path to the location of the file on your computer."
   ]
  },
  {
   "cell_type": "code",
   "execution_count": 1,
   "id": "5f8e2d4a",
   "metadata": {},
   "outputs": [
    {
     "data": {
      "text/plain": [
       "True"
      ]
     },
     "execution_count": 1,
     "metadata": {},
     "output_type": "execute_result"
    }
   ],
   "source": [
    "# This will return true if file exists\n",
    "\n",
    "import os.path\n",
    "# Change this path here\n",
    "file1 = \"C:\\This PC\\gettysburg.txt\"\n",
    "os.path.exists(file1)"
   ]
  },
  {
   "cell_type": "code",
   "execution_count": 2,
   "id": "f4371ca3-7f84-493b-bbe3-39a717f47cca",
   "metadata": {},
   "outputs": [
    {
     "name": "stdout",
     "output_type": "stream",
     "text": [
      "Fourscore and seven years ago our fathers brought forth on this continent\n",
      "a new nation, conceived in Liberty, and dedicated to the proposition that all men are created equal.\n",
      "Now we are engaged in a great civil war, testing whether that nation, \n",
      "or any nation so conceived and so dedicated, can long endure. \n",
      "We are met on a great battle-field of that war. \n",
      "We have come to dedicate a portion of that field, \n",
      "as a final resting place for those who here gave their lives that that nation might live. \n",
      "It is altogether fitting and proper that we should do this.\n",
      "But, in a larger sense, we can not dedicate-we can not consecrate-we can not hallow-this ground. \n",
      "The brave men, living and dead, who struggled here, have consecrated it, \n",
      "far above our poor power to add or detract. \n",
      "The world will little note, nor long remember what we say here, \n",
      "but it can never forget what they did here. \n",
      "It is for us the living, rather, \n",
      "to be dedicated here to the unfinished work which they who fought here have thus far so nobly advanced. \n",
      "It is rather for us to be here dedicated to the great task \n",
      "remaining before us-that from these honored dead we take increased devotion \n",
      "to that cause for which they gave the last full measure of devotion\n",
      "that we here highly resolve that these dead shall not have died in vain-that \n",
      "this nation, \n",
      "under God, \n",
      "shall have a new birth of freedom\n",
      "and that government of the people, \n",
      "by the people, \n",
      "for the people shall not perish from the earth.\n"
     ]
    }
   ],
   "source": [
    "# open file1.txt for reading text, rt means read text\n",
    "myfile = open(file1, \"rt\")\n",
    "\n",
    "# read the entire file to string\n",
    "contents = myfile.read()\n",
    "\n",
    "# close the file\n",
    "myfile.close()\n",
    "\n",
    "# print string contents\n",
    "print(contents)       "
   ]
  },
  {
   "cell_type": "markdown",
   "id": "ab1073e0-b5cb-4cdc-b467-ca826521caa5",
   "metadata": {},
   "source": [
    "### With open\n",
    "\n",
    "Using with open is another method that will automatically close the file once the code is finished, it is important to close the file as soon we are finished with it, we don't want to keep the program in the memory."
   ]
  },
  {
   "cell_type": "code",
   "execution_count": 3,
   "id": "a81e55b1",
   "metadata": {},
   "outputs": [
    {
     "name": "stdout",
     "output_type": "stream",
     "text": [
      "Fourscore and seven years ago our fathers brought forth on this continent\n",
      "a new nation, conceived in Liberty, and dedicated to the proposition that all men are created equal.\n",
      "Now we are engaged in a great civil war, testing whether that nation, \n",
      "or any nation so conceived and so dedicated, can long endure. \n",
      "We are met on a great battle-field of that war. \n",
      "We have come to dedicate a portion of that field, \n",
      "as a final resting place for those who here gave their lives that that nation might live. \n",
      "It is altogether fitting and proper that we should do this.\n",
      "But, in a larger sense, we can not dedicate-we can not consecrate-we can not hallow-this ground. \n",
      "The brave men, living and dead, who struggled here, have consecrated it, \n",
      "far above our poor power to add or detract. \n",
      "The world will little note, nor long remember what we say here, \n",
      "but it can never forget what they did here. \n",
      "It is for us the living, rather, \n",
      "to be dedicated here to the unfinished work which they who fought here have thus far so nobly advanced. \n",
      "It is rather for us to be here dedicated to the great task \n",
      "remaining before us-that from these honored dead we take increased devotion \n",
      "to that cause for which they gave the last full measure of devotion\n",
      "that we here highly resolve that these dead shall not have died in vain-that \n",
      "this nation, \n",
      "under God, \n",
      "shall have a new birth of freedom\n",
      "and that government of the people, \n",
      "by the people, \n",
      "for the people shall not perish from the earth.\n"
     ]
    }
   ],
   "source": [
    "# with open, print, then close the contents\n",
    "\n",
    "with open (file1, 'rt') as myfile:  \n",
    "    contents = myfile.read()              \n",
    "print(contents)                    "
   ]
  },
  {
   "cell_type": "markdown",
   "id": "45155fd2",
   "metadata": {},
   "source": [
    "### Line by line\n",
    "\n",
    "Sometimes we may want to read the file line by line, we can do this using with open and a for loop."
   ]
  },
  {
   "cell_type": "code",
   "execution_count": 4,
   "id": "f6db33ab",
   "metadata": {
    "tags": []
   },
   "outputs": [
    {
     "name": "stdout",
     "output_type": "stream",
     "text": [
      "Fourscore and seven years ago our fathers brought forth on this continent\n",
      "\n",
      "a new nation, conceived in Liberty, and dedicated to the proposition that all men are created equal.\n",
      "\n",
      "Now we are engaged in a great civil war, testing whether that nation, \n",
      "\n",
      "or any nation so conceived and so dedicated, can long endure. \n",
      "\n",
      "We are met on a great battle-field of that war. \n",
      "\n",
      "We have come to dedicate a portion of that field, \n",
      "\n",
      "as a final resting place for those who here gave their lives that that nation might live. \n",
      "\n",
      "It is altogether fitting and proper that we should do this.\n",
      "\n",
      "But, in a larger sense, we can not dedicate-we can not consecrate-we can not hallow-this ground. \n",
      "\n",
      "The brave men, living and dead, who struggled here, have consecrated it, \n",
      "\n",
      "far above our poor power to add or detract. \n",
      "\n",
      "The world will little note, nor long remember what we say here, \n",
      "\n",
      "but it can never forget what they did here. \n",
      "\n",
      "It is for us the living, rather, \n",
      "\n",
      "to be dedicated here to the unfinished work which they who fought here have thus far so nobly advanced. \n",
      "\n",
      "It is rather for us to be here dedicated to the great task \n",
      "\n",
      "remaining before us-that from these honored dead we take increased devotion \n",
      "\n",
      "to that cause for which they gave the last full measure of devotion\n",
      "\n",
      "that we here highly resolve that these dead shall not have died in vain-that \n",
      "\n",
      "this nation, \n",
      "\n",
      "under God, \n",
      "\n",
      "shall have a new birth of freedom\n",
      "\n",
      "and that government of the people, \n",
      "\n",
      "by the people, \n",
      "\n",
      "for the people shall not perish from the earth.\n"
     ]
    }
   ],
   "source": [
    "# read file line by line\n",
    "\n",
    "with open (file1, 'rt') as myfile:  \n",
    "    for myline in myfile:              \n",
    "        print(myline)"
   ]
  },
  {
   "cell_type": "markdown",
   "id": "95260f4b-7638-4333-9887-7a092cd6a42f",
   "metadata": {},
   "source": [
    "### Putting lines in a list\n",
    "\n",
    "We can read the file line by line and put each line in a list. We can use the read lines function, then loop over the file and append the lines into a list. Each line becomes a new item in the list."
   ]
  },
  {
   "cell_type": "code",
   "execution_count": 5,
   "id": "3157fa55-dba6-4b26-ba8c-9b75c6b42422",
   "metadata": {},
   "outputs": [
    {
     "name": "stdout",
     "output_type": "stream",
     "text": [
      "['Fourscore and seven years ago our fathers brought forth on this continent\\n', 'a new nation, conceived in Liberty, and dedicated to the proposition that all men are created equal.\\n', 'Now we are engaged in a great civil war, testing whether that nation, \\n', 'or any nation so conceived and so dedicated, can long endure. \\n', 'We are met on a great battle-field of that war. \\n', 'We have come to dedicate a portion of that field, \\n', 'as a final resting place for those who here gave their lives that that nation might live. \\n', 'It is altogether fitting and proper that we should do this.\\n', 'But, in a larger sense, we can not dedicate-we can not consecrate-we can not hallow-this ground. \\n', 'The brave men, living and dead, who struggled here, have consecrated it, \\n', 'far above our poor power to add or detract. \\n', 'The world will little note, nor long remember what we say here, \\n', 'but it can never forget what they did here. \\n', 'It is for us the living, rather, \\n', 'to be dedicated here to the unfinished work which they who fought here have thus far so nobly advanced. \\n', 'It is rather for us to be here dedicated to the great task \\n', 'remaining before us-that from these honored dead we take increased devotion \\n', 'to that cause for which they gave the last full measure of devotion\\n', 'that we here highly resolve that these dead shall not have died in vain-that \\n', 'this nation, \\n', 'under God, \\n', 'shall have a new birth of freedom\\n', 'and that government of the people, \\n', 'by the people, \\n', 'for the people shall not perish from the earth.']\n"
     ]
    }
   ],
   "source": [
    "# first make an empty list\n",
    "my_lines = []\n",
    "\n",
    "# then open the file and read the lines\n",
    "my_file = open(file1)\n",
    "all_the_lines = my_file.readlines()\n",
    "\n",
    "# loop over the file appending lines to the list\n",
    "for i in all_the_lines:\n",
    "    my_lines.append(i)\n",
    "print(my_lines)              "
   ]
  },
  {
   "cell_type": "markdown",
   "id": "f705a037-aefb-4152-97c3-c4033e04a89d",
   "metadata": {},
   "source": [
    "### Accessing items in the list\n",
    "\n",
    "Access the items in the list using the index numbers indexing starts at zero."
   ]
  },
  {
   "cell_type": "code",
   "execution_count": 6,
   "id": "6a7b0c20-2760-4a66-960c-ad3a782027c8",
   "metadata": {},
   "outputs": [
    {
     "name": "stdout",
     "output_type": "stream",
     "text": [
      "Fourscore and seven years ago our fathers brought forth on this continent\n",
      "\n"
     ]
    }
   ],
   "source": [
    "# print whole list\n",
    "print(my_lines[0])"
   ]
  },
  {
   "cell_type": "code",
   "execution_count": 7,
   "id": "7a4acc28-e367-426e-9763-7457ac155ee4",
   "metadata": {},
   "outputs": [
    {
     "name": "stdout",
     "output_type": "stream",
     "text": [
      "['Fourscore and seven years ago our fathers brought forth on this continent\\n', 'a new nation, conceived in Liberty, and dedicated to the proposition that all men are created equal.\\n', 'Now we are engaged in a great civil war, testing whether that nation, \\n']\n"
     ]
    }
   ],
   "source": [
    "# print a range\n",
    "print(my_lines[0:3])"
   ]
  },
  {
   "cell_type": "code",
   "execution_count": 8,
   "id": "0f5c14bc-8691-4d31-9aaf-9df4abb435b5",
   "metadata": {},
   "outputs": [
    {
     "name": "stdout",
     "output_type": "stream",
     "text": [
      "['Fourscore and seven years ago our fathers brought forth on this continent\\n', 'Now we are engaged in a great civil war, testing whether that nation, \\n', 'We are met on a great battle-field of that war. \\n', 'as a final resting place for those who here gave their lives that that nation might live. \\n', 'But, in a larger sense, we can not dedicate-we can not consecrate-we can not hallow-this ground. \\n']\n"
     ]
    }
   ],
   "source": [
    "# print every second line\n",
    "# the 3rd parameter is called step, setp over every second line\n",
    "print(my_lines[0:10:2])"
   ]
  },
  {
   "cell_type": "code",
   "execution_count": 9,
   "id": "f22fa3f4-5a1d-4451-9e14-971efe0f349c",
   "metadata": {},
   "outputs": [
    {
     "name": "stdout",
     "output_type": "stream",
     "text": [
      "for the people shall not perish from the earth.\n"
     ]
    }
   ],
   "source": [
    "# print last line using negative indexing\n",
    "print(my_lines[-1])"
   ]
  },
  {
   "cell_type": "code",
   "execution_count": 10,
   "id": "d9088b2a-5025-4210-8021-f89dd79f6441",
   "metadata": {},
   "outputs": [
    {
     "name": "stdout",
     "output_type": "stream",
     "text": [
      "by the people, \n",
      "\n"
     ]
    }
   ],
   "source": [
    "# print second last line using negative indexing\n",
    "print(my_lines[-2])"
   ]
  },
  {
   "cell_type": "code",
   "execution_count": 11,
   "id": "a1665dc2-041a-4d3c-8230-0d221d26d957",
   "metadata": {},
   "outputs": [
    {
     "name": "stdout",
     "output_type": "stream",
     "text": [
      "['and that government of the people, \\n', 'by the people, \\n', 'for the people shall not perish from the earth.']\n"
     ]
    }
   ],
   "source": [
    "# print last 3 lines\n",
    "print(my_lines[-3:])"
   ]
  },
  {
   "cell_type": "markdown",
   "id": "80468f50-6285-4034-b6f0-d88b73e05997",
   "metadata": {},
   "source": [
    "### Search the file\n",
    "We can add a conditional into the for loop and while we loop over the file we can check for a match."
   ]
  },
  {
   "cell_type": "code",
   "execution_count": 12,
   "id": "59bb0e80-7d41-4933-a368-fdb1c4569b52",
   "metadata": {},
   "outputs": [
    {
     "name": "stdout",
     "output_type": "stream",
     "text": [
      "we\n",
      "Now we are engaged in a great civil war, testing whether that nation, \n",
      "\n",
      "we\n",
      "It is altogether fitting and proper that we should do this.\n",
      "\n",
      "we\n",
      "But, in a larger sense, we can not dedicate-we can not consecrate-we can not hallow-this ground. \n",
      "\n",
      "we\n",
      "far above our poor power to add or detract. \n",
      "\n",
      "we\n",
      "The world will little note, nor long remember what we say here, \n",
      "\n",
      "we\n",
      "remaining before us-that from these honored dead we take increased devotion \n",
      "\n",
      "we\n",
      "that we here highly resolve that these dead shall not have died in vain-that \n",
      "\n"
     ]
    }
   ],
   "source": [
    "# string to find, return every line with 'we' in it\n",
    "my_string = 'we'\n",
    "\n",
    "for item in my_lines:\n",
    "    if my_string in item:\n",
    "        print(my_string)\n",
    "        print(item)"
   ]
  },
  {
   "cell_type": "markdown",
   "id": "3f3a6e5c-671c-4216-be5a-f9726ba8992c",
   "metadata": {},
   "source": [
    "## JSON files\n",
    "JSON stands for JavaScript Object Notation, JSON is a lightweight format for storing and transporting data. JSON is often used when data is sent from a server to a web page, JSON is \"self-describing\" and easy to understand.\n",
    "\n",
    "Often we can manage large data sets in JSON files, as it allows data to be structured (in fact, this notebook file is actually a JSON file), `presidents.json` contains data on different US presidents. \n",
    "\n",
    "First, check that you can see the file by setting the path."
   ]
  },
  {
   "cell_type": "code",
   "execution_count": 13,
   "id": "7e43a295-2530-45f7-9fc1-282d6feff59a",
   "metadata": {},
   "outputs": [
    {
     "data": {
      "text/plain": [
       "True"
      ]
     },
     "execution_count": 13,
     "metadata": {},
     "output_type": "execute_result"
    }
   ],
   "source": [
    "# this will return true if file exists\n",
    "\n",
    "import os.path\n",
    "# Change this path here\n",
    "file2 = \"C:\\This PC\\presidents.json\"\n",
    "os.path.exists(file2)"
   ]
  },
  {
   "cell_type": "markdown",
   "id": "0b9360e9-d7f3-4541-b1cb-fd2acdd82a2e",
   "metadata": {},
   "source": [
    "### Reading whole JSON files\n",
    "We need to import the JSON library first, then we can work with the file. To parse the file open it and then use the load function to load and convert the data to a list of dictionaries."
   ]
  },
  {
   "cell_type": "code",
   "execution_count": 14,
   "id": "6fd0406b-213b-4cc5-9dca-96d8112b91c4",
   "metadata": {},
   "outputs": [
    {
     "name": "stdout",
     "output_type": "stream",
     "text": [
      "[{'number': 2, 'president': 'John Adams', 'birth_year': 1735, 'death_year': 1826, 'took_office': '1797-03-04', 'left_office': '1801-03-04', 'party': 'Federalist'}, {'number': 3, 'president': 'Thomas Jefferson', 'birth_year': 1743, 'death_year': 1826, 'took_office': '1801-03-04', 'left_office': '1809-03-04', 'party': 'Democratic-Republican'}]\n"
     ]
    }
   ],
   "source": [
    "# import library and open the file\n",
    "import json\n",
    "\n",
    "# the load method will convert the file\n",
    "with open(file2) as f:\n",
    "    data = json.load(f)\n",
    "    \n",
    "    # print the first 3 entries\n",
    "    print(data[1:3])\n",
    "    \n",
    "# close the file\n",
    "f.close()"
   ]
  },
  {
   "cell_type": "markdown",
   "id": "0a084fb6-abbf-4bea-87fb-806c1f812574",
   "metadata": {},
   "source": [
    "### Convert to Dictionary\n",
    "We can read the file as a dictionary, we should specify a key for the dictionary, we can use the number of the president for they key."
   ]
  },
  {
   "cell_type": "code",
   "execution_count": 15,
   "id": "16078d16-ed72-42ce-869e-e87e6f916a25",
   "metadata": {},
   "outputs": [
    {
     "name": "stdout",
     "output_type": "stream",
     "text": [
      "dict_keys([1, 2, 3, 4, 5, 6, 7, 8, 9, 10, 11, 12, 13, 14, 15, 16, 17, 18, 19, 20, 21, 22, 23, 24, 25, 26, 27, 28, 29, 30, 31, 32, 33, 34, 35, 36, 37, 38, 39, 40, 41, 42, 43, 44, 45, 46])\n",
      "{'number': 16, 'president': 'Abraham Lincoln', 'birth_year': 1809, 'death_year': 1865, 'took_office': '1861-03-04', 'left_office': '1865-04-15', 'party': 'Republican'}\n"
     ]
    }
   ],
   "source": [
    "# dictionary comprehension\n",
    "new_dict = {item['number']:item for item in data}\n",
    "\n",
    "# print new keys\n",
    "print(new_dict.keys())\n",
    "\n",
    "# use indexing to return values\n",
    "print(new_dict[16])"
   ]
  },
  {
   "cell_type": "markdown",
   "id": "8d6de00b-7ee4-4f1b-b9a9-de9917574267",
   "metadata": {},
   "source": [
    "## CSV files\n",
    "### Reading whole CSV files\n",
    "For this example we will use a file called `world_contries.csv`"
   ]
  },
  {
   "cell_type": "code",
   "execution_count": 3,
   "id": "3c3840d7-8533-4e0b-a41a-ca74eccfc744",
   "metadata": {},
   "outputs": [
    {
     "data": {
      "text/plain": [
       "True"
      ]
     },
     "execution_count": 3,
     "metadata": {},
     "output_type": "execute_result"
    }
   ],
   "source": [
    "# this will return true if file exists\n",
    "import os.path\n",
    "# Change this path here\n",
    "file3 = \"C:\\This PC\\world_countries.csv\"\n",
    "os.path.exists(file3)"
   ]
  },
  {
   "cell_type": "markdown",
   "id": "5ffb6be4-b971-49a9-8ce7-686bb23c50f6",
   "metadata": {},
   "source": [
    "### Print file line by line\n",
    "We can loop over each line in the file and print it out, using the basic CSV module and using `with open`."
   ]
  },
  {
   "cell_type": "code",
   "execution_count": 6,
   "id": "a8290757-336e-472e-aff7-3a40cdb7acab",
   "metadata": {
    "tags": []
   },
   "outputs": [
    {
     "ename": "IndentationError",
     "evalue": "expected an indented block (1240359211.py, line 14)",
     "output_type": "error",
     "traceback": [
      "\u001b[0;36m  File \u001b[0;32m\"/tmp/ipykernel_6838/1240359211.py\"\u001b[0;36m, line \u001b[0;32m14\u001b[0m\n\u001b[0;31m    #print(lines)\u001b[0m\n\u001b[0m                 ^\u001b[0m\n\u001b[0;31mIndentationError\u001b[0m\u001b[0;31m:\u001b[0m expected an indented block\n"
     ]
    }
   ],
   "source": [
    "# loop over csv file and print each line\n",
    "import csv\n",
    " \n",
    "# opening the CSV file\n",
    "with open(file3, mode ='r')as file:\n",
    "   \n",
    "  # reading the CSV file\n",
    "  csvFile = csv.reader(file)\n",
    " \n",
    "# displaying the contents of the CSV file\n",
    "# this gives a lot of output, so has been commented out\n",
    "# uncomment to see all lines\n",
    "  for lines in csvFile:\n",
    "        #print(lines)"
   ]
  },
  {
   "cell_type": "markdown",
   "id": "f07fe778-5c94-4a74-9400-7c316fb48c28",
   "metadata": {},
   "source": [
    "### Using Pandas\n",
    "A more elegant approach to reading files, and most commonly used in data science, is to open the file with the pandas library. However you may have to install pandas on your system first. This can be done with `pip install pandas` once we have pandas installed we can use this to read our file.\n",
    "\n",
    "* Pandas includes a powerful set of tools for working with data files\n",
    "* Once you have the datafile printing out, answer the questions in the next section\n",
    "* By convention we import pandas with the alias `pd`\n",
    "* Pandas creates a data frame with the data, by convention we use `df` for this\n",
    "* Pandas will give us a summary of the data\n",
    "* More documentation is available [here](https://pandas.pydata.org/pandas-docs/stable/reference/frame.html)"
   ]
  },
  {
   "cell_type": "code",
   "execution_count": 18,
   "id": "1d8805b7-e281-403a-bf14-e55abd485681",
   "metadata": {},
   "outputs": [
    {
     "name": "stdout",
     "output_type": "stream",
     "text": [
      "    Code  Longitude   Latitude               Country\n",
      "0     AD  42.546245   1.601554               Andorra\n",
      "1     AE  23.424076  53.847818  United Arab Emirates\n",
      "2     AF  33.939110  67.709953           Afghanistan\n",
      "3     AG  17.060816 -61.796428   Antigua and Barbuda\n",
      "4     AI  18.220554 -63.068615              Anguilla\n",
      "..   ...        ...        ...                   ...\n",
      "240   YE  15.552727  48.516388                 Yemen\n",
      "241   YT -12.827500  45.166244               Mayotte\n",
      "242   ZA -30.559482  22.937506          South Africa\n",
      "243   ZM -13.133897  27.849332                Zambia\n",
      "244   ZW -19.015438  29.154857              Zimbabwe\n",
      "\n",
      "[245 rows x 4 columns]\n"
     ]
    }
   ],
   "source": [
    "# first import and alias pandas\n",
    "import pandas as pd\n",
    "\n",
    "# set the path to the file here\n",
    "df = pd.read_csv (r'C:\\This PC\\world_countries.csv')\n",
    "print (df)"
   ]
  },
  {
   "cell_type": "code",
   "execution_count": 19,
   "id": "f35f1bd6-24f4-4e12-8c64-50c467081f1a",
   "metadata": {
    "tags": []
   },
   "outputs": [
    {
     "name": "stdout",
     "output_type": "stream",
     "text": [
      "        Longitude    Latitude\n",
      "count  244.000000  244.000000\n",
      "mean    16.253109   13.294814\n",
      "std     27.031206   73.976477\n",
      "min    -75.250973 -177.156097\n",
      "25%     -0.301710  -38.092008\n",
      "50%     16.869235   18.182149\n",
      "75%     38.965238   49.046734\n",
      "max     77.553604  179.414413\n"
     ]
    }
   ],
   "source": [
    "# We can also get pandas to describe and summarise the data using describe\n",
    "print (df.describe())"
   ]
  },
  {
   "cell_type": "markdown",
   "id": "bcb8ca4e-4851-4a13-99be-9c82614425b4",
   "metadata": {},
   "source": [
    "### Subset the data to remove a single column\n",
    "Notice pandas lets you refer to the columns by their name as defined in row 1, which makes the file easy to work with.\n",
    "\n",
    "* Let's say we wanted to print the values in the ```Code``` column, look at the example of doing that in the next cell"
   ]
  },
  {
   "cell_type": "code",
   "execution_count": 20,
   "id": "6863f776-c3b2-40e4-8805-1d04fcb97e17",
   "metadata": {
    "tags": []
   },
   "outputs": [
    {
     "name": "stdout",
     "output_type": "stream",
     "text": [
      "0      AD\n",
      "1      AE\n",
      "2      AF\n",
      "3      AG\n",
      "4      AI\n",
      "       ..\n",
      "240    YE\n",
      "241    YT\n",
      "242    ZA\n",
      "243    ZM\n",
      "244    ZW\n",
      "Name: Code, Length: 245, dtype: object\n"
     ]
    }
   ],
   "source": [
    "# Pass the column to a variable then add .sum to sum\n",
    "my_fun_column = (df['Code'])\n",
    "print(my_fun_column)"
   ]
  },
  {
   "cell_type": "code",
   "execution_count": 21,
   "id": "178ee750-8514-4771-a6f0-2de8f07f97c5",
   "metadata": {},
   "outputs": [
    {
     "name": "stdout",
     "output_type": "stream",
     "text": [
      "16.2531093647541\n"
     ]
    }
   ],
   "source": [
    "# Calculate the mean of values in a column\n",
    "my_fun_column = (df['Longitude']).mean()\n",
    "print(my_fun_column)"
   ]
  },
  {
   "cell_type": "markdown",
   "id": "ab12788e-5641-406b-8e4a-4805653f9d82",
   "metadata": {
    "tags": []
   },
   "source": [
    "# Questions\n",
    "* Use pandas to answer the following questions, you'll need the file `realestatetransactions.csv`, check the file path exists first."
   ]
  },
  {
   "cell_type": "code",
   "execution_count": 22,
   "id": "dc468aee-8fca-468c-a9ac-c65e8d46162e",
   "metadata": {},
   "outputs": [
    {
     "data": {
      "text/plain": [
       "True"
      ]
     },
     "execution_count": 22,
     "metadata": {},
     "output_type": "execute_result"
    }
   ],
   "source": [
    "# Test you can see the file first by running this, change the path to suit your machine\n",
    "import os.path\n",
    "from os import path\n",
    "path.exists(\"C:\\This PC\\realestatetransactions.csv\")"
   ]
  },
  {
   "cell_type": "code",
   "execution_count": 23,
   "id": "114877d4-e972-408b-940d-b15ba703463d",
   "metadata": {
    "tags": []
   },
   "outputs": [
    {
     "name": "stdout",
     "output_type": "stream",
     "text": [
      "                  street             city    zip state  beds  baths  sq__ft  \\\n",
      "0           3526 HIGH ST       SACRAMENTO  95838    CA     2      1     836   \n",
      "1            51 OMAHA CT       SACRAMENTO  95823    CA     3      1    1167   \n",
      "2         2796 BRANCH ST       SACRAMENTO  95815    CA     2      1     796   \n",
      "3       2805 JANETTE WAY       SACRAMENTO  95815    CA     2      1     852   \n",
      "4        6001 MCMAHON DR       SACRAMENTO  95824    CA     2      1     797   \n",
      "..                   ...              ...    ...   ...   ...    ...     ...   \n",
      "980   9169 GARLINGTON CT       SACRAMENTO  95829    CA     4      3    2280   \n",
      "981      6932 RUSKUT WAY       SACRAMENTO  95823    CA     3      2    1477   \n",
      "982    7933 DAFFODIL WAY   CITRUS HEIGHTS  95610    CA     3      2    1216   \n",
      "983     8304 RED FOX WAY        ELK GROVE  95758    CA     4      2    1685   \n",
      "984  3882 YELLOWSTONE LN  EL DORADO HILLS  95762    CA     3      2    1362   \n",
      "\n",
      "            type                     sale_date   price   latitude   longitude  \n",
      "0    Residential  Wed May 21 00:00:00 EDT 2008   59222  38.631913 -121.434879  \n",
      "1    Residential  Wed May 21 00:00:00 EDT 2008   68212  38.478902 -121.431028  \n",
      "2    Residential  Wed May 21 00:00:00 EDT 2008   68880  38.618305 -121.443839  \n",
      "3    Residential  Wed May 21 00:00:00 EDT 2008   69307  38.616835 -121.439146  \n",
      "4    Residential  Wed May 21 00:00:00 EDT 2008   81900  38.519470 -121.435768  \n",
      "..           ...                           ...     ...        ...         ...  \n",
      "980  Residential  Thu May 15 00:00:00 EDT 2008  232425  38.457679 -121.359620  \n",
      "981  Residential  Thu May 15 00:00:00 EDT 2008  234000  38.499893 -121.458890  \n",
      "982  Residential  Thu May 15 00:00:00 EDT 2008  235000  38.708824 -121.256803  \n",
      "983  Residential  Thu May 15 00:00:00 EDT 2008  235301  38.417000 -121.397424  \n",
      "984  Residential  Thu May 15 00:00:00 EDT 2008  235738  38.655245 -121.075915  \n",
      "\n",
      "[985 rows x 12 columns]\n",
      "234144.26395939087\n",
      "0    95648\n",
      "dtype: int64\n"
     ]
    }
   ],
   "source": [
    "import pandas as pd\n",
    "\n",
    "# set the path to the file here\n",
    "df = pd.read_csv (r'realestatetransactions.csv')\n",
    "print (df)\n",
    "\n",
    "my_fun_column = (df['price']).mean()\n",
    "my_fun_column2 = (df['zip']).mode()\n",
    "print(my_fun_column)\n",
    "print(my_fun_column2)"
   ]
  },
  {
   "cell_type": "markdown",
   "id": "a5dd5b52-daa0-4740-9201-b93255c0d6d9",
   "metadata": {},
   "source": [
    "### Calculate the mean price of all real estate properties in the file?"
   ]
  },
  {
   "cell_type": "code",
   "execution_count": 24,
   "id": "8e9a2754-df06-4f1f-b73e-31642277b18b",
   "metadata": {},
   "outputs": [],
   "source": [
    "# Your code here\n"
   ]
  },
  {
   "cell_type": "markdown",
   "id": "595dd8cf-ffbe-4892-a9c2-042c60da8f92",
   "metadata": {},
   "source": [
    "### Calculate the most popular zip code?"
   ]
  },
  {
   "cell_type": "code",
   "execution_count": 25,
   "id": "81a8da49-feec-4238-88b9-af983c20afca",
   "metadata": {},
   "outputs": [],
   "source": [
    "# Your code here\n"
   ]
  },
  {
   "cell_type": "markdown",
   "id": "096bc529-ee75-4d1a-aaa3-9889ea25267e",
   "metadata": {},
   "source": [
    "### Calculate the mean price of each type of property i.e. condo, residential etc?"
   ]
  },
  {
   "cell_type": "code",
   "execution_count": 26,
   "id": "567f7e41-0ec8-4f09-a043-01a455e635e2",
   "metadata": {},
   "outputs": [],
   "source": [
    "# Your code here\n"
   ]
  },
  {
   "cell_type": "markdown",
   "id": "b93e9fa8-558e-4ee3-b7d0-20c3e0533166",
   "metadata": {},
   "source": [
    "### How many square feet worth of real estate are listed in the file in total?"
   ]
  },
  {
   "cell_type": "code",
   "execution_count": 27,
   "id": "14ee1c45-846e-4340-928b-4fe5e79b0f1c",
   "metadata": {},
   "outputs": [],
   "source": [
    "# Your code here\n"
   ]
  },
  {
   "cell_type": "markdown",
   "id": "e1dbb8ad-54c8-4bf3-80b4-993d8eade007",
   "metadata": {},
   "source": [
    "### What is the least popular city?"
   ]
  },
  {
   "cell_type": "code",
   "execution_count": 28,
   "id": "f88b79c7-311d-4b2c-9fb9-f9d55db85f3e",
   "metadata": {},
   "outputs": [],
   "source": [
    "# Your code here\n"
   ]
  },
  {
   "cell_type": "markdown",
   "id": "a1ebb2b9-87e3-47ab-84b5-63be15e019b8",
   "metadata": {},
   "source": [
    "### How many bedrooms does the average property have?"
   ]
  },
  {
   "cell_type": "code",
   "execution_count": 29,
   "id": "ae2b8edd-3d57-4206-a95b-a8144c1ffeb2",
   "metadata": {},
   "outputs": [],
   "source": [
    "# Your code here\n"
   ]
  }
 ],
 "metadata": {
  "kernelspec": {
   "display_name": "Python 3 (ipykernel)",
   "language": "python",
   "name": "python3"
  },
  "language_info": {
   "codemirror_mode": {
    "name": "ipython",
    "version": 3
   },
   "file_extension": ".py",
   "mimetype": "text/x-python",
   "name": "python",
   "nbconvert_exporter": "python",
   "pygments_lexer": "ipython3",
   "version": "3.9.2"
  },
  "toc-autonumbering": true,
  "toc-showcode": false,
  "toc-showmarkdowntxt": false,
  "toc-showtags": false
 },
 "nbformat": 4,
 "nbformat_minor": 5
}
