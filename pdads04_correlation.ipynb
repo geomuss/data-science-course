{
 "cells": [
  {
   "cell_type": "markdown",
   "id": "0766dc7c",
   "metadata": {
    "tags": []
   },
   "source": [
    "# PDA data science - Correlation\n",
    "<div class=\"alert alert-block alert-info\"> \n",
    "    Notebook 4: by michael.ferrie@edinburghcollege.ac.uk <br> Edinburgh College, March 2022\n",
    "</div>"
   ]
  },
  {
   "cell_type": "markdown",
   "id": "63e52724-de2e-4354-8e94-4af2dda2be95",
   "metadata": {},
   "source": [
    "## Key concepts\n",
    "\n",
    "Correlation means association - more precisely it is a measure of the extent to which two variables are related. There are three possible results of a correlational study: a positive correlation, a negative correlation, and no correlation.\n",
    "\n",
    "\"Correlation is not causation\" just because two variables are related, it does not necessarily mean that one causes the other.\n",
    "\n",
    "Dr Saul McLeod [explains](https://www.simplypsychology.org/correlation.html) in simple terms.\n",
    "\n",
    "A <b>positive correlation</b> is a relationship between two variables in which both variables move in the same direction. Therefore, when one variable increases as the other variable increases, or one variable decreases while the other decreases. An example of positive correlation would be height and weight. Taller people tend to be heavier.\n",
    "\n",
    "A <b>negative correlation</b> is a relationship between two variables in which an increase in one variable is associated with a decrease in the other. An example of negative correlation would be height above sea level and temperature. As you climb the mountain (increase in height) it gets colder (decrease in temperature).\n",
    "\n",
    "A <b>zero correlation</b> exists when there is no relationship between two variables. For example there is no relationship between the amount of tea drunk and level of intelligence.\n",
    "\n",
    "Pearson's correlation coefficient is the covariance of the two variables divided by the product of their standard deviations.\n",
    "    \n",
    "One way to quantify the relationship between two variables is to use the Pearson correlation coefficient, which is a measure of the linear association between two variables. It always takes on a value between -1 and 1 where:\n",
    "\n",
    "* -1 indicates a perfectly negative linear correlation between two variables\n",
    "* 0 indicates no linear correlation between two variables\n",
    "* 1 indicates a perfectly positive linear correlation between two variables\n",
    "\n",
    "In order to calculate this in python we can use the `numpy` library, first step is to install it:\n",
    "\n",
    "`pip install numpy`\n",
    "\n",
    "By convention numpy is imported as `np`"
   ]
  },
  {
   "cell_type": "code",
   "execution_count": null,
   "id": "79138883-2ef3-45c0-8999-8de1dbbc96d1",
   "metadata": {},
   "outputs": [],
   "source": [
    "# import numpy and alias to np\n",
    "import numpy as np\n",
    "\n",
    "# create two very small example lists\n",
    "my_list1 = [1, 2, 13, 41]\n",
    "my_list2 = [4, 10, 12, 2]\n",
    "\n",
    "# run correlation function\n",
    "np.corrcoef(my_list1, my_list2)\n",
    "\n",
    "# print correlation\n",
    "np.corrcoef(my_list1, my_list2)[0,1]"
   ]
  },
  {
   "cell_type": "markdown",
   "id": "b8945e6f-b6e9-4a8a-9d11-16503a6e082f",
   "metadata": {},
   "source": [
    "### Understanding the output\n",
    "\n",
    "The `corrcoef` function returns a negative correlation for the two lists, this means that these have a negative correlation.\n",
    "\n",
    "A second useful library for statistics in `scipy`\n",
    "\n",
    "`pip install scipy`\n",
    "\n",
    "We can use scipy to return the pearsons r for the two datasets:"
   ]
  },
  {
   "cell_type": "code",
   "execution_count": null,
   "id": "4a3fb4eb-9bf3-4e11-b728-1ff3c13a47ba",
   "metadata": {},
   "outputs": [],
   "source": [
    "# imporrt library\n",
    "from scipy.stats import pearsonr\n",
    "\n",
    "# run function\n",
    "pearsonr(my_list1, my_list2)"
   ]
  },
  {
   "cell_type": "markdown",
   "id": "8c8aba9e-7e06-4ce5-8e0b-d800946dfaa4",
   "metadata": {},
   "source": [
    "Not that this returns two values, the second is the probability or p-value. To strip the response to only the correlation just use the index."
   ]
  },
  {
   "cell_type": "code",
   "execution_count": null,
   "id": "6049d654-bff7-4f5e-b7f8-10b521525fc3",
   "metadata": {},
   "outputs": [],
   "source": [
    "# print only pearsons r\n",
    "pearsonr(my_list1, my_list2)[0]"
   ]
  },
  {
   "cell_type": "markdown",
   "id": "58b539d0-0d52-4436-9f36-d07df82ecc44",
   "metadata": {},
   "source": [
    "### Visualise the data\n",
    "\n",
    "It would be good to get a picture of the shape of the data, here is how we can achieve that."
   ]
  },
  {
   "cell_type": "code",
   "execution_count": null,
   "id": "3a59f655-6b2c-42d8-991d-0eb72c07738f",
   "metadata": {},
   "outputs": [],
   "source": [
    "# import pyplot\n",
    "import matplotlib.pyplot as plt\n",
    "\n",
    "# plot my_list1\n",
    "plt.plot(my_list1)"
   ]
  },
  {
   "cell_type": "code",
   "execution_count": null,
   "id": "ee3133aa-87a4-44cd-95cb-d4151e049c9f",
   "metadata": {},
   "outputs": [],
   "source": [
    "# plot my_list2\n",
    "plt.plot(my_list2)"
   ]
  },
  {
   "cell_type": "code",
   "execution_count": null,
   "id": "0c9ed344-13b5-43a6-848e-c099366f0bb2",
   "metadata": {},
   "outputs": [],
   "source": [
    "# plot both values, we can pass multiple lines to the plot function\n",
    "plt.plot(my_list1)\n",
    "plt.plot(my_list2)\n",
    "plt.show()"
   ]
  },
  {
   "cell_type": "code",
   "execution_count": null,
   "id": "a5fbcdde-b591-449f-a445-c158925205d0",
   "metadata": {},
   "outputs": [],
   "source": [
    "# as a scatter plot, pass each one in reverse order\n",
    "plt.scatter(my_list1, my_list2)"
   ]
  },
  {
   "cell_type": "markdown",
   "id": "4f97a584-0b63-4240-a475-cd1c97ef6407",
   "metadata": {},
   "source": [
    "### Using more realistic data\n",
    "\n",
    "As we can see there isn't much relationship between the variables, let's look at some more realistic data.\n",
    "\n",
    "We will look at the relationship between the height and weight of two sets of people."
   ]
  },
  {
   "cell_type": "code",
   "execution_count": null,
   "id": "9a39e8cb-5537-4e15-9fae-0eadfa81f1e1",
   "metadata": {},
   "outputs": [],
   "source": [
    "# set up two lists, using cms for height and kgs for weight\n",
    "height = [183, 162, 190, 178, 140]\n",
    "weight = [95, 82, 91, 83, 64]"
   ]
  },
  {
   "cell_type": "markdown",
   "id": "bf55f696-28ea-4315-9f68-fe201113e90f",
   "metadata": {},
   "source": [
    "Our hypothesis should be that the taller a person is the higher their weigh is, or at least we would hope so, first calculate the correlation."
   ]
  },
  {
   "cell_type": "code",
   "execution_count": null,
   "id": "cb8dd72f-92d7-4edc-be89-612825b95ab1",
   "metadata": {},
   "outputs": [],
   "source": [
    "# import scipy\n",
    "import scipy.stats\n",
    "\n",
    "# print only pearsons r\n",
    "pearsonr(height, weight)[0]"
   ]
  },
  {
   "cell_type": "markdown",
   "id": "7cd88313-bea7-4009-81e5-d923df8383d0",
   "metadata": {},
   "source": [
    "Hypothesis is correct, we can see that there is a very strongly positive correlation between height and weight. Rearrange the data to make the correlation negative, change the height to be different values but leave the weight."
   ]
  },
  {
   "cell_type": "code",
   "execution_count": null,
   "id": "7282fbd3-7f53-4736-8bba-fc721f6af3fa",
   "metadata": {},
   "outputs": [],
   "source": [
    "# set up two lists, using cms for height and kgs for weight\n",
    "height = [183, 162, 190, 178, 140]\n",
    "weight = [500, 1, 5, 8, -33]\n",
    "\n",
    "# import scipy\n",
    "import scipy.stats\n",
    "\n",
    "# print only pearsons r\n",
    "pearsonr(height, weight)[0]"
   ]
  },
  {
   "cell_type": "markdown",
   "id": "0edc394d-5204-439f-a26c-e5b9558f8057",
   "metadata": {},
   "source": [
    "Notice there is still some correlation because of the relative similarity of the height variable, what happens if we change them both?"
   ]
  },
  {
   "cell_type": "code",
   "execution_count": null,
   "id": "e130a09c-adf1-4310-a516-e8714ffc2e44",
   "metadata": {},
   "outputs": [],
   "source": [
    "# set up two lists, using cms for height and kgs for weight\n",
    "height = [-55, 3000, 451, 987, -22]\n",
    "weight = [500, 1, 5, 8, -33]\n",
    "\n",
    "# import scipy\n",
    "import scipy.stats\n",
    "\n",
    "# print only pearsons r\n",
    "pearsonr(height, weight)[0]"
   ]
  },
  {
   "cell_type": "markdown",
   "id": "ab48acd7-399b-4547-8e7e-31d930b7aa75",
   "metadata": {},
   "source": [
    "This shows a negative correlation between the lists."
   ]
  },
  {
   "cell_type": "markdown",
   "id": "add982d5-0d7e-456e-a091-bc3ccb6fb312",
   "metadata": {},
   "source": [
    "### Using pandas\n",
    "\n",
    "We can work with pandas dataframes to get a value for two dataframes, consider the following, first convert our two test lists to dataframes."
   ]
  },
  {
   "cell_type": "code",
   "execution_count": null,
   "id": "8fc1274e-7832-4d66-ba43-a4b8d217e33b",
   "metadata": {},
   "outputs": [],
   "source": [
    "# import pandas and alias as pd\n",
    "import pandas as pd\n",
    "\n",
    "# convert lists to dataframes\n",
    "df_height = pd.DataFrame(height)\n",
    "df_weight = pd.DataFrame(weight)\n",
    "\n",
    "# print out to visualise\n",
    "print(df_height)\n",
    "print(df_weight)\n",
    "\n",
    "# print type (always check the type you are working with)\n",
    "print(type(df_height))\n",
    "print(type(df_weight))"
   ]
  },
  {
   "cell_type": "markdown",
   "id": "6e4a8fe9-187e-478b-bf57-7cb0ec693cc8",
   "metadata": {},
   "source": [
    "With pandas we can describe the data to get statistics and also print the correlation."
   ]
  },
  {
   "cell_type": "code",
   "execution_count": null,
   "id": "0f251c8f-c896-41be-9de4-51b7cb7d5395",
   "metadata": {},
   "outputs": [],
   "source": [
    "# generate summary statistics on the data\n",
    "df_height.describe()"
   ]
  },
  {
   "cell_type": "markdown",
   "id": "aa404cab-430e-4dc3-894b-d05349fe1da1",
   "metadata": {},
   "source": [
    "It is actually easier if we put our two lists into the same dataframe as separate columns, then we can perform operations on them."
   ]
  },
  {
   "cell_type": "code",
   "execution_count": null,
   "id": "9848f24c-40b6-483e-b315-e6c4b27225ae",
   "metadata": {},
   "outputs": [],
   "source": [
    "# define the dataframe and put the first vaue in\n",
    "df = pd.DataFrame(height)\n",
    "\n",
    "# add in the next list\n",
    "df['weight'] = weight\n",
    "\n",
    "# label the columns\n",
    "df.columns = ['height in cm', 'weight in kg']\n",
    "print(df)"
   ]
  },
  {
   "cell_type": "code",
   "execution_count": null,
   "id": "16a242ad-13d3-485b-96ae-41f28040c0fe",
   "metadata": {},
   "outputs": [],
   "source": [
    "# Generate summary statistics and correlation, plot\n",
    "print(df.describe())\n",
    "print(df.corr())\n",
    "\n",
    "# Plot values\n",
    "df.plot()"
   ]
  },
  {
   "cell_type": "markdown",
   "id": "6f8ceadb-dfa7-48e0-9ff8-3464963bf372",
   "metadata": {},
   "source": [
    "## Introducing `mplfinance`"
   ]
  },
  {
   "cell_type": "markdown",
   "id": "12ad67c3-a9b4-40fa-b6ae-3b6046974ad4",
   "metadata": {},
   "source": [
    "Mplfinance is a fantastic library for visualising data install with pip\n",
    "\n",
    "`pip install mplfinance`\n",
    "\n",
    "Get some data from `yfinance` and then we can examine the output"
   ]
  },
  {
   "cell_type": "code",
   "execution_count": null,
   "id": "8b8f598b-a709-4663-b965-05676a7d93e4",
   "metadata": {},
   "outputs": [],
   "source": [
    "# import libraries\n",
    "import mplfinance as mpf\n",
    "import yfinance as yf\n",
    "\n",
    "# make a dataframe of the bitcoin value for Feb 2022\n",
    "df = yf.download(['BTC-USD'],\n",
    "                 start='2022-02-01', end='2022-02-28', interval='1d')\n",
    "\n",
    "# plot with mpl\n",
    "mpf.plot(df)"
   ]
  },
  {
   "cell_type": "markdown",
   "id": "72447073-8526-435e-9fae-626d6bfb25c8",
   "metadata": {},
   "source": [
    "The [documentation on github](https://github.com/matplotlib/mplfinance) shows different examples."
   ]
  },
  {
   "cell_type": "code",
   "execution_count": null,
   "id": "e50b391a-b32d-4fc7-8054-efeac53520d6",
   "metadata": {},
   "outputs": [],
   "source": [
    "# candle plot\n",
    "mpf.plot(df, type='candle')"
   ]
  },
  {
   "cell_type": "code",
   "execution_count": null,
   "id": "f9cdad2f-baeb-4f1c-90d4-ea9915cfdd6d",
   "metadata": {},
   "outputs": [],
   "source": [
    "# line plot\n",
    "mpf.plot(df, type='line')"
   ]
  },
  {
   "cell_type": "code",
   "execution_count": null,
   "id": "2de9d00e-246a-40fd-a60c-d2e8cdf4e699",
   "metadata": {},
   "outputs": [],
   "source": [
    "# open low high close chart with moving average\n",
    "mpf.plot(df, type='ohlc', mav=4)"
   ]
  },
  {
   "cell_type": "markdown",
   "id": "e58b9491-9a0c-4b75-87f0-65accc56e5e9",
   "metadata": {},
   "source": [
    "# Questions\n",
    "Add your code to the code cells to answer the questions.\n",
    "\n",
    "USD = United States Dollar\n",
    "GBP = Great Britain Pound Sterling\n",
    "EUR = Euro"
   ]
  },
  {
   "cell_type": "markdown",
   "id": "40568c6b-a945-4a7b-be40-0e1c59cc5ca2",
   "metadata": {},
   "source": [
    "#### Use the `yfinance` library to collect data on the value of GBP in USD for the whole year of 2021, set the interval to 1 day, then plot this on an ohlc chart with `mplfinance`, add a moving average line and set the value of this to 4?"
   ]
  },
  {
   "cell_type": "code",
   "execution_count": null,
   "id": "3344dc61-15e5-4d06-aa20-d4f59fea59a8",
   "metadata": {},
   "outputs": [],
   "source": [
    "# your answer in this cell\n"
   ]
  },
  {
   "cell_type": "markdown",
   "id": "11082852-4755-49b5-99f1-ae866e78d052",
   "metadata": {},
   "source": [
    "#### With `pandas` create two dataframes, one with the value of bitcoin in USD, set the interval to 1d and gather all data for the month of January 2022. Create a second dataframe with data for the same time period for ethereum?"
   ]
  },
  {
   "cell_type": "code",
   "execution_count": null,
   "id": "71592f58-dc19-4bfc-80bb-e0d400a6fb0a",
   "metadata": {},
   "outputs": [],
   "source": [
    "# your answer in this cell\n"
   ]
  },
  {
   "cell_type": "markdown",
   "id": "012b93e6-326b-4990-8ad6-fd1215f7c7e4",
   "metadata": {},
   "source": [
    "#### Use pandas to describe both dataframes?"
   ]
  },
  {
   "cell_type": "code",
   "execution_count": null,
   "id": "e9602e46-c5f2-47de-a29d-6e105b495d61",
   "metadata": {},
   "outputs": [],
   "source": [
    "# your answer in this cell\n"
   ]
  },
  {
   "cell_type": "markdown",
   "id": "68f27669-e843-45dd-b911-0626360bea03",
   "metadata": {
    "tags": []
   },
   "source": [
    "#### Create a new dataframe using the close value of bitcoin in USD and the close value of ethereum in USD using the two dataframes from the previous question, call this dataframe `bit_eth`, name the columns `bit_close_jan22` and `eth_close_jan22`."
   ]
  },
  {
   "cell_type": "code",
   "execution_count": null,
   "id": "ccd6389d-924a-444f-a29b-614409d40449",
   "metadata": {},
   "outputs": [],
   "source": [
    "# your answer in this cell\n"
   ]
  },
  {
   "cell_type": "markdown",
   "id": "cb505be8-fd81-4915-a458-8581c5cb2224",
   "metadata": {},
   "source": [
    "#### Show the correlation between the columns of data, is there a positive or a negative correlation between these values?"
   ]
  },
  {
   "cell_type": "code",
   "execution_count": null,
   "id": "1af060a6-f8ac-431b-a7f7-8c339664fd79",
   "metadata": {},
   "outputs": [],
   "source": [
    "# your answer in this cell\n"
   ]
  },
  {
   "cell_type": "markdown",
   "id": "c11283fe-ec3d-4ebd-9067-31828336b058",
   "metadata": {},
   "source": [
    "#### Create two new dataframes, one for the value of GBP in USD and one for EUR in USD, gather all of the data for 2021, set the interval to one day?"
   ]
  },
  {
   "cell_type": "code",
   "execution_count": null,
   "id": "a58359ed-3a20-4191-be74-ba86da9f37b1",
   "metadata": {},
   "outputs": [],
   "source": [
    "# your answer in this cell\n"
   ]
  },
  {
   "cell_type": "markdown",
   "id": "427a6e79-51cc-4257-9eba-5eb420a1a4b3",
   "metadata": {},
   "source": [
    "#### Create an OHLC plot for each dataframe?"
   ]
  },
  {
   "cell_type": "code",
   "execution_count": null,
   "id": "fb2c88d6-8b67-4c8a-8eb0-aed7694484d4",
   "metadata": {},
   "outputs": [],
   "source": [
    "# your answer in this cell\n"
   ]
  },
  {
   "cell_type": "markdown",
   "id": "73871950-fafc-479d-a370-0131e44810c9",
   "metadata": {},
   "source": [
    "#### What was the correlation between the value of GBP and EUR, for the data we have from 2021?"
   ]
  },
  {
   "cell_type": "code",
   "execution_count": null,
   "id": "1b9f6ef8-2a12-4db2-9993-afde8a4bd6b5",
   "metadata": {},
   "outputs": [],
   "source": [
    "# your answer in this cell\n"
   ]
  }
 ],
 "metadata": {
  "kernelspec": {
   "display_name": "Python 3 (ipykernel)",
   "language": "python",
   "name": "python3"
  },
  "language_info": {
   "codemirror_mode": {
    "name": "ipython",
    "version": 3
   },
   "file_extension": ".py",
   "mimetype": "text/x-python",
   "name": "python",
   "nbconvert_exporter": "python",
   "pygments_lexer": "ipython3",
   "version": "3.9.2"
  },
  "toc-autonumbering": true
 },
 "nbformat": 4,
 "nbformat_minor": 5
}
