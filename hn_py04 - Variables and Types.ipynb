{
 "cells": [
  {
   "cell_type": "markdown",
   "id": "2d5f66c2",
   "metadata": {
    "tags": []
   },
   "source": [
    "# Computer Programming and Software Development Introduction 4: Variables and Types\n",
    "#### Notebook by: michael.ferrie@edinburghcollege.ac.uk\n",
    "#### Edinburgh College, Sep 2021"
   ]
  },
  {
   "cell_type": "markdown",
   "id": "3df50d96",
   "metadata": {
    "tags": []
   },
   "source": [
    "# Part 1 - Variables and Types"
   ]
  },
  {
   "cell_type": "markdown",
   "id": "521bca2c-02de-47eb-9903-f961bd2feb4a",
   "metadata": {},
   "source": [
    "<div class=\"alert alert-block alert-danger\">\n",
    "    <b>Note:</b> Make sure you run every cell, click on the cell and press <b>CTRL+ENTER</b>\n",
    "</div>"
   ]
  },
  {
   "cell_type": "markdown",
   "id": "81ea5342-3cc9-4646-a1c9-8d7f46d2500a",
   "metadata": {
    "tags": []
   },
   "source": [
    "### Variables\n",
    "\n",
    "Variables are used to store information to be referenced and manipulated in a computer program. They also provide a way of labeling data with a descriptive name, so our programs can be understood more clearly by the reader and ourselves. It is helpful to think of variables as containers that hold information. Their sole purpose is to label and store data in memory. This data can then be used throughout your program.\n",
    "\n",
    "Naming variables is known as one of the most difficult tasks in computer programming. When you are naming variables, think hard about the names. Try your best to make sure that the name you assign your variable is accurately descriptive and understandable to another reader. Sometimes that other reader is yourself when you revisit a program that you wrote months or even years earlier. Think of the variable as a box in the computer memory that you can store things in and also label.\n",
    "\n",
    "In python a variable is created using the assignment operator `=` the name of the variable is specified followed by the value you want to set. Because the equals sign `=` is reserved for variable assignment, to use an equals you type `==`.\n",
    "\n",
    "#### Variable Assignment Examples\n",
    "\n",
    "` my_variable = 3 `\n",
    "\n",
    "` my_second_variable = 4 `\n",
    "\n",
    "` my_third_variable = “hello” `\n",
    "\n",
    "\n",
    "### Data Types\n",
    "\n",
    "In programming, data type is an important concept. All variables have a data type, python is a dynamically typed language - which means you can change the type of a variable. Variables can store data of different types, and different types can do different things.\n",
    "\n",
    "In this course we will look at the following Python data types that are built-in to the language by default, in these categories:\n",
    "\n",
    "* Strings - these are strings of characters, single characters or even full sentences, you set a variable to be a string by enclosing it in quotes the string is abbreviated to `str` in python:\n",
    "\n",
    "` x = \"Hello World\"\tstr\t`\n",
    "\n",
    "* Numbers are called integers and python abbreviates this to `int`, to create an integer just type the variable name then a number:\n",
    "\n",
    "` x = 20\tint\t`\n",
    "\n",
    "* Another numeric type is a float. This is a number with a decimal point, americans call the decimal point a floating point so this is where that name comes from.\n",
    "\n",
    "` x = 20.5\tfloat `\n",
    "\n",
    "* A final numeric type is a boolean, this is a type that is either true or false python writes these as True or False:\n",
    "\n",
    "` x = True\tbool `\n",
    "\n",
    "\n",
    "#### Checking data types with the type function\n",
    "\n",
    "If we want to determine the type of an object in python, we can use the `type()` function, we need to nest a value inside the parenthesis, this will pass it to the fucntion that preceeds it.\n",
    "\n",
    "` my_variable = 5 `\n",
    "\n",
    "`type(my_variable)`\n",
    "\n",
    "#### Run the examples in the following cells to see these concepts in action"
   ]
  },
  {
   "cell_type": "code",
   "execution_count": null,
   "id": "4b2d07d6-a6ff-47d2-bb57-50137131248a",
   "metadata": {},
   "outputs": [],
   "source": [
    "# assigning variables - run this cell to add these variables to the computers memory\n",
    "my_string = \"this is a string\"\n",
    "my_integer = 10\n",
    "my_bool = True\n",
    "my_float = 6.3"
   ]
  },
  {
   "cell_type": "code",
   "execution_count": null,
   "id": "7a33fc17-767c-459d-b20b-e758911bae3d",
   "metadata": {},
   "outputs": [],
   "source": [
    "# print out the values stored in the variables\n",
    "print (my_string)"
   ]
  },
  {
   "cell_type": "code",
   "execution_count": null,
   "id": "24906ab3-8105-4391-98d2-43c2949f6ad6",
   "metadata": {},
   "outputs": [],
   "source": [
    "# print out the values stored in the variables\n",
    "print (my_integer)"
   ]
  },
  {
   "cell_type": "code",
   "execution_count": null,
   "id": "212bcf58-597c-4438-aff5-854cc3d900e0",
   "metadata": {},
   "outputs": [],
   "source": [
    "# print out the values stored in the variables\n",
    "print (my_bool)"
   ]
  },
  {
   "cell_type": "code",
   "execution_count": null,
   "id": "9ad6603b-3fce-44b7-9b6b-837fbc05152d",
   "metadata": {},
   "outputs": [],
   "source": [
    "# print out the values stored in the variables\n",
    "print (my_float)"
   ]
  },
  {
   "cell_type": "code",
   "execution_count": null,
   "id": "52ec3d7e-e052-493c-bc80-fdb5bc12aa15",
   "metadata": {},
   "outputs": [],
   "source": [
    "# check and print the data type of each\n",
    "print(type(my_string))"
   ]
  },
  {
   "cell_type": "code",
   "execution_count": null,
   "id": "f6051f4a-9c98-4be0-abe7-e5e7fc1ad2e5",
   "metadata": {},
   "outputs": [],
   "source": [
    "# check and print the data type of each\n",
    "print(type(my_integer))"
   ]
  },
  {
   "cell_type": "code",
   "execution_count": null,
   "id": "9c10abf9-397a-4e83-b4e6-6463bed03a67",
   "metadata": {},
   "outputs": [],
   "source": [
    "# check and print the data type of each\n",
    "print(type(my_bool))"
   ]
  },
  {
   "cell_type": "code",
   "execution_count": null,
   "id": "71b5b982-1021-4c5d-bd98-19d0bf5f1604",
   "metadata": {},
   "outputs": [],
   "source": [
    "# check and print the data type of each\n",
    "print(type(my_float))"
   ]
  },
  {
   "cell_type": "markdown",
   "id": "75d23878-c4f6-4ed4-984e-2c97036f0cfd",
   "metadata": {
    "tags": []
   },
   "source": [
    "# Part 2 - Questions\n",
    "<div class=\"alert alert-block alert-success\">\n",
    "<b>How to answer: </b> Add your code to the code cell below each question.\n",
    "</div>"
   ]
  },
  {
   "cell_type": "markdown",
   "id": "e3ef0385-d72b-4cc9-aa5b-6c8d837010ac",
   "metadata": {
    "tags": []
   },
   "source": [
    "1 Create and then print the following variables: my_number = 5, float_number = 5.5, my_string = “hello”"
   ]
  },
  {
   "cell_type": "code",
   "execution_count": null,
   "id": "c688c981-64cb-4bf0-b056-25892bd5168d",
   "metadata": {},
   "outputs": [],
   "source": [
    "# Code for Q1 in this cell, below this line\n"
   ]
  },
  {
   "cell_type": "markdown",
   "id": "adb0815f-df80-4c2b-9292-1a285c6908b0",
   "metadata": {},
   "source": [
    "2 Write the code to check the data type of each variable and print it out?"
   ]
  },
  {
   "cell_type": "code",
   "execution_count": null,
   "id": "a9cce244-60ae-46a8-a005-43f75a1694f3",
   "metadata": {},
   "outputs": [],
   "source": [
    "# Code for Q2 in this cell, below this line\n"
   ]
  },
  {
   "cell_type": "markdown",
   "id": "e68faad2-8c88-41f3-a014-e5f70e01cca0",
   "metadata": {},
   "source": [
    "3 Create a second int variable called `my_second_number` and set the value to 7, add `my_number` to `my_second_number` and print the result?"
   ]
  },
  {
   "cell_type": "code",
   "execution_count": null,
   "id": "575dbdca-607e-4ac9-b454-1684098bd549",
   "metadata": {
    "tags": []
   },
   "outputs": [],
   "source": [
    "# Code for Q3 in this cell, below this line\n"
   ]
  },
  {
   "cell_type": "markdown",
   "id": "7e2f259d-2146-4114-9392-856d9d36eb1a",
   "metadata": {},
   "source": [
    "4 Now try adding `my_number` to `my_float` - print the result and the data type in the next cell?"
   ]
  },
  {
   "cell_type": "code",
   "execution_count": null,
   "id": "a1d8249b-d00f-4156-872b-f6cc2877471c",
   "metadata": {
    "tags": []
   },
   "outputs": [],
   "source": [
    "# Code for Q4 in this cell, below this line\n"
   ]
  },
  {
   "cell_type": "markdown",
   "id": "1d75cc45-f16e-41ea-bb9c-c15957ff5775",
   "metadata": {},
   "source": [
    "<div class=\"alert alert-block alert-info\"> \n",
    "<b>Note:</b> Anytime you add an int to a float the answer is always a float. Now try and add my_number to my_string and see what happens? You should get an error, how can you add a word to a number? If you create a number as a sting you can join two strings together, this is called <b>concatenation</b>. \n",
    "</div>"
   ]
  },
  {
   "cell_type": "markdown",
   "id": "b8a326c1-4dea-4463-9817-cb70f4565087",
   "metadata": {},
   "source": [
    "5 Create two strings called `s1` assign it the value *hello* and `s2` assign that the value *world*, write the code to concatenate these stings together using the `+` operator and then print the result?"
   ]
  },
  {
   "cell_type": "code",
   "execution_count": null,
   "id": "a4041aad-cb14-4d7f-bcf0-efb8db9a79be",
   "metadata": {
    "tags": []
   },
   "outputs": [],
   "source": [
    "# Code for Q5 in this cell, below this line\n"
   ]
  },
  {
   "cell_type": "markdown",
   "id": "f97ecc80-a2fd-48ab-b4b2-86c5eb52133b",
   "metadata": {},
   "source": [
    "6 Add a space between the two strings so you can print `hello world` and not `helloworld`?"
   ]
  },
  {
   "cell_type": "code",
   "execution_count": null,
   "id": "0789df07-111c-4782-9065-872fafa7e86a",
   "metadata": {
    "tags": []
   },
   "outputs": [],
   "source": [
    "# Code for Q6 in this cell, below this line\n"
   ]
  },
  {
   "cell_type": "markdown",
   "id": "03156c7b-c518-4ab0-928c-8990f0cd6054",
   "metadata": {},
   "source": [
    "7 Add a space between the two strings so you can print `hello world` and not `helloworld`?"
   ]
  },
  {
   "cell_type": "code",
   "execution_count": null,
   "id": "bcd08a86-c8ac-443c-89da-570aeb232cd7",
   "metadata": {
    "tags": []
   },
   "outputs": [],
   "source": [
    "# Code for Q7 in this cell, below this line\n"
   ]
  },
  {
   "cell_type": "markdown",
   "id": "3a39ebc1-723a-4194-a126-b94bb2c321e4",
   "metadata": {},
   "source": [
    "<div class=\"alert alert-block alert-info\"> \n",
    "    <b>Note:</b> Adding a # to the start of a line makes it a <b>comment</b> and Pythoinn will not interpret that line, if you remove the # from the start of the line this is sometimes called uncommenting</div>"
   ]
  },
  {
   "cell_type": "markdown",
   "id": "e7543129-f5fa-4ad0-95e1-074cc866aa73",
   "metadata": {},
   "source": [
    "8 Make a new variable named `subject` and assign it the value of your first name, create a second variable called `object` assign it the value of the string ` loves eating cakes`, then concatenate (use the `+` sign) both variables together and print the result?"
   ]
  },
  {
   "cell_type": "code",
   "execution_count": null,
   "id": "0b50bf4d-74b6-487d-b8ab-5d7c27526e95",
   "metadata": {
    "tags": []
   },
   "outputs": [],
   "source": [
    "# Code for Q8 in this cell, below this line\n"
   ]
  },
  {
   "cell_type": "markdown",
   "id": "ad00fc55-2056-426d-bab3-2497a0fbc451",
   "metadata": {},
   "source": [
    "9 Adapt the following code that uses the input variable to create a small program that asks the user for their name and then returns the value `name` + `watches love island`?"
   ]
  },
  {
   "cell_type": "code",
   "execution_count": null,
   "id": "4fc66b4e-3c80-4ffd-a941-324bd362daf2",
   "metadata": {},
   "outputs": [],
   "source": [
    "# use this to get started, uncomment the next line\n",
    "# name = input()\n",
    "# your code here"
   ]
  },
  {
   "cell_type": "markdown",
   "id": "39236990-1fee-4ae7-8086-ce42c6bb1e75",
   "metadata": {},
   "source": [
    "10 Create a new program with an input variable called `miles`, the program should ask the user to enter the distance in miles. Then multiply the value of the miles variable (using the * operator) by 1.60934. This calculation will give you the value in Kilometres, print the value in Kilometers back to the user the program should say. `The distance in miles was` and `The distance in Km is`?"
   ]
  },
  {
   "cell_type": "code",
   "execution_count": null,
   "id": "ec677081-6aeb-49d2-a516-d854cca50c92",
   "metadata": {
    "tags": []
   },
   "outputs": [],
   "source": [
    "# Code for Q10 in this cell, below this line\n"
   ]
  }
 ],
 "metadata": {
  "kernelspec": {
   "display_name": "Python 3 (ipykernel)",
   "language": "python",
   "name": "python3"
  },
  "language_info": {
   "codemirror_mode": {
    "name": "ipython",
    "version": 3
   },
   "file_extension": ".py",
   "mimetype": "text/x-python",
   "name": "python",
   "nbconvert_exporter": "python",
   "pygments_lexer": "ipython3",
   "version": "3.9.2"
  },
  "toc-autonumbering": true,
  "toc-showmarkdowntxt": false
 },
 "nbformat": 4,
 "nbformat_minor": 5
}
