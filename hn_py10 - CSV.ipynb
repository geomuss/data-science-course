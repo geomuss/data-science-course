{
 "cells": [
  {
   "cell_type": "markdown",
   "id": "bd6402ec-0cd9-4f5a-ae40-55a0e0fcf245",
   "metadata": {},
   "source": [
    "# Computer Programming with Python 10 - Working with CSV files\n",
    "<div class=\"alert alert-block alert-info\"> \n",
    "    Notebook 10: by michael.ferrie@edinburghcollege.ac.uk <br> Edinburgh College, May 2022\n",
    "</div>"
   ]
  },
  {
   "cell_type": "markdown",
   "id": "f5fbea84-ed10-4ef7-8f7c-ff85fa8e6522",
   "metadata": {},
   "source": [
    "## Introduction to CSV\n",
    "\n",
    "Sometimes in programming we will want to extract data from a source, this could be from word documents or from text files, or perhaps the data could be downloaded from a web API. A common format for transferring data is comma separated value (CSV). CSV files are standardised in [RFC 4180](https://datatracker.ietf.org/doc/html/rfc4180). The UK government have [some guidance](https://www.gov.uk/guidance/using-csv-file-format#when-not-to-use-csv-files) on how and when to use CSV files. \n",
    "\n",
    "CSV files contain rows and columns of data. The columns are delimited by a character which is usually but not always a comma. You can get space, or even tab delimited files, for example on a unix-like operating system the `/etc/passwd` file is colon delimited. Meaning that the fields in each row are separated by the `:` character.\n",
    "\n",
    "### Example CSV\n",
    "\n",
    "Here is an example of what a raw CSV might look like, often the first row can be used as the header, or the column names:\n",
    "\n",
    "1.  Each record is located on a separate line, delimited by a line\n",
    "       break (CRLF).  For example:\n",
    "\n",
    "       `aaa,bbb,ccc CRLF`\n",
    "       \n",
    "       `zzz,yyy,xxx CRLF`\n",
    "\n",
    "2.  The last record in the file may or may not have an ending line\n",
    "       break.  For example:\n",
    "\n",
    "       `aaa,bbb,ccc CRLF`\n",
    "       \n",
    "       `zzz,yyy,xxx`\n",
    "\n",
    "### CSVs and Python\n",
    "\n",
    "If we have a standardised format then it should be easy for python to work with these files, firs download the `simple.csv` file from Moodle, it is very small CSV file we can use for learning.\n",
    "\n",
    "The first thing we need to do is get the path to the CSV file right so we can tell python where it is, if you are using JupyterLab or JupyterHub, press CTRL + B to open the file explorer on the left hand side of the window. Then drag `simple.csv` into the file explorer.\n",
    "\n",
    "Next we can use the `os` module to check if the file exists. Run the code in the next cell once you have the file downloaded."
   ]
  },
  {
   "cell_type": "code",
   "execution_count": null,
   "id": "ecf5cc6b-cd06-4c28-aca1-c0b17de15db0",
   "metadata": {},
   "outputs": [],
   "source": [
    "# import library\n",
    "from os.path import exists\n",
    "\n",
    "# run exists function, should return true if python sees the file\n",
    "exists('FILENAME.csv')"
   ]
  },
  {
   "cell_type": "markdown",
   "id": "6c223083-de17-47ab-b5b9-2756c8c65b19",
   "metadata": {},
   "source": [
    "## The CSV module\n",
    "\n",
    "One way to work with the file is to use pythons built in CSV module, first import it into the program with the import function.\n",
    "\n",
    "\n",
    "`import csv`\n",
    "\n",
    "Then we need to use the `with` keyword, we say the path to the file then set the mode to `r` which means reading mode, then we just need to pass the file to a variable, by convention we usually use the word file here but it could be anything.\n",
    "\n",
    "`with open('simple.csv', 'r') as file`\n",
    "\n",
    "\n",
    "Then we want to pass the file to the `csv.reader` function.\n",
    "\n",
    "`reader = csv.reader(file)`\n",
    "\n",
    "The we can loop over the file a line at a time with a for loop and print each line out.\n",
    "\n",
    "`for record in reader:`\n",
    "\n",
    "`print(record)`\n",
    "\n",
    "Try it out in the next cell."
   ]
  },
  {
   "cell_type": "code",
   "execution_count": null,
   "id": "a344dcc1-cb60-4f7c-8831-5c45635cafb9",
   "metadata": {},
   "outputs": [],
   "source": [
    "# import library\n",
    "import csv\n",
    "\n",
    "# use with to open the file\n",
    "with open('FILENAME.csv', 'r') as file:\n",
    "    reader = csv.reader(file)\n",
    "    \n",
    "    # loop over each record print\n",
    "    for record in reader:\n",
    "        print(record)"
   ]
  },
  {
   "cell_type": "markdown",
   "id": "4edc2e77-6efa-4c00-a985-f16a4aee19c4",
   "metadata": {},
   "source": [
    "### Operations on the file\n",
    "\n",
    "We have this very simple file, let us say we only want to extract a specific row, for example how could we only get the data from every year but only for the `Jan` row?\n",
    "\n",
    "We could just add a conditional to the for loop, to check if the string `Jan` appears `in` the record. Notice the output comes back in a handy list."
   ]
  },
  {
   "cell_type": "code",
   "execution_count": null,
   "id": "ca962a76-8537-452c-9591-21497531b671",
   "metadata": {},
   "outputs": [],
   "source": [
    "# import library\n",
    "import csv\n",
    "\n",
    "# use with to open the file\n",
    "with open('FILENAME.csv', 'r') as file:\n",
    "    reader = csv.reader(file)\n",
    "    \n",
    "    # loop over each record print\n",
    "    for record in reader:\n",
    "        \n",
    "        # check if Jan is in record\n",
    "        if 'Jan' in record:\n",
    "            print(record)"
   ]
  },
  {
   "cell_type": "markdown",
   "id": "bc97d910-6cd6-4b83-b589-9484ce01cef1",
   "metadata": {},
   "source": [
    "# CSV Self assess questions"
   ]
  },
  {
   "cell_type": "markdown",
   "id": "a84dfc00-b147-4671-8acf-7b7ac0b54d40",
   "metadata": {},
   "source": [
    "#### Write the code to print out every row that does not contain the word `'Jan'`?"
   ]
  },
  {
   "cell_type": "code",
   "execution_count": null,
   "id": "224965ee-5fb8-4fe5-bc09-ca3f33f66969",
   "metadata": {},
   "outputs": [],
   "source": [
    "# your answer here\n"
   ]
  },
  {
   "cell_type": "markdown",
   "id": "5ab7010d-6335-41d4-9a8f-fe8837e33985",
   "metadata": {},
   "source": [
    "#### Write the code to pass the data for all years for the month of `Feb` to a list called `feb_list`?"
   ]
  },
  {
   "cell_type": "code",
   "execution_count": null,
   "id": "2679727e-4e42-48eb-996b-7ace56867956",
   "metadata": {},
   "outputs": [],
   "source": [
    "# your answer here\n"
   ]
  },
  {
   "cell_type": "markdown",
   "id": "7faadba0-817f-412e-8ef8-3a61bafb9c12",
   "metadata": {},
   "source": [
    "#### Write the code to use an index range to remove the first item from `feb_list`, create a new list with the result called `feb_numbers_list`?"
   ]
  },
  {
   "cell_type": "code",
   "execution_count": null,
   "id": "6c7e12a5-cda5-4667-a94a-327a5de78f09",
   "metadata": {},
   "outputs": [],
   "source": [
    "# your answer here\n"
   ]
  },
  {
   "cell_type": "markdown",
   "id": "677d05f9-acc1-4835-b864-a7ee2815c304",
   "metadata": {},
   "source": [
    "#### Use a for loop to add all of the numbers in `feb_numbers_list` together, then work out the average value?"
   ]
  },
  {
   "cell_type": "code",
   "execution_count": null,
   "id": "1fa85e03-e8b1-4ea5-b1c5-715212263786",
   "metadata": {},
   "outputs": [],
   "source": [
    "# your answer here\n"
   ]
  },
  {
   "cell_type": "markdown",
   "id": "b6d2ff62-6b8f-446b-9ebc-e91920f984b7",
   "metadata": {},
   "source": [
    "# Pandas\n",
    "\n",
    "## Introduction\n",
    "So far we have seen how to use the most basic python CSV library to work with CSV files, it is actually a bit of a fiddle, you have to pass things to readers and loop over them a slice lists. Imagine if there was a magic library that could do all of this for us.\n",
    "\n",
    "The good news is that there is, it is called [pandas](https://pandas.pydata.org/). \n",
    "\n",
    "Pandas aims to be the fundamental high-level building block for doing practical, real world data analysis in Python. Additionally, it has the broader goal of becoming the most powerful and flexible open source data analysis / manipulation tool available in any language.\n",
    "\n",
    "On windows open a new CMD shell and run `pip install pandas` or use your python package manager to install this, some people may be using conda. This will download the pandas library from the internet. Once downloaded run the code in the next cell to check if pandas is working. You may need to restart Jupyter/the kernel/your machine."
   ]
  },
  {
   "cell_type": "code",
   "execution_count": null,
   "id": "daae1711-0e79-4640-95c7-1612bc5833cd",
   "metadata": {},
   "outputs": [],
   "source": [
    "# import pandas\n",
    "import pandas\n",
    "\n",
    "# check version\n",
    "pandas.__version__"
   ]
  },
  {
   "cell_type": "markdown",
   "id": "e06c4d06-d220-4dd0-91dc-ae7f349e33a5",
   "metadata": {},
   "source": [
    "## Pandas dataframes\n",
    "\n",
    "Once we have pandas installed lets see how we can use it to work with the file. By convention we usually alias pandas to `pd` this just make the code faster to write.\n",
    "\n",
    "We have a concept called a dataframe, this is a data structure that pandas works with, imagine it to be an Excel spreadsheet in python, it has rows and columns and pandas can perform operations on it, by convention we usually call our first dataframe `df`.\n",
    "\n",
    "Run the code in the next cell, we will use the pandas `read_csv` function to read in the file as a dataframe and pass it to a new variable called `df`. The the pandas head function will display the top (head) of the dataframe so we can look at an overview of the data in the dataframe."
   ]
  },
  {
   "cell_type": "code",
   "execution_count": null,
   "id": "39d9dc04-5a1b-477b-a353-0ccc32a64851",
   "metadata": {
    "tags": []
   },
   "outputs": [],
   "source": [
    "# import pandas here\n",
    "import pandas as pd\n",
    "\n",
    "# import the file and convert to a dataframe\n",
    "df = pd.read_csv(\"FILENAME.csv\")\n",
    "\n",
    "# look at the top of the dataframe\n",
    "df.head()"
   ]
  },
  {
   "cell_type": "markdown",
   "id": "2c6b2713-f96a-460a-aa52-f6f7beba32d2",
   "metadata": {},
   "source": [
    "Notice that pandas has numbered the rows for us, and it also understands that the first row is a header, isn't that useful. Now we have this dataframe object we can do all sorts of things. We can print specific columns by calling them.\n",
    "\n",
    "Run the next examples to see this in action."
   ]
  },
  {
   "cell_type": "code",
   "execution_count": null,
   "id": "4e436442-18ce-465c-b57c-8b1dd49c00ee",
   "metadata": {},
   "outputs": [],
   "source": [
    "# print the Month row\n",
    "print(df['Month'])"
   ]
  },
  {
   "cell_type": "code",
   "execution_count": null,
   "id": "9b67ab11-7e31-49a0-9500-409c7e320c99",
   "metadata": {},
   "outputs": [],
   "source": [
    "# print the 2020 row\n",
    "print(df['2020'])"
   ]
  },
  {
   "cell_type": "markdown",
   "id": "88c24c2c-a96a-4eb3-bdf2-7c01b96c296a",
   "metadata": {},
   "source": [
    "## DataFrame operations\n",
    "\n",
    "As you can probably see this is much easier than doing it with the basic CSV module, we dont have to do any with open or any conditionals or any loops, we are achieving the same thing in one line.\n",
    "\n",
    "The pandas dataframe object actually has many uses have a look at [the list](https://pandas.pydata.org/pandas-docs/stable/reference/api/pandas.DataFrame.html).\n",
    "\n",
    "Run these examples to see this in action. First lets try to sum up some rows. All you need to do is add one of the functions after the square brackets inside the print function."
   ]
  },
  {
   "cell_type": "code",
   "execution_count": null,
   "id": "3cc99501-b483-4017-bbc7-8706f6f613ea",
   "metadata": {},
   "outputs": [],
   "source": [
    "# print the 2020 row sum\n",
    "print(df['2020'].sum())"
   ]
  },
  {
   "cell_type": "code",
   "execution_count": null,
   "id": "a1fba3e8-7a08-4f8c-9d8b-71ba6fe1dc23",
   "metadata": {},
   "outputs": [],
   "source": [
    "# print the 2020 row sum\n",
    "print(df['2023'].sum())"
   ]
  },
  {
   "cell_type": "markdown",
   "id": "e35cf5a6-6605-4468-9da3-b532643426fa",
   "metadata": {},
   "source": [
    "What about other functions? mean, mode, min, max, all just work in the same way!"
   ]
  },
  {
   "cell_type": "code",
   "execution_count": null,
   "id": "9fc418da-4e28-40f6-b53a-dcb1a913858f",
   "metadata": {},
   "outputs": [],
   "source": [
    "# print the 2020 row sum\n",
    "print(df['2023'].min())"
   ]
  },
  {
   "cell_type": "code",
   "execution_count": null,
   "id": "110a6483-fd59-4c93-9588-e1d12835bfcd",
   "metadata": {},
   "outputs": [],
   "source": [
    "# print the 2020 row sum\n",
    "print(df['2023'].max())"
   ]
  },
  {
   "cell_type": "code",
   "execution_count": null,
   "id": "ac0f29bd-c9f8-4255-a3cd-d6ced50f7a4a",
   "metadata": {},
   "outputs": [],
   "source": [
    "# print the 2020 row sum\n",
    "print(df['2023'].median())"
   ]
  },
  {
   "cell_type": "code",
   "execution_count": null,
   "id": "71043c3e-d593-4e93-93c8-cb99e64ed2f1",
   "metadata": {},
   "outputs": [],
   "source": [
    "# print the 2020 row sum\n",
    "print(df['2023'].mean())"
   ]
  },
  {
   "cell_type": "code",
   "execution_count": null,
   "id": "6883de24-cf1d-4237-ab48-30ad47fdc2b1",
   "metadata": {},
   "outputs": [],
   "source": [
    "# print the 2020 row sum\n",
    "print(df['2023'].mode())"
   ]
  },
  {
   "cell_type": "markdown",
   "id": "0a0a3ecc-fcdb-4b80-8490-85dd970fe430",
   "metadata": {},
   "source": [
    "### Row and column indexes\n",
    "\n",
    "Sometimes we might want to search for a particular row based on a column, there are a couple of ways to achieve this we could use indexing, pandas supports checking by row or column number. To print the first row we use the `loc` location function and provide an index value."
   ]
  },
  {
   "cell_type": "code",
   "execution_count": null,
   "id": "dab97307-1456-41a5-9e3e-d97c44102baf",
   "metadata": {},
   "outputs": [],
   "source": [
    "# print zeroth row (1st)\n",
    "print(df.loc[[0]])"
   ]
  },
  {
   "cell_type": "code",
   "execution_count": null,
   "id": "510b32b3-dc34-4184-abdb-12f687929f27",
   "metadata": {},
   "outputs": [],
   "source": [
    "# print third row\n",
    "print(df.loc[[2]])"
   ]
  },
  {
   "cell_type": "code",
   "execution_count": null,
   "id": "3eb438cd-efe4-4664-8cf0-43837f12d1c2",
   "metadata": {},
   "outputs": [],
   "source": [
    "# print third and fourth row\n",
    "print(df.loc[[2,3]])"
   ]
  },
  {
   "cell_type": "markdown",
   "id": "d218fb4b-a0f7-4544-b3a1-5713c38175bb",
   "metadata": {},
   "source": [
    "## Search a file looking for a string\n",
    "\n",
    "We can use `loc` to search for a particular value."
   ]
  },
  {
   "cell_type": "code",
   "execution_count": null,
   "id": "a1967769-377a-4870-a5e3-d339fd025611",
   "metadata": {},
   "outputs": [],
   "source": [
    "# find feb month row\n",
    "df.loc[df['Month'] == 'Feb']"
   ]
  },
  {
   "cell_type": "markdown",
   "id": "9329ce4f-2c04-477d-b606-26ebc68fe566",
   "metadata": {},
   "source": [
    "## What if the delimiter is not a ',' and the file doesn't have a header row?\n",
    "\n",
    "That is really simple if we have a TAB delimited file or a : delimited file, we just tell pandas the delimiter when we read in the file the keyword for this is `sep` (short for seperator).\n",
    "\n",
    "We can also tell pandas that the file doesn't have a header row and it will number the columns for us. The good thing about this is that we can work with files that are not true CSV files, and convert these into dataframes as well.\n",
    "\n",
    "Here is an example of a space delimited file with no header row:\n",
    "\n",
    "`df = pd.read_csv('file.txt', sep=' ', header=None)`\n",
    "\n",
    "Or a tab delimited file with a header row:\n",
    "\n",
    "`df = pd.read_csv('file.txt', sep='\\t')`\n",
    "\n",
    "Or a ; delimited file with a header row:\n",
    "\n",
    "`df = pd.read_csv('file.txt', sep=';')`\n",
    "\n",
    "Or even use a string as a separator on a file with no header:\n",
    "\n",
    "`df = pd.read_csv('file.txt', sep='error', header=None)`"
   ]
  },
  {
   "cell_type": "code",
   "execution_count": null,
   "id": "fc3a66da-5ad7-4268-be14-c218157cfed4",
   "metadata": {},
   "outputs": [],
   "source": [
    "# a bonus, we only scratched the surface in this notebook, try this out\n",
    "df.plot()"
   ]
  },
  {
   "cell_type": "code",
   "execution_count": null,
   "id": "b59c9693-2736-4895-958a-0c06fe008415",
   "metadata": {},
   "outputs": [],
   "source": [
    "# visualise a specific year\n",
    "df['2020'].plot(title='2020 plot')"
   ]
  },
  {
   "cell_type": "markdown",
   "id": "9d4f6be6-ecca-4660-86dc-e1d62707995b",
   "metadata": {},
   "source": [
    "# Conclusion\n",
    "\n",
    "Pandas is an incredibly powerful library with applications in data science, it is be incredibly useful for fields such as cyber security, finance, science and engineering. Very often computers will output large data files and being able to work on these as dataframes gives us the ability to do this with ease.\n",
    "\n",
    "Download the `100_sales_records` CSV file from Moodle, import and answer the questions."
   ]
  },
  {
   "cell_type": "markdown",
   "id": "8f066d71-58c4-4182-89aa-a275605250f3",
   "metadata": {},
   "source": [
    "# Questions\n",
    "\n",
    "##### Create a new dataframe called `df` from the file and print out the head of the dataframe?"
   ]
  },
  {
   "cell_type": "code",
   "execution_count": null,
   "id": "8911b1f2-d3ce-4e57-9496-0d0b9abf416d",
   "metadata": {},
   "outputs": [],
   "source": [
    "# answer in this cell\n"
   ]
  },
  {
   "cell_type": "markdown",
   "id": "2c1734f0-e421-43e7-b35f-6a005ac52516",
   "metadata": {
    "tags": []
   },
   "source": [
    "##### Write the code to show the mean value in the Units Sold column?"
   ]
  },
  {
   "cell_type": "code",
   "execution_count": null,
   "id": "723aa196-e27c-4124-82c4-0ef58e595c5a",
   "metadata": {},
   "outputs": [],
   "source": [
    "# answer in this cell\n"
   ]
  },
  {
   "cell_type": "markdown",
   "id": "e2331ffb-9c86-4832-a6a8-dac2436abf0a",
   "metadata": {
    "tags": []
   },
   "source": [
    "##### Write the code to show sum of all the values in the unit price column?"
   ]
  },
  {
   "cell_type": "code",
   "execution_count": null,
   "id": "10878988-bc61-483c-ad90-e3147c5828a3",
   "metadata": {},
   "outputs": [],
   "source": [
    "# answer in this cell\n"
   ]
  },
  {
   "cell_type": "markdown",
   "id": "624c5e44-d3f1-46e9-992e-ac3efc1a256f",
   "metadata": {
    "tags": []
   },
   "source": [
    "##### Write the code to show sum of all the values in the total profit column?"
   ]
  },
  {
   "cell_type": "code",
   "execution_count": null,
   "id": "eb85b225-41ee-401b-bb52-d4e304c870f1",
   "metadata": {},
   "outputs": [],
   "source": [
    "# answer in this cell\n"
   ]
  },
  {
   "cell_type": "markdown",
   "id": "198b2248-2fee-4eb3-b8f4-9735d407887f",
   "metadata": {
    "tags": []
   },
   "source": [
    "##### Write the code to show the most common item type?"
   ]
  },
  {
   "cell_type": "code",
   "execution_count": null,
   "id": "11ee0f11-1f95-442e-ba63-c5d1b82ac68c",
   "metadata": {},
   "outputs": [],
   "source": [
    "# answer in this cell\n"
   ]
  },
  {
   "cell_type": "markdown",
   "id": "c0b01a4f-2c16-43e8-a39b-e6baef41a5a3",
   "metadata": {
    "tags": []
   },
   "source": [
    "##### Write the code to show the highest cost item type?"
   ]
  },
  {
   "cell_type": "code",
   "execution_count": null,
   "id": "5a207a49-de90-49ad-93ef-84f1d369d6d7",
   "metadata": {},
   "outputs": [],
   "source": [
    "# answer in this cell\n"
   ]
  },
  {
   "cell_type": "markdown",
   "id": "9626eefb-40b2-4928-a4c7-a5eda0be313a",
   "metadata": {
    "tags": []
   },
   "source": [
    "##### Write the code to show the lowest cost item type?"
   ]
  },
  {
   "cell_type": "code",
   "execution_count": null,
   "id": "b5b8f7c5-6fa3-4aa8-b76e-d34ca3a07c8e",
   "metadata": {},
   "outputs": [],
   "source": [
    "# answer in this cell\n"
   ]
  },
  {
   "cell_type": "markdown",
   "id": "793cbcaa-84a7-4419-a3cb-197fd5e261e9",
   "metadata": {
    "tags": []
   },
   "source": [
    "##### Create plot of the total profit column?"
   ]
  },
  {
   "cell_type": "code",
   "execution_count": null,
   "id": "34e7c981-7fa3-45fd-9a45-ac58212084bc",
   "metadata": {},
   "outputs": [],
   "source": [
    "# answer in this cell\n"
   ]
  },
  {
   "cell_type": "markdown",
   "id": "7cfc9967-f0b3-4ef3-814d-db180c4c5419",
   "metadata": {
    "tags": []
   },
   "source": [
    "<div class=\"alert alert-block alert-danger\"><b>Challenge:</b> If that was all too easy, try this</div>\n",
    "\n",
    "##### Create a plot that shows total profit again but this time, the plot should have different lines, one for each region, each line should be a different colour, there should be a legend on the plot, a main title and axis titles? [Some help here](https://datatofish.com/plot-dataframe-pandas/)"
   ]
  },
  {
   "cell_type": "code",
   "execution_count": null,
   "id": "a77d486a-b67f-4653-a51f-5f9bafbddac6",
   "metadata": {},
   "outputs": [],
   "source": [
    "# answer in this cell\n"
   ]
  }
 ],
 "metadata": {
  "kernelspec": {
   "display_name": "Python 3 (ipykernel)",
   "language": "python",
   "name": "python3"
  },
  "language_info": {
   "codemirror_mode": {
    "name": "ipython",
    "version": 3
   },
   "file_extension": ".py",
   "mimetype": "text/x-python",
   "name": "python",
   "nbconvert_exporter": "python",
   "pygments_lexer": "ipython3",
   "version": "3.9.2"
  },
  "toc-autonumbering": true
 },
 "nbformat": 4,
 "nbformat_minor": 5
}
