{
 "cells": [
  {
   "cell_type": "markdown",
   "id": "2d5f66c2",
   "metadata": {
    "tags": []
   },
   "source": [
    "# Computer Programming and Software Development Introduction 9: Decomposition\n",
    "#### Notebook by: michael.ferrie@edinburghcollege.ac.uk\n",
    "#### Edinburgh College, Apr 2022"
   ]
  },
  {
   "cell_type": "markdown",
   "id": "521bca2c-02de-47eb-9903-f961bd2feb4a",
   "metadata": {},
   "source": [
    "<div class=\"alert alert-block alert-danger\">\n",
    "    <b>Note:</b> Make sure you run every cell, click on the cell and press <b>CTRL+ENTER</b>\n",
    "</div>"
   ]
  },
  {
   "cell_type": "markdown",
   "id": "1745d9ec-c90a-402c-ad75-2d84f77b4450",
   "metadata": {},
   "source": [
    "#### Introduction\n",
    "\n",
    "We have reached a point in this course where you should be confident writing simple python programs. This notebook is designed to help you build you problem solving skills."
   ]
  },
  {
   "cell_type": "markdown",
   "id": "75d23878-c4f6-4ed4-984e-2c97036f0cfd",
   "metadata": {
    "tags": []
   },
   "source": [
    "<div class=\"alert alert-block alert-success\">\n",
    "<b>How to answer: </b> Add your code to the code cell below each question.\n",
    "</div>"
   ]
  },
  {
   "cell_type": "markdown",
   "id": "a51c1218-2c3b-4305-9b51-4b066db6b6aa",
   "metadata": {
    "tags": []
   },
   "source": [
    "## Interest calculator and menu system\n",
    "\n",
    "For this task we are going to make a Credit Card repayment calculator. We are going to work out the monthly repayment for a credit card. In order to do this we need to achieve the following.\n",
    "\n",
    "* Create a menu with two select options and a quit option\n",
    "* For both options, the user should enter a balance between £1 and £5000\n",
    "* The user should enter an interest rate\n",
    "* The minimum repayment is 1% plus interest\n",
    "* Round decimal places up from 0.5, you can use the round function for this\n",
    "\n",
    "\n",
    "### Option 1: Minimum Repayment Calculator\n",
    "\n",
    "For each user's balance print out the number of months it will take to pay off the credit card paying only the minimum repayment each month, you do not need to name the months as in Jan, Feb, just call them month 1 month 2. Consider the following example when devising your solution:\n",
    "\n",
    "#### Minimum Repayment Example\n",
    "\n",
    "Customer 1 takes a credit card and uses it for a one\n",
    "time purchase of £3000, they know they will only be able to pay the minimum balance for the foreseeable future. Print out a repayment plan for Customer 1 showing how much they will repay each month and what the balance is, until the balance is lower than £10.\n",
    "\n",
    "#### How to calculate: \n",
    "\n",
    "First, we need the minimum repayment so 1% of 3000 is £30, then we calculate the interest. The interest is based on the whole balance annually so:\n",
    "\n",
    "Month 1: Balance £3000 (1% of £3000 is £30)\n",
    "18.9% of 3000 = 567 then / 12 to get monthly interest = £47.25\n",
    "\n",
    "Repayment this month is interest plus minimum 47.25 + 30 = £77.25\n",
    "\n",
    "Next months balance is total minus minimum (but not the interest) 3000-30 = £2970\n",
    "Month 2: Balance £2970 (1% of £2970 = £29.70)\n",
    "18.9% of 2970 = 561.33 then / 12 to get monthly interest = 46.777 (round up) £46.78\n",
    "\n",
    "Repayment this month is interest plus minimum 46.78 + 29.70 = £76.48\n",
    "\n",
    "Next months balance is total minus minimum (but not the interest) 2970-29.70 = £2940.30\n",
    "\n",
    "#### Option 2 - Overpayment Calculator\n",
    "\n",
    "The user should enter the balance and interest rate as well as how much they would like to pay per month and then the calculator should calculate how long this will take including interest and then print out the remaining balance each month.\n",
    "For example, the customer might want to make a fixed payment of £200 per month, given the balance and interest rate, how long will this take to pay off the debt.\n",
    "\n",
    "\n",
    "#### Example output\n",
    "\n",
    "The program output should look similar to this:\n",
    "\n",
    "`*** Please select an option ***`\n",
    "\n",
    "`[1] Calculate Minimum Repayment Plan`\n",
    "\n",
    "`[2] Calculate Overpayment Plan`\n",
    "\n",
    "`[q] Quit`\n",
    "\n",
    "`You chose option 1 minimum repayment - please enter account balance:`\n",
    "\n",
    "`3000`\n",
    "\n",
    "`Please enter interest rate:`\n",
    "\n",
    "`18.9`\n",
    "\n",
    "`Your repayment plan is:`\n",
    "\n",
    "`Month 1 Balance 3000 Payment 77.25`\n",
    "\n",
    "`Month 2 Balance ? Payment ?`\n",
    "\n",
    "`Month 3 ? ?`\n",
    "\n",
    "`…`"
   ]
  },
  {
   "cell_type": "markdown",
   "id": "67647cfb-d1c4-496f-a2c6-8e73473c9af7",
   "metadata": {},
   "source": [
    "## Step 1 Decomposition\n",
    "\n",
    "Double click in the next cell and write out a decomposition of the problem, breaking it down into steps. Use the examples on moodle as the basis for this."
   ]
  },
  {
   "cell_type": "markdown",
   "id": "e880bb71-8a38-4762-bf42-68de378867a6",
   "metadata": {},
   "source": [
    "> program decomposition here\n",
    "    >> and here\n",
    "    >>> and here"
   ]
  },
  {
   "cell_type": "markdown",
   "id": "42ab47d9-3081-48ab-9ebd-6c9ab84d701f",
   "metadata": {},
   "source": [
    "## Step 2 Creating the program\n",
    "\n",
    "Use your decomposition to write out the problem, start with the first level problems and work your way through them one at a time. Be very methodical and break each problem down into the smallest steps."
   ]
  },
  {
   "cell_type": "code",
   "execution_count": null,
   "id": "86ef1984-7990-497b-9502-a8b330d856b3",
   "metadata": {},
   "outputs": [],
   "source": [
    "# your solution here\n",
    "\n",
    "\n"
   ]
  }
 ],
 "metadata": {
  "kernelspec": {
   "display_name": "Python 3 (ipykernel)",
   "language": "python",
   "name": "python3"
  },
  "language_info": {
   "codemirror_mode": {
    "name": "ipython",
    "version": 3
   },
   "file_extension": ".py",
   "mimetype": "text/x-python",
   "name": "python",
   "nbconvert_exporter": "python",
   "pygments_lexer": "ipython3",
   "version": "3.9.2"
  },
  "toc-autonumbering": true,
  "toc-showmarkdowntxt": false
 },
 "nbformat": 4,
 "nbformat_minor": 5
}
