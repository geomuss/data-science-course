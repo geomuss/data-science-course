{
 "cells": [
  {
   "cell_type": "markdown",
   "id": "bd6402ec-0cd9-4f5a-ae40-55a0e0fcf245",
   "metadata": {},
   "source": [
    "# PDA data science - Machine Learning (Unsupervised)\n",
    "<div class=\"alert alert-block alert-info\"> \n",
    "    Notebook 10: by michael.ferrie@edinburghcollege.ac.uk <br> Edinburgh College, April 2022\n",
    "</div>"
   ]
  },
  {
   "cell_type": "markdown",
   "id": "a8679493-10d6-4817-be70-dea4a7878967",
   "metadata": {},
   "source": [
    "# K-means clustering \n",
    "\n",
    "Unsupervised learning, also known as unsupervised machine learning, uses machine learning algorithms to analyse and cluster unlabelled datasets. These algorithms discover hidden patterns or data groupings without the need for human intervention. Its ability to discover similarities and differences in information make it the ideal solution for exploratory data analysis, cross-selling strategies, customer segmentation, and image recognition.\n",
    "\n",
    "Exclusive clustering is a form of grouping that stipulates a data point can exist only in one cluster. This can also be referred to as “hard” clustering. The K-means clustering algorithm is an example of exclusive clustering. K-Means clustering is the most popular unsupervised machine learning algorithm. K-Means clustering is used to find intrinsic groups within the unlabelled dataset and draw inferences from them.\n",
    "\n",
    "K-means clustering is a common example of an exclusive clustering method where data points are assigned into K groups, where K represents the number of clusters based on the distance from each groups centroid. The data points closest to a given centroid will be clustered under the same category. A larger K value will be indicative of smaller groupings with more granularity whereas a smaller K value will have larger groupings and less granularity. K-means clustering is commonly used in market segmentation, document clustering, image segmentation, and image compression.\n",
    "\n",
    "## Applications of unsupervised learning\n",
    "\n",
    "Machine learning techniques have become a common method to improve a product user experience and to test systems for quality assurance. Unsupervised learning provides an exploratory path to view data, allowing businesses to identify patterns in large volumes of data more quickly when compared to manual observation. Some of the most common real-world applications of unsupervised learning are:\n",
    "\n",
    "* News Sections: Google News uses unsupervised learning to categorise articles.\n",
    "* Computer vision: Visual perception tasks, such as object recognition.\n",
    "* Medical imaging: Image detection, classification and segmentation, used in radiology and pathology to diagnose patients quickly and accurately.\n",
    "* Anomaly detection: Anomalies can raise awareness around faulty equipment, human error, or breaches in security.\n",
    "* Customer personas: Defining customer personas makes it easier to understand common traits and business clients' purchasing habits.\n",
    "* Recommendation Engines: Using past purchase behaviour data to discover data trends that can be used to develop more effective selling strategies.\n",
    "\n",
    "[More information](https://www.ibm.com/cloud/learn/unsupervised-learning) on k-means clustering and the application of unsupervised machine learning.\n",
    "\n",
    "## A simple example\n",
    "\n",
    "In order to illustrate clustering in operation I have created a very simple example, in the next code cell we have two datasets, these datasets are in two separate areas, we easily put them into two categories. Run the code to see the output."
   ]
  },
  {
   "cell_type": "code",
   "execution_count": 1,
   "id": "bbe6e492-1a98-4bef-b754-21dc88d03673",
   "metadata": {},
   "outputs": [
    {
     "data": {
      "image/png": "[encoded data removed]",
      "text/plain": [
       "<Figure size 432x288 with 1 Axes>"
      ]
     },
     "metadata": {
      "needs_background": "light"
     },
     "output_type": "display_data"
    }
   ],
   "source": [
    "# import libraries\n",
    "import matplotlib.pyplot as plt\n",
    "import numpy as np\n",
    "\n",
    "# create example data points for one category\n",
    "x = [81,67,89,103,89,85]\n",
    "x2 = [89,83,61,63,78,89]\n",
    "\n",
    "# create exmaple data points for second category\n",
    "y = [1,4,5,3,14,13]\n",
    "y2 = [6,5,6,4,3,4]\n",
    "\n",
    "# plot points on chart in different colours\n",
    "plt.scatter(x, x2, color='red')\n",
    "plt.scatter(y, y2, color='green')\n",
    "plt.show()"
   ]
  },
  {
   "cell_type": "markdown",
   "id": "bdff953c-95d3-47b0-af32-9acdcec0bb7d",
   "metadata": {},
   "source": [
    "This is a very simple example let us say we wanted to find the centre of each of the categories we could take the mean values from each and then use that as a new data point or a decision making point. Each list has 6 values in it, so if we sum these and divide by 12 we can get a central point for each cluster."
   ]
  },
  {
   "cell_type": "code",
   "execution_count": 2,
   "id": "87b667bc-e63d-4cf2-b7b9-75d0112f25df",
   "metadata": {},
   "outputs": [
    {
     "name": "stdout",
     "output_type": "stream",
     "text": [
      "Mean of x values:  81.41666666666667\n",
      "Mean of y values:  5.666666666666667\n"
     ]
    }
   ],
   "source": [
    "# create example data points for one category\n",
    "x = [81,67,89,103,89,85]\n",
    "x2 = [89,83,61,63,78,89]\n",
    "\n",
    "# create exmaple data points for second category\n",
    "y = [1,4,5,3,14,13]\n",
    "y2 = [6,5,6,4,3,4]\n",
    "\n",
    "# calculate mean of x and mean of y\n",
    "print(\"Mean of x values: \" , (sum(x) + sum(x2)) / 12)\n",
    "print(\"Mean of y values: \" , (sum(y) + sum(y2)) / 12)"
   ]
  },
  {
   "cell_type": "markdown",
   "id": "3d67458c-f77e-4b18-ba9a-43fc8824e223",
   "metadata": {},
   "source": [
    "Using this central point we can make a decision on a new data point, lets say we had one new point of 20, which category would we put it into? Hopefully you think the green category, because 20 is closer to the mean of the y values cluster.\n",
    "\n",
    "This illustration shows how k-means clustering groups together data points into clusters.\n",
    "\n",
    "![cluster image](data:image/jpeg;base64,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)"
   ]
  },
  {
   "cell_type": "markdown",
   "id": "24b253b5-7394-42a8-9ae6-e320c37b53ff",
   "metadata": {},
   "source": [
    "## Working example\n",
    "\n",
    "This example is deliberately over simplified to make the process as easy to understand as possible, _obviously_ in the real world we would be doing this on a much larger dataset. However it is important not to make the dataset huge and confusing when you first learn these concepts. This on this as a pen and paper example.\n",
    "\n",
    "In order for this to work we need to install some libraries:\n",
    "\n",
    "On Windows `python -m pip install seaborn warnings numpy sklearn yellowbrick`\n",
    "\n",
    "On Linux `pip install seaborn warnings numpy sklearn yellowbrick`\n",
    "\n",
    "Then import these into the notebook, and create a small dataframe. We are going to use a tests in this example, this is a fictitious Maths test, the test was out of 100, and we will compare the grade to the hours spent studying."
   ]
  },
  {
   "cell_type": "code",
   "execution_count": 3,
   "id": "fc14cc32-517e-424a-801c-2b2da7a8bec7",
   "metadata": {},
   "outputs": [
    {
     "data": {
      "text/html": [
       "<div>\n",
       "<style scoped>\n",
       "    .dataframe tbody tr th:only-of-type {\n",
       "        vertical-align: middle;\n",
       "    }\n",
       "\n",
       "    .dataframe tbody tr th {\n",
       "        vertical-align: top;\n",
       "    }\n",
       "\n",
       "    .dataframe thead th {\n",
       "        text-align: right;\n",
       "    }\n",
       "</style>\n",
       "<table border=\"1\" class=\"dataframe\">\n",
       "  <thead>\n",
       "    <tr style=\"text-align: right;\">\n",
       "      <th></th>\n",
       "      <th>Grade</th>\n",
       "      <th>Hours_of_Study</th>\n",
       "    </tr>\n",
       "  </thead>\n",
       "  <tbody>\n",
       "    <tr>\n",
       "      <th>0</th>\n",
       "      <td>91</td>\n",
       "      <td>6.4</td>\n",
       "    </tr>\n",
       "    <tr>\n",
       "      <th>1</th>\n",
       "      <td>85</td>\n",
       "      <td>6.1</td>\n",
       "    </tr>\n",
       "    <tr>\n",
       "      <th>2</th>\n",
       "      <td>98</td>\n",
       "      <td>7.1</td>\n",
       "    </tr>\n",
       "    <tr>\n",
       "      <th>3</th>\n",
       "      <td>52</td>\n",
       "      <td>5.4</td>\n",
       "    </tr>\n",
       "    <tr>\n",
       "      <th>4</th>\n",
       "      <td>65</td>\n",
       "      <td>3.2</td>\n",
       "    </tr>\n",
       "  </tbody>\n",
       "</table>\n",
       "</div>"
      ],
      "text/plain": [
       "   Grade  Hours_of_Study\n",
       "0     91             6.4\n",
       "1     85             6.1\n",
       "2     98             7.1\n",
       "3     52             5.4\n",
       "4     65             3.2"
      ]
     },
     "execution_count": 3,
     "metadata": {},
     "output_type": "execute_result"
    }
   ],
   "source": [
    "# import libraries\n",
    "import numpy as np\n",
    "import pandas as pd\n",
    "import seaborn as sns\n",
    "import matplotlib.pyplot as plt\n",
    "import warnings\n",
    "from sklearn.cluster import KMeans\n",
    "warnings.filterwarnings('ignore')\n",
    "\n",
    "# create dataset for testing\n",
    "data = {'Grade':[91, 85, 98, 52, 65, 20, 13, 50, 48, 15], 'Hours_of_Study':[6.4, 6.1, 7.1, 5.4, 3.2, 2.8, 3.1, 2.8, 3.1, 2.1]}\n",
    " \n",
    "# create pandas df from data\n",
    "df = pd.DataFrame(data)\n",
    "\n",
    "# show top of dataframe\n",
    "df.head()"
   ]
  },
  {
   "cell_type": "code",
   "execution_count": 4,
   "id": "c46294cd-f790-4b98-99f0-b09e783155c8",
   "metadata": {},
   "outputs": [
    {
     "data": {
      "text/html": [
       "<div>\n",
       "<style scoped>\n",
       "    .dataframe tbody tr th:only-of-type {\n",
       "        vertical-align: middle;\n",
       "    }\n",
       "\n",
       "    .dataframe tbody tr th {\n",
       "        vertical-align: top;\n",
       "    }\n",
       "\n",
       "    .dataframe thead th {\n",
       "        text-align: right;\n",
       "    }\n",
       "</style>\n",
       "<table border=\"1\" class=\"dataframe\">\n",
       "  <thead>\n",
       "    <tr style=\"text-align: right;\">\n",
       "      <th></th>\n",
       "      <th>Grade</th>\n",
       "      <th>Hours_of_Study</th>\n",
       "    </tr>\n",
       "  </thead>\n",
       "  <tbody>\n",
       "    <tr>\n",
       "      <th>5</th>\n",
       "      <td>20</td>\n",
       "      <td>2.8</td>\n",
       "    </tr>\n",
       "    <tr>\n",
       "      <th>6</th>\n",
       "      <td>13</td>\n",
       "      <td>3.1</td>\n",
       "    </tr>\n",
       "    <tr>\n",
       "      <th>7</th>\n",
       "      <td>50</td>\n",
       "      <td>2.8</td>\n",
       "    </tr>\n",
       "    <tr>\n",
       "      <th>8</th>\n",
       "      <td>48</td>\n",
       "      <td>3.1</td>\n",
       "    </tr>\n",
       "    <tr>\n",
       "      <th>9</th>\n",
       "      <td>15</td>\n",
       "      <td>2.1</td>\n",
       "    </tr>\n",
       "  </tbody>\n",
       "</table>\n",
       "</div>"
      ],
      "text/plain": [
       "   Grade  Hours_of_Study\n",
       "5     20             2.8\n",
       "6     13             3.1\n",
       "7     50             2.8\n",
       "8     48             3.1\n",
       "9     15             2.1"
      ]
     },
     "execution_count": 4,
     "metadata": {},
     "output_type": "execute_result"
    }
   ],
   "source": [
    "# show bottom of dataframe\n",
    "df.tail()"
   ]
  },
  {
   "cell_type": "code",
   "execution_count": 72,
   "id": "55c6fba3-c253-4a52-a261-33776723bc4f",
   "metadata": {},
   "outputs": [
    {
     "data": {
      "text/plain": [
       "(10, 2)"
      ]
     },
     "execution_count": 72,
     "metadata": {},
     "output_type": "execute_result"
    }
   ],
   "source": [
    "# show shape of dataframe\n",
    "df.shape"
   ]
  },
  {
   "cell_type": "markdown",
   "id": "7475a37a-0a8a-4b61-8272-0f274717821c",
   "metadata": {},
   "source": [
    "10 , 2 means 10 rows and 2 columns, now we can visualise the data.\n",
    "\n",
    "## Seaborn \n",
    "\n",
    "Seaborn is one of the world’s most regarded Python libraries that is purpose-built to create beautiful-looking visualisations. We have already imported it as `sns`. We can use the `barplot()` function to show the data, notice how it colours the bars automatically for us."
   ]
  },
  {
   "cell_type": "code",
   "execution_count": 4,
   "id": "1baa216f-feee-413b-897b-3181e8aa4ec0",
   "metadata": {},
   "outputs": [
    {
     "data": {
      "image/png": "[encoded data removed]",
      "text/plain": [
       "<Figure size 1080x432 with 1 Axes>"
      ]
     },
     "metadata": {
      "needs_background": "light"
     },
     "output_type": "display_data"
    }
   ],
   "source": [
    "# set plotsize\n",
    "plt.figure(figsize=(15,6))\n",
    "\n",
    "# use barplot fuction, pass in an x an y value\n",
    "sns.barplot(x = 'Grade', y = 'Hours_of_Study', data = df)\n",
    "\n",
    "# show plot\n",
    "plt.show()"
   ]
  },
  {
   "cell_type": "markdown",
   "id": "3932afaf-c1f3-405f-b415-1bd2789c2067",
   "metadata": {},
   "source": [
    "Create a `countplot` just using the hours, notice there are two matching study times, the rest are unique."
   ]
  },
  {
   "cell_type": "code",
   "execution_count": 5,
   "id": "9661d743-c073-43eb-a246-30557515325b",
   "metadata": {},
   "outputs": [
    {
     "data": {
      "text/plain": [
       "<AxesSubplot:xlabel='Hours_of_Study', ylabel='count'>"
      ]
     },
     "execution_count": 5,
     "metadata": {},
     "output_type": "execute_result"
    },
    {
     "data": {
      "image/png": "[encoded data removed]",
      "text/plain": [
       "<Figure size 1080x432 with 1 Axes>"
      ]
     },
     "metadata": {
      "needs_background": "light"
     },
     "output_type": "display_data"
    }
   ],
   "source": [
    "# set plot size\n",
    "plt.figure(figsize=(15,6))\n",
    "\n",
    "# countplot on hours variable\n",
    "sns.countplot(x = 'Hours_of_Study', data = df)"
   ]
  },
  {
   "cell_type": "markdown",
   "id": "7b584f27-14db-4e8c-8123-adbb172e2f22",
   "metadata": {},
   "source": [
    "Lets have a look at the statistical variance with a box plot, for this we can use the boxplot function."
   ]
  },
  {
   "cell_type": "code",
   "execution_count": 6,
   "id": "2b8cef5c-b064-49f0-8ffb-2ad3c9f9ee85",
   "metadata": {},
   "outputs": [
    {
     "data": {
      "image/png": "[encoded data removed]",
      "text/plain": [
       "<Figure size 432x288 with 1 Axes>"
      ]
     },
     "metadata": {
      "needs_background": "light"
     },
     "output_type": "display_data"
    },
    {
     "data": {
      "image/png": "[encoded data removed]",
      "text/plain": [
       "<Figure size 432x288 with 1 Axes>"
      ]
     },
     "metadata": {
      "needs_background": "light"
     },
     "output_type": "display_data"
    }
   ],
   "source": [
    "# Loop over the contents of the data\n",
    "for item in df.columns:\n",
    "    # create boxplot of item\n",
    "    sns.boxplot(x=df[item], orient = 'h')\n",
    "    plt.show()"
   ]
  },
  {
   "cell_type": "markdown",
   "id": "20a7a3a2-144e-428e-ab27-5a7e34af3615",
   "metadata": {},
   "source": [
    "Visualise the data with a scatter plot, notice there seem to be 3 categories."
   ]
  },
  {
   "cell_type": "code",
   "execution_count": 70,
   "id": "db6541db-a5c2-49c7-92b1-7b9f0c7f8a16",
   "metadata": {},
   "outputs": [
    {
     "data": {
      "image/png": "[encoded data removed]",
      "text/plain": [
       "<Figure size 1080x432 with 1 Axes>"
      ]
     },
     "metadata": {
      "needs_background": "light"
     },
     "output_type": "display_data"
    }
   ],
   "source": [
    "# set plotsize\n",
    "plt.figure(figsize=(15,6))\n",
    "\n",
    "# use barplot fuction, pass in an x an y value\n",
    "sns.scatterplot(x = 'Grade', y = 'Hours_of_Study', data = df)\n",
    "\n",
    "# show plot\n",
    "plt.show()"
   ]
  },
  {
   "cell_type": "markdown",
   "id": "9bfa79c4-f781-4d84-a04a-2cf3277aeedb",
   "metadata": {},
   "source": [
    "## Put data into algorithm\n",
    "\n",
    "There are some simple steps to this, first we import the algorithm from the `sklearn` library. As we probably already know, the people who studied for longer did better on the test.\n",
    "\n",
    "First using the pandas `iloc` function put all the values into an array,"
   ]
  },
  {
   "cell_type": "code",
   "execution_count": 75,
   "id": "afb6dd74-8984-4eaa-bc12-92998eccdf06",
   "metadata": {},
   "outputs": [
    {
     "name": "stdout",
     "output_type": "stream",
     "text": [
      "[[91.   6.4]\n",
      " [85.   6.1]\n",
      " [98.   7.1]\n",
      " [52.   5.4]\n",
      " [65.   3.2]\n",
      " [20.   2.8]\n",
      " [13.   3.1]\n",
      " [50.   2.8]\n",
      " [48.   3.1]\n",
      " [15.   2.1]]\n"
     ]
    }
   ],
   "source": [
    "# import algorithm from sklearn\n",
    "from sklearn.cluster import KMeans\n",
    "\n",
    "# convert df to comma seperated array with iloc[:,:]\n",
    "data_array = df.iloc[:,:].values\n",
    "\n",
    "# print out array so we can see it\n",
    "print(data_array)"
   ]
  },
  {
   "cell_type": "markdown",
   "id": "10633910-8b2c-4f1d-b7d1-ca9a18883b64",
   "metadata": {},
   "source": [
    "Now pass data to the algorithm, we are going to use the `fit_predict()` function from the algorithm on the `data_array`. Notice how it has reduced the data into 3 categories, 0, 1 and 2. Those will be our clusters."
   ]
  },
  {
   "cell_type": "code",
   "execution_count": 77,
   "id": "7c7adae2-d811-4550-9edf-d7e7df919b12",
   "metadata": {},
   "outputs": [
    {
     "name": "stdout",
     "output_type": "stream",
     "text": [
      "[2 2 2 0 0 1 1 0 0 1]\n"
     ]
    }
   ],
   "source": [
    "# run KMeans and define number of clusters\n",
    "km = KMeans(n_clusters = 3)\n",
    "\n",
    "# fit prediction to clusters\n",
    "clusters = km.fit_predict(data_array)\n",
    "\n",
    "# print cluster groups\n",
    "print(clusters)"
   ]
  },
  {
   "cell_type": "markdown",
   "id": "7c2fb674-9d8d-42f5-9963-90afd716cd01",
   "metadata": {},
   "source": [
    "Now we have the 3 clusters the algorithm numbers them starting at 0, we can use these to plot the cluster positions in the data array and specify a colour for each."
   ]
  },
  {
   "cell_type": "code",
   "execution_count": 81,
   "id": "f5984918-7ce8-4880-8346-f61e9284d49b",
   "metadata": {},
   "outputs": [
    {
     "data": {
      "text/plain": [
       "<matplotlib.collections.PathCollection at 0x7fb406e31790>"
      ]
     },
     "execution_count": 81,
     "metadata": {},
     "output_type": "execute_result"
    },
    {
     "data": {
      "image/png": "[encoded data removed]",
      "text/plain": [
       "<Figure size 432x288 with 1 Axes>"
      ]
     },
     "metadata": {
      "needs_background": "light"
     },
     "output_type": "display_data"
    }
   ],
   "source": [
    "# plot\n",
    "plt.scatter(data_array[clusters==0,0], data_array[clusters==0,1], color='red')\n",
    "plt.scatter(data_array[clusters==1,0], data_array[clusters==1,1], color='green')\n",
    "plt.scatter(data_array[clusters==2,0], data_array[clusters==2,1], color='blue')"
   ]
  },
  {
   "cell_type": "markdown",
   "id": "653cfa3a-54cd-4fdc-9416-a636055d4186",
   "metadata": {},
   "source": [
    "## More clusters\n",
    "\n",
    "Let's try to get the algorithm to create 5 clusters, we can just specify a larger number of clusters when we run `KMeans(n_clusters = )`. You can see there is a 3 and a 4 category now."
   ]
  },
  {
   "cell_type": "code",
   "execution_count": 82,
   "id": "9c15f7d7-7e0d-4fe9-86ed-f5d04d582d9a",
   "metadata": {},
   "outputs": [
    {
     "name": "stdout",
     "output_type": "stream",
     "text": [
      "[1 1 4 2 3 0 0 2 2 0]\n"
     ]
    }
   ],
   "source": [
    "# run KMeans and define number of clusters\n",
    "km = KMeans(n_clusters = 5)\n",
    "\n",
    "# fit prediction to clusters\n",
    "clusters = km.fit_predict(data_array)\n",
    "\n",
    "print(clusters)"
   ]
  },
  {
   "cell_type": "markdown",
   "id": "0dd53254-6962-4e80-add3-10e716c9948c",
   "metadata": {},
   "source": [
    "Now when we plot we can add 2 more colours, notice that the algorithm has created a new _orange_ and a _purple_ cluster. We can just specify the index values in the array and tell pyplot to assign the cluster a new colour."
   ]
  },
  {
   "cell_type": "code",
   "execution_count": 85,
   "id": "2e0d7fb3-7de8-4486-a844-9e4a324330f7",
   "metadata": {},
   "outputs": [
    {
     "data": {
      "text/plain": [
       "<matplotlib.collections.PathCollection at 0x7fb407eb15e0>"
      ]
     },
     "execution_count": 85,
     "metadata": {},
     "output_type": "execute_result"
    },
    {
     "data": {
      "image/png": "[encoded data removed]",
      "text/plain": [
       "<Figure size 432x288 with 1 Axes>"
      ]
     },
     "metadata": {
      "needs_background": "light"
     },
     "output_type": "display_data"
    }
   ],
   "source": [
    "# plot\n",
    "plt.scatter(data_array[clusters==0,0], data_array[clusters==0,1] ,color='red')\n",
    "plt.scatter(data_array[clusters==1,0], data_array[clusters==1,1] ,color='green')\n",
    "plt.scatter(data_array[clusters==2,0], data_array[clusters==2,1] ,color='blue')\n",
    "plt.scatter(data_array[clusters==3,0], data_array[clusters==3,1] ,color='purple')\n",
    "plt.scatter(data_array[clusters==4,0], data_array[clusters==4,1] ,color='yellow')"
   ]
  },
  {
   "cell_type": "markdown",
   "id": "1fe5c019-113d-45d4-ad0f-171b52152e3a",
   "metadata": {},
   "source": [
    "## Deciding the number of clusters\n",
    "\n",
    "he K Means algorithm aims to assign the data points in your dataset to K distinct clusters. After running the algorithm each observation (data point) will belong to the cluster whose centre it is closest to. But how does it make that decision?\n",
    "\n",
    "The algorithm uses a method called the __elbow__ method. The method consists of plotting the explained variation as a function of the number of clusters, and picking the elbow of the curve as the number of clusters to use.\n",
    "\n",
    "Inertia measures how well a dataset was clustered by K-Means. It is calculated by measuring the distance between each data point and its centroid, squaring this distance, and summing these squares across one cluster. \n",
    "\n",
    "A good model is one with low inertia AND a low number of clusters (K). However, this is a tradeoff because as K increases, inertia decreases. To find the optimal K for a dataset, use the Elbow method; find the point where the decrease in inertia begins to slow. K=3 is the “elbow” of this graph. [More information](https://www.codecademy.com/learn/machine-learning/modules/dspath-clustering/cheatsheet)\n",
    "\n",
    "Lets have a look at this in our dataset. First we need to create an empty list, we know we have 10 datapoints, so we are going to loop over them and use the `km_inertia_` method on the data."
   ]
  },
  {
   "cell_type": "code",
   "execution_count": 107,
   "id": "4952c1ac-406d-4dfa-9ad3-33da4ead1a69",
   "metadata": {},
   "outputs": [
    {
     "name": "stdout",
     "output_type": "stream",
     "text": [
      "[8830.149000000001, 2387.9983333333334, 292.7575, 123.76666666666667, 56.61833333333333, 32.59166666666667, 14.546666666666667, 4.545, 2.045]\n"
     ]
    }
   ],
   "source": [
    "# create empty list\n",
    "data = []\n",
    "\n",
    "# loop over the list\n",
    "for item in range(1,10):\n",
    "    km = KMeans(n_clusters=item)\n",
    "    km.fit_predict(df)\n",
    "    data.append(km.inertia_)\n",
    "\n",
    "# have a look at the results, numbers have been ordered by the algorithm\n",
    "print(data)"
   ]
  },
  {
   "cell_type": "markdown",
   "id": "a644fbeb-6d46-4d16-9df8-cbebeb65976f",
   "metadata": {},
   "source": [
    "Let's see what this looks like visually, you can see that the __elbow__ of the data diminishes at 3, this means that there are 3 natural clusters in the dataset according to the algorithm. Although we were able to force it to use 5 as a test, we can see there are 3."
   ]
  },
  {
   "cell_type": "code",
   "execution_count": 113,
   "id": "5bd6baaa-2631-4737-87c3-7907135829bf",
   "metadata": {},
   "outputs": [
    {
     "data": {
      "text/plain": [
       "[<matplotlib.lines.Line2D at 0x7fb408e32f70>]"
      ]
     },
     "execution_count": 113,
     "metadata": {},
     "output_type": "execute_result"
    },
    {
     "data": {
      "image/png": "[encoded data removed]",
      "text/plain": [
       "<Figure size 432x288 with 1 Axes>"
      ]
     },
     "metadata": {
      "needs_background": "light"
     },
     "output_type": "display_data"
    }
   ],
   "source": [
    "# plot chart\n",
    "plt.plot(range(1,10), data)"
   ]
  },
  {
   "cell_type": "markdown",
   "id": "e5b0fd1a-9c89-4df0-8270-4671d50d8b13",
   "metadata": {},
   "source": [
    "Sometimes it is easier to visualise the chart with the grid turned on, and making it a bit bigger."
   ]
  },
  {
   "cell_type": "code",
   "execution_count": 123,
   "id": "636cc1ab-5ace-4b64-89cc-1c6b828806f2",
   "metadata": {},
   "outputs": [
    {
     "data": {
      "text/plain": [
       "[<matplotlib.lines.Line2D at 0x7fb4044b75b0>]"
      ]
     },
     "execution_count": 123,
     "metadata": {},
     "output_type": "execute_result"
    },
    {
     "data": {
      "image/png": "[encoded data removed]",
      "text/plain": [
       "<Figure size 1080x432 with 1 Axes>"
      ]
     },
     "metadata": {},
     "output_type": "display_data"
    }
   ],
   "source": [
    "# set chart size\n",
    "plt.figure(figsize=(15,6))\n",
    "\n",
    "# add grid\n",
    "plt.grid()\n",
    "\n",
    "# plot chart\n",
    "plt.plot(range(1,10), data)"
   ]
  },
  {
   "cell_type": "markdown",
   "id": "4c61749c-ee20-49fa-8deb-3e8f520514a5",
   "metadata": {},
   "source": [
    "This shows the location of the elbow, the point of diminishing returns, the optimal number of clusters is 3\n",
    "\n",
    "![elbow](https://michaelferrie.com/labs/elbow.gif)"
   ]
  },
  {
   "cell_type": "markdown",
   "id": "99478a37-b17d-4bc8-b38b-b977eb8a6472",
   "metadata": {},
   "source": [
    "### Yellowbrick visualiser\n",
    "\n",
    "The `yellobrick` library has a nice visualisaer for this type of chart, run the KElbowVisualizer function on the `df` against our model `km`."
   ]
  },
  {
   "cell_type": "code",
   "execution_count": 125,
   "id": "fdedcfc7-f754-4c78-94e5-d20551aad648",
   "metadata": {
    "tags": []
   },
   "outputs": [
    {
     "data": {
      "image/png": "[encoded data removed]",
      "text/plain": [
       "<Figure size 576x396 with 2 Axes>"
      ]
     },
     "metadata": {},
     "output_type": "display_data"
    },
    {
     "data": {
      "text/plain": [
       "<AxesSubplot:title={'center':'Distortion Score Elbow for KMeans Clustering'}, xlabel='k', ylabel='distortion score'>"
      ]
     },
     "execution_count": 125,
     "metadata": {},
     "output_type": "execute_result"
    }
   ],
   "source": [
    "# import elbow visualiser\n",
    "from yellowbrick.cluster import KElbowVisualizer\n",
    "\n",
    "# run visualiser\n",
    "visualizer = KElbowVisualizer(km, k=(1,10)).fit(df)\n",
    "visualizer.show()"
   ]
  },
  {
   "cell_type": "markdown",
   "id": "6e0789a0-d83c-4bd6-b569-4ba261578024",
   "metadata": {},
   "source": [
    "# Topic Summary\n",
    "\n",
    "In this notebook we have looked at a pen and paper example of the K-means clustering unsupervised machine learning algorithm with a very small dataset. \n",
    "\n",
    "### Key takeaways\n",
    "\n",
    "* The algorithm an example of unsupervised learning\n",
    "* We can import the algorithm from `sklearn`\n",
    "* We can use `seaborn` for quick visualisations\n",
    "* The algorithm works by calculating centroid points in a dataset\n",
    "* Each centroid becomes the root of the cluster\n",
    "* The number of clusters can be calculated using `km.intertia_`\n",
    "* We can visualise this and find the point of diminishing returns\n",
    "* We can use `pyplot` to create scatter plots of the data visualising the different clusters with colours\n",
    "\n",
    "### K-means clustering limitations\n",
    "\n",
    "* If data is not well separated it can be difficult to define cluster centre points\n",
    "* K-means clustering is sensitive to outliers\n",
    "* K-means works well if the data can be easily categorized"
   ]
  },
  {
   "cell_type": "markdown",
   "id": "8f066d71-58c4-4182-89aa-a275605250f3",
   "metadata": {
    "tags": []
   },
   "source": [
    "# Questions\n",
    "\n",
    "In this notebook we will practice K-means clustering on the __iris__ dataset. If you are unfamiliar with the iris dataset have a read of the [overview](https://archive.ics.uci.edu/ml/datasets/Iris).\n",
    "\n",
    "1 Create a new dataframe called `df` from the dataset., use the `iris.csv` file from Moodle?"
   ]
  },
  {
   "cell_type": "code",
   "execution_count": 137,
   "id": "8911b1f2-d3ce-4e57-9496-0d0b9abf416d",
   "metadata": {},
   "outputs": [],
   "source": [
    "# answer in this cell\n"
   ]
  },
  {
   "cell_type": "markdown",
   "id": "2c1734f0-e421-43e7-b35f-6a005ac52516",
   "metadata": {
    "tags": []
   },
   "source": [
    "2 Write the code to print the output of the following pandas functions, describe, head, tail, shape, columns, value_counts?"
   ]
  },
  {
   "cell_type": "code",
   "execution_count": 1,
   "id": "723aa196-e27c-4124-82c4-0ef58e595c5a",
   "metadata": {},
   "outputs": [],
   "source": [
    "# answer in this cell\n"
   ]
  },
  {
   "cell_type": "markdown",
   "id": "e2331ffb-9c86-4832-a6a8-dac2436abf0a",
   "metadata": {
    "tags": []
   },
   "source": [
    "3 Write the code to create a bar plot with `seaborn`, use sepal.length for the x axis and sepal.width for the y axis?"
   ]
  },
  {
   "cell_type": "code",
   "execution_count": 2,
   "id": "10878988-bc61-483c-ad90-e3147c5828a3",
   "metadata": {},
   "outputs": [],
   "source": [
    "# answer in this cell\n"
   ]
  },
  {
   "cell_type": "markdown",
   "id": "624c5e44-d3f1-46e9-992e-ac3efc1a256f",
   "metadata": {
    "tags": []
   },
   "source": [
    "4 Write the code to create a scatter plot with `seaborn`, use petal.width for the x axis and petal.length for the y axis?"
   ]
  },
  {
   "cell_type": "code",
   "execution_count": 3,
   "id": "eb85b225-41ee-401b-bb52-d4e304c870f1",
   "metadata": {},
   "outputs": [],
   "source": [
    "# answer in this cell\n"
   ]
  },
  {
   "cell_type": "markdown",
   "id": "198b2248-2fee-4eb3-b8f4-9735d407887f",
   "metadata": {
    "tags": []
   },
   "source": [
    "5 Write the code to create a count plot with `seaborn` of sepal width?"
   ]
  },
  {
   "cell_type": "code",
   "execution_count": 4,
   "id": "11ee0f11-1f95-442e-ba63-c5d1b82ac68c",
   "metadata": {},
   "outputs": [],
   "source": [
    "# answer in this cell\n"
   ]
  },
  {
   "cell_type": "markdown",
   "id": "c0b01a4f-2c16-43e8-a39b-e6baef41a5a3",
   "metadata": {
    "tags": []
   },
   "source": [
    "6 Write the code to create a count plot with `seaborn` of petal width?"
   ]
  },
  {
   "cell_type": "code",
   "execution_count": 5,
   "id": "5a207a49-de90-49ad-93ef-84f1d369d6d7",
   "metadata": {},
   "outputs": [],
   "source": [
    "# answer in this cell\n"
   ]
  },
  {
   "cell_type": "markdown",
   "id": "9626eefb-40b2-4928-a4c7-a5eda0be313a",
   "metadata": {
    "tags": []
   },
   "source": [
    "7 Create a box plot with `seaborn` that uses variety on the x axis and petal length on the y axis?"
   ]
  },
  {
   "cell_type": "code",
   "execution_count": 6,
   "id": "b5b8f7c5-6fa3-4aa8-b76e-d34ca3a07c8e",
   "metadata": {},
   "outputs": [],
   "source": [
    "# answer in this cell\n"
   ]
  },
  {
   "cell_type": "markdown",
   "id": "793cbcaa-84a7-4419-a3cb-197fd5e261e9",
   "metadata": {
    "tags": []
   },
   "source": [
    "8 Visualise the whole dataset use the `seaborn` `pairplot()` function on the whole `df`?"
   ]
  },
  {
   "cell_type": "code",
   "execution_count": 7,
   "id": "34e7c981-7fa3-45fd-9a45-ac58212084bc",
   "metadata": {},
   "outputs": [],
   "source": [
    "# answer in this cell\n"
   ]
  },
  {
   "cell_type": "markdown",
   "id": "7cfc9967-f0b3-4ef3-814d-db180c4c5419",
   "metadata": {
    "tags": []
   },
   "source": [
    "9 Make a new dataframe called `df_petal` add the `petal.length` and `petal.width` columns to the dataframe?"
   ]
  },
  {
   "cell_type": "code",
   "execution_count": 8,
   "id": "a77d486a-b67f-4653-a51f-5f9bafbddac6",
   "metadata": {},
   "outputs": [],
   "source": [
    "# answer in this cell\n"
   ]
  },
  {
   "cell_type": "markdown",
   "id": "1f7bd09a-e538-4e7d-ba32-f6a11b7cfe28",
   "metadata": {},
   "source": [
    "10 Create a new empty list called `data` loop over the `df_petal` dataframe and calculate the KMeans data, set the range in the loop as (1,11), print out the `data` list?"
   ]
  },
  {
   "cell_type": "code",
   "execution_count": 9,
   "id": "bbfb2884-99b0-4804-8a43-6e4e3546182d",
   "metadata": {},
   "outputs": [],
   "source": [
    "# answer in this cell\n"
   ]
  },
  {
   "cell_type": "markdown",
   "id": "59176aeb-4f78-4942-9f8e-6b068e941369",
   "metadata": {},
   "source": [
    "11 Use `yellowbrick` to visualise an elbow plot of `df_petal`, you should see that `yellowbrick` is advising k=2, even though we know there are 3 plant varieties, note the sharp drop off after 3?"
   ]
  },
  {
   "cell_type": "code",
   "execution_count": 10,
   "id": "1d56cc9d-4fea-4a69-9fca-afd92d2496a8",
   "metadata": {},
   "outputs": [],
   "source": [
    "# answer in this cell\n"
   ]
  },
  {
   "cell_type": "markdown",
   "id": "95d867b1-0d2e-4336-b27b-c932ca2a5d9d",
   "metadata": {},
   "source": [
    "12 Put the data into an array using `iloc` and `values`, print out the array?"
   ]
  },
  {
   "cell_type": "code",
   "execution_count": 11,
   "id": "27b59ebd-00fd-4138-9ba4-aa839dd8206e",
   "metadata": {
    "tags": []
   },
   "outputs": [],
   "source": [
    "# answer in this cell\n"
   ]
  },
  {
   "cell_type": "markdown",
   "id": "1eb1ca25-a980-4c5b-8c42-fe85c50b645c",
   "metadata": {},
   "source": [
    "13 Set the `n_clusters` to 3 and use `fit_predict` on the `data_array`, print out the clusters?"
   ]
  },
  {
   "cell_type": "code",
   "execution_count": 13,
   "id": "2728cc49-a0b4-45ec-9a7c-a184cda9b70c",
   "metadata": {},
   "outputs": [],
   "source": [
    "# answer in this cell\n"
   ]
  },
  {
   "cell_type": "markdown",
   "id": "4d3f74f4-714f-41fc-8149-a434e7e20b91",
   "metadata": {},
   "source": [
    "14 Plot the data array in a scatter plot, assign a colour for each cluster?"
   ]
  },
  {
   "cell_type": "code",
   "execution_count": 12,
   "id": "e04ef2bc-62d5-4644-9a54-eddf1c3ca833",
   "metadata": {},
   "outputs": [],
   "source": [
    "# answer in this cell\n"
   ]
  },
  {
   "cell_type": "markdown",
   "id": "65bd8a99-9ee6-4e7e-87a0-37629247b746",
   "metadata": {},
   "source": [
    "15 Create a new dataframe called `df_sepal` this time repeat the steps taken from questions 9-14, this time use the KMeans algorithm on the `sepal.length` and `sepal.width` to create a scatter plot with 3 colours, set the `n_clusters` to 3 in the algorithm?"
   ]
  },
  {
   "cell_type": "code",
   "execution_count": null,
   "id": "47ba5eec-5f24-4043-9255-ae71718dd2dd",
   "metadata": {},
   "outputs": [],
   "source": [
    "# answer in this cell\n"
   ]
  }
 ],
 "metadata": {
  "kernelspec": {
   "display_name": "Python 3 (ipykernel)",
   "language": "python",
   "name": "python3"
  },
  "language_info": {
   "codemirror_mode": {
    "name": "ipython",
    "version": 3
   },
   "file_extension": ".py",
   "mimetype": "text/x-python",
   "name": "python",
   "nbconvert_exporter": "python",
   "pygments_lexer": "ipython3",
   "version": "3.9.2"
  },
  "toc-autonumbering": true
 },
 "nbformat": 4,
 "nbformat_minor": 5
}
