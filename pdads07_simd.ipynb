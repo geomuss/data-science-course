{
 "cells": [
  {
   "cell_type": "markdown",
   "id": "bd6402ec-0cd9-4f5a-ae40-55a0e0fcf245",
   "metadata": {},
   "source": [
    "# PDA data science - SIMD 2020\n",
    "<div class=\"alert alert-block alert-info\"> \n",
    "    Notebook 7: by michael.ferrie@edinburghcollege.ac.uk <br> Edinburgh College, April 2022\n",
    "</div>"
   ]
  },
  {
   "cell_type": "markdown",
   "id": "9b4ecc64-0492-473b-970f-ab9904d7970d",
   "metadata": {},
   "source": [
    "#### Scottish Index of Multiple Deprivation 2020\n",
    "\n",
    "[The Scottish Index of Multiple Deprivation](https://www.gov.scot/collections/scottish-index-of-multiple-deprivation-2020/?utm_source=redirect&utm_medium=shorturl&utm_campaign=simd) is a relative measure of deprivation across 6,976 small areas (called data zones). If an area is identified as ‘deprived’, this can relate to people having a low income but it can also mean fewer resources or opportunities. SIMD looks at the extent to which an area is deprived across seven domains: income, employment, education, health, access to services, crime and housing.\n",
    "\n",
    "SIMD is the Scottish Government's standard approach to identify areas of multiple deprivation in Scotland. It can help improve understanding about the outcomes and circumstances of people living in the most deprived areas in Scotland. It can also allow effective targeting of policies and funding where the aim is to wholly or partly tackle or take account of area concentrations of multiple deprivation. have a look at this [comic](https://www.gov.scot/publications/simd-illustrated-story-a-place-in-time/) about the Levenmouth area in Fife.\n",
    "\n",
    "SIMD ranks data zones from most deprived (ranked 1) to least deprived (ranked 6,976). People using SIMD will often focus on the data zones below a certain rank, for example, the 5%, 10%, 15% or 20% most deprived data zones in Scotland. There are some good [visualisations and insights](https://www.gov.scot/publications/scottish-index-multiple-deprivation-2020/pages/5/) available to us already.\n",
    "\n",
    "In this notebook we will make use of the open data provided by the Scottish government for analysis, this should be a skills integration task and should also be a useful exercise in working with a much larger data set. As in previous notebooks we shall make use of data science libraries such as `pandas` to aid our analysis.\n",
    "\n",
    "Before beginning, have a look at this [interactive map](https://simd.scot/#/simd2020/BTTTFTT/9/-4.0000/55.9000/) that has been set up, this is a good way to represent the data and make it accessible to the public.\n",
    "\n",
    "#### Data file for analysis\n",
    "\n",
    "Download the csv file from Moodle and import into pandas, create a new dataframe with the file. Before beginning read the summary of each of the columns in the datafile. The following notes are provided with the data.\n",
    "\n",
    "##### Notes\n",
    "\n",
    "* SIMD 2020 was published on 28 January 2020.\n",
    "* A revision was published in April 2020 due to an error in the income ranks provided by DWP. \n",
    "* There was some impact on the overall SIMD ranks, however these changes were not substantive on the whole. \n",
    "* A summary of the impact can be found on the SIMD website.\n",
    "* For more information, guidance and technical notes please go to [www.gov.scot/SIMD](www.gov.scot/SIMD).\n",
    "\n",
    "Contact: Elizabeth Fraser, 0131 244 7714, simd@gov.scot\n",
    "\n",
    "#### Metadata\n",
    "\n",
    "The following is a summary of the data in the file, DZ stands for Data Zone.\n",
    "\n",
    "|Column|Description|\n",
    "|-----|-------| \n",
    "|DZ|2011 data zone code|\n",
    "|DZname|2011 data zone  name|\n",
    "|SIMD2020v2_Rank|Overall SIMD 2020v2 rank - 1 is most deprived, 6,976 is least deprived|\n",
    "|SIMD2020v2_Vigintile|SIMD 2020v2 5% band - 1 is most deprived, 20 is least deprived|\n",
    "|SIMD2020v2_Decile|SIMD 2020v2 10% band - 1 is most deprived, 10 is least deprived|\n",
    "|SIMD2020v2_Quintile|SIMD 2020v2 20% band - 1 is most deprived, 5 is least deprived|\n",
    "|SIMD2020v2_Income_Domain_Rank|SIMD 2020v2 income domain rank|\n",
    "|SIMD2020_Employment_Domain_Rank|SIMD 2020 employment domain rank|\n",
    "|SIMD2020_Education_Domain_Rank|SIMD 2020 education domain rank|\n",
    "|SIMD2020_Health_Domain_Rank|SIMD 2020 health domain rank|\n",
    "|SIMD2020_Access_Domain_Rank|SIMD 2020 access domain rank|\n",
    "|SIMD2020_Crime_Domain_Rank|SIMD 2020 crime domain rank|\n",
    "|SIMD2020_Housing_Domain_Rank|SIMD 2020 housing domain rank|\n",
    "|Population|Small area population estimates 2017|\n",
    "|Working_Age_Population|Working age population based on 2017 small area population estimates|\n",
    "|URclass|2016 Scottish Government 6-fold urban rural classification|\n",
    "|URname|2016 Scottish Government 6-fold urban rural classification name|\n",
    "|IZcode|2011 intermediate zone code|\n",
    "|IZname|2011 intermediate zone name|\n",
    "|LAcode|Local authority code|\n",
    "|LAname|Local authority name|\n",
    "|HBcode|Health board code|\n",
    "|HBname|Health board name|\n",
    "|MMWcode|Multi-member ward code|\n",
    "|MMWname|Multi-member ward name|\n",
    "|SPCcode|Scottish parliamentary constituency code|\n",
    "|SPCname|Scottish parliamentary constituency name|\n",
    "\n",
    "##### Import the datafile for analysis\n",
    "\n",
    "Add your code to import the datafile then create a pandas dataframe with the file, use `describe()` to provide a summary of the data."
   ]
  },
  {
   "cell_type": "code",
   "execution_count": null,
   "id": "4040bc73-b963-4f02-b8e6-821c825600a9",
   "metadata": {},
   "outputs": [],
   "source": [
    "# import pandas here\n",
    "\n",
    "\n",
    "# import datafile as df here (use tab to autocomplete)\n",
    "\n",
    "\n",
    "# use describe on file here\n"
   ]
  },
  {
   "cell_type": "markdown",
   "id": "8f066d71-58c4-4182-89aa-a275605250f3",
   "metadata": {},
   "source": [
    "# Questions\n",
    "\n",
    "##### According to the data what is the total population in the Aberdeen City Local Authority area?"
   ]
  },
  {
   "cell_type": "code",
   "execution_count": null,
   "id": "8911b1f2-d3ce-4e57-9496-0d0b9abf416d",
   "metadata": {},
   "outputs": [],
   "source": [
    "# answer in this cell\n"
   ]
  },
  {
   "cell_type": "markdown",
   "id": "2c1734f0-e421-43e7-b35f-6a005ac52516",
   "metadata": {
    "tags": []
   },
   "source": [
    "##### According to the data what is the total working age population in the Aberdeen City Local Authority area, what percentage is this of the total population?"
   ]
  },
  {
   "cell_type": "code",
   "execution_count": null,
   "id": "723aa196-e27c-4124-82c4-0ef58e595c5a",
   "metadata": {},
   "outputs": [],
   "source": [
    "# answer in this cell\n"
   ]
  },
  {
   "cell_type": "markdown",
   "id": "e2331ffb-9c86-4832-a6a8-dac2436abf0a",
   "metadata": {
    "tags": []
   },
   "source": [
    "##### According to the data what is the total population in the City of Edinburgh Local Authority area and what is the total working age population, what percentage of the total population are of working age? "
   ]
  },
  {
   "cell_type": "code",
   "execution_count": null,
   "id": "10878988-bc61-483c-ad90-e3147c5828a3",
   "metadata": {},
   "outputs": [],
   "source": [
    "# answer in this cell\n"
   ]
  },
  {
   "cell_type": "markdown",
   "id": "624c5e44-d3f1-46e9-992e-ac3efc1a256f",
   "metadata": {
    "tags": []
   },
   "source": [
    "##### Create a bar chart with 4 bars - Aberdeen City LA (Local authority) total population, Aberdeen City LA working age population, City of Edinburgh LA total population, City of Edinburgh LA working age population. Make the Aberdeen bars on the chart two different shades of blue and the Edinburgh bars two different shades of red, add axis labels and a main title to the chart?"
   ]
  },
  {
   "cell_type": "code",
   "execution_count": null,
   "id": "eb85b225-41ee-401b-bb52-d4e304c870f1",
   "metadata": {},
   "outputs": [],
   "source": [
    "# answer in this cell\n"
   ]
  },
  {
   "cell_type": "markdown",
   "id": "198b2248-2fee-4eb3-b8f4-9735d407887f",
   "metadata": {
    "tags": []
   },
   "source": [
    "##### According to the data what is most populated local zone (LZ) and what local zone is the least populated, what is the mean LZ population for all LZ's?"
   ]
  },
  {
   "cell_type": "code",
   "execution_count": null,
   "id": "11ee0f11-1f95-442e-ba63-c5d1b82ac68c",
   "metadata": {},
   "outputs": [],
   "source": [
    "# answer in this cell\n"
   ]
  },
  {
   "cell_type": "markdown",
   "id": "c0b01a4f-2c16-43e8-a39b-e6baef41a5a3",
   "metadata": {
    "tags": []
   },
   "source": [
    "##### There are 6 types of [urban rural classification](https://www.gov.scot/publications/scottish-government-urban-rural-classification-2016/pages/2/) create a pie chart showing the split between these for all entries in the dataset,  add axis labels and a main title to the chart?"
   ]
  },
  {
   "cell_type": "code",
   "execution_count": null,
   "id": "5a207a49-de90-49ad-93ef-84f1d369d6d7",
   "metadata": {},
   "outputs": [],
   "source": [
    "# answer in this cell\n"
   ]
  },
  {
   "cell_type": "markdown",
   "id": "9626eefb-40b2-4928-a4c7-a5eda0be313a",
   "metadata": {
    "tags": []
   },
   "source": [
    "Employment, housing, health, crime and education are actually composite metrics, the details of which are detailed on [this spreadsheet](https://www.gov.scot/publications/scottish-index-of-multiple-deprivation-2020v2-indicator-data/). In order to determine these, several factors are considered for each and then a score is calculated. In the case of Education, the following variables are used to calculate the domain rannk Attendance, Attainment, no_qualifications, not_participating, University attendance. This is called a domain rank, For all ranks: [1 is most deprived, 6,976 is least deprived](https://www.gov.scot/publications/scottish-index-of-multiple-deprivation-2020v2-ranks/) as detailed here.\n",
    "\n",
    "##### For this question we will look at the education domain ranking in the four major cities of Scotland, first use the following local authorities - Dundee City, Aberdeen City, City of Edinburgh, Glasgow City, for each calculate the mean SIMD2020_Education_Domain_Rank. Then plot the mean values for each city side by side on a bar char with labels, give each bar a different colour?"
   ]
  },
  {
   "cell_type": "code",
   "execution_count": null,
   "id": "b5b8f7c5-6fa3-4aa8-b76e-d34ca3a07c8e",
   "metadata": {},
   "outputs": [],
   "source": [
    "# answer in this cell\n"
   ]
  },
  {
   "cell_type": "markdown",
   "id": "793cbcaa-84a7-4419-a3cb-197fd5e261e9",
   "metadata": {
    "tags": []
   },
   "source": [
    "##### Adapt the bar char from the previous question into a multiple bar chart for each city add a second bar this time use the mean value of the SIMD2020_Health_Domain_Rank?"
   ]
  },
  {
   "cell_type": "code",
   "execution_count": null,
   "id": "34e7c981-7fa3-45fd-9a45-ac58212084bc",
   "metadata": {},
   "outputs": [],
   "source": [
    "# answer in this cell\n"
   ]
  },
  {
   "cell_type": "markdown",
   "id": "7cfc9967-f0b3-4ef3-814d-db180c4c5419",
   "metadata": {
    "tags": []
   },
   "source": [
    "##### For each city calculate the correlation between the mean health rank and the mean education rank? "
   ]
  },
  {
   "cell_type": "code",
   "execution_count": null,
   "id": "a77d486a-b67f-4653-a51f-5f9bafbddac6",
   "metadata": {},
   "outputs": [],
   "source": [
    "# answer in this cell\n"
   ]
  },
  {
   "cell_type": "markdown",
   "id": "1f7bd09a-e538-4e7d-ba32-f6a11b7cfe28",
   "metadata": {},
   "source": [
    "##### There is another ranking called SIMD2020v2_Income_Domain_Rank, write the code to calculate the top 10 least deprived LZ's (Local Zones) in Scotland in terms of income?"
   ]
  },
  {
   "cell_type": "code",
   "execution_count": null,
   "id": "bbfb2884-99b0-4804-8a43-6e4e3546182d",
   "metadata": {},
   "outputs": [],
   "source": [
    "# answer in this cell\n"
   ]
  }
 ],
 "metadata": {
  "kernelspec": {
   "display_name": "Python 3 (ipykernel)",
   "language": "python",
   "name": "python3"
  },
  "language_info": {
   "codemirror_mode": {
    "name": "ipython",
    "version": 3
   },
   "file_extension": ".py",
   "mimetype": "text/x-python",
   "name": "python",
   "nbconvert_exporter": "python",
   "pygments_lexer": "ipython3",
   "version": "3.9.2"
  },
  "toc-autonumbering": true
 },
 "nbformat": 4,
 "nbformat_minor": 5
}
