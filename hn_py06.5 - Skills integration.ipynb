{
 "cells": [
  {
   "cell_type": "markdown",
   "id": "2d5f66c2",
   "metadata": {},
   "source": [
    "# Computer Programming and Software Development Introduction 6.5: Skills integration challenge\n",
    "#### Notebook by: michael.ferrie@edinburghcollege.ac.uk\n",
    "#### Edinburgh College, Mar 2022"
   ]
  },
  {
   "cell_type": "markdown",
   "id": "521bca2c-02de-47eb-9903-f961bd2feb4a",
   "metadata": {},
   "source": [
    "<div class=\"alert alert-block alert-danger\">\n",
    "    <b>Note:</b> Make sure you run every cell, click on the cell and press <b>CTRL+ENTER</b>\n",
    "</div>"
   ]
  },
  {
   "cell_type": "markdown",
   "id": "6299f963-d747-42cb-bb53-9b8bb441a551",
   "metadata": {},
   "source": [
    "__1__ Print all the values in `my_list` using a `for` loop?"
   ]
  },
  {
   "cell_type": "code",
   "execution_count": 4,
   "id": "e6a4eb4d-248b-4eb6-9c2b-c2fdf54f7903",
   "metadata": {},
   "outputs": [],
   "source": [
    "my_list = [1,32,15,32,156,4,321,35,4,321,321,65,4,31,3]\n",
    "# answer below this line\n"
   ]
  },
  {
   "cell_type": "markdown",
   "id": "b3f03a7e-3695-464e-882b-723ee01a5e80",
   "metadata": {},
   "source": [
    "__2__ Print only the even values in `my_list` using a `for` loop?"
   ]
  },
  {
   "cell_type": "code",
   "execution_count": 5,
   "id": "3474a8c4-a2ac-484c-b7c6-ce6de6a0e0cd",
   "metadata": {},
   "outputs": [],
   "source": [
    "my_list = [1,32,15,32,156,4,321,35,4,321,321,65,4,31,3]\n",
    "# answer below this line\n"
   ]
  },
  {
   "cell_type": "markdown",
   "id": "f4e4f170-8412-4087-90ea-fd93a4968df9",
   "metadata": {},
   "source": [
    "__3__ Print only the odd values in `my_list` using a `for` loop?"
   ]
  },
  {
   "cell_type": "code",
   "execution_count": 6,
   "id": "7cc8dca8-b319-49dc-94c7-316c89db3e6b",
   "metadata": {},
   "outputs": [],
   "source": [
    "my_list = [1,32,15,32,156,4,321,35,4,321,321,65,4,31,3]\n",
    "# answer below this line\n"
   ]
  },
  {
   "cell_type": "markdown",
   "id": "27de48c3-29d4-4d45-88a1-95030744b9f4",
   "metadata": {},
   "source": [
    "__4__ Use the negative index value to print only the last __whole word__ in `my_string`"
   ]
  },
  {
   "cell_type": "code",
   "execution_count": 7,
   "id": "7ebaf322-cd0a-4264-afcb-08933b51563e",
   "metadata": {},
   "outputs": [],
   "source": [
    "my_string = 'I only like python on weekdays, not at weekends'\n",
    "# answer below this line\n"
   ]
  },
  {
   "cell_type": "markdown",
   "id": "145ad58c-57bf-43ef-af38-687d85dcc906",
   "metadata": {},
   "source": [
    "__5__ Use an index range to print out only the words `Backstreet Boys`?"
   ]
  },
  {
   "cell_type": "code",
   "execution_count": 8,
   "id": "253a5a19-8e1a-4a8b-82a3-d9c1f401b02b",
   "metadata": {},
   "outputs": [],
   "source": [
    "my_string = 'Actually I really like the Backstreet Boys'\n",
    "# answer below this line\n"
   ]
  },
  {
   "cell_type": "markdown",
   "id": "d4690b0f-9ba7-4e1b-8b9c-54dfb31c0757",
   "metadata": {},
   "source": [
    "__6__ Use a for loop to print only instances of the letter B in `my_string`?"
   ]
  },
  {
   "cell_type": "code",
   "execution_count": 9,
   "id": "92405c8a-01fe-4975-a874-03ac21a21076",
   "metadata": {},
   "outputs": [],
   "source": [
    "my_string = 'Actually I really like the Backstreet Boys'\n",
    "# answer below this line\n"
   ]
  },
  {
   "cell_type": "markdown",
   "id": "443c3599-8a1f-4d0f-b273-1296527aff51",
   "metadata": {},
   "source": [
    "__7__ Steve charges all his customers cash and keeps it in jars under his bed. He has a list of the amount in each jar in £s and wants to convert this value to Euros. Each £1 is worth €1.18, use a `for` loop to convert each of the values in `steves_list` to Euros."
   ]
  },
  {
   "cell_type": "code",
   "execution_count": 10,
   "id": "6a9a5141-1558-4c30-b8ff-100a8c912521",
   "metadata": {},
   "outputs": [],
   "source": [
    "steves_list = [101,203,101,6,85,46,37,163]\n",
    "# answer below this line\n"
   ]
  },
  {
   "cell_type": "markdown",
   "id": "41738c29-9c67-45bc-88cb-603345d754a8",
   "metadata": {},
   "source": [
    "__8__ Steve is impressed with your work and wants to make a new list of values, each should be 50% of the value in `steves_list` create a program that will make a new list with the new calues called `steves_half_list`?"
   ]
  },
  {
   "cell_type": "code",
   "execution_count": 11,
   "id": "272dc0e3-afe7-4494-b348-70a4866c18ad",
   "metadata": {},
   "outputs": [],
   "source": [
    "# answer below this line\n"
   ]
  },
  {
   "cell_type": "markdown",
   "id": "8c7f4d80-9f4b-47e4-bff5-9de380259b4a",
   "metadata": {},
   "source": [
    "__9__ Create an if else statement that checks if a `my_number` is more than 123, if it is more than 123 it print out - ```this is more than 123``` if it is less than 123 print ```this is less than 123```?"
   ]
  },
  {
   "cell_type": "code",
   "execution_count": 12,
   "id": "b942069b-fed8-40d7-92f3-2c1c54559f40",
   "metadata": {},
   "outputs": [],
   "source": [
    "my_number = 124\n",
    "# answer below this line\n"
   ]
  },
  {
   "cell_type": "markdown",
   "id": "0af95e2f-ead5-4dc9-be8d-34a80b355e9a",
   "metadata": {},
   "source": [
    "__10__ Create program that asks a user to input a word and then checks if it is more than 5 characters, if it is, print ```this is more than 5 characters``` if it is not, print out how many letters the word is?"
   ]
  },
  {
   "cell_type": "code",
   "execution_count": 13,
   "id": "91296432-b33f-4173-b0cb-6e98b4b9b9ec",
   "metadata": {},
   "outputs": [],
   "source": [
    "# answer below this line\n"
   ]
  },
  {
   "cell_type": "markdown",
   "id": "d7d537db-5828-401e-a912-0f1891460c8b",
   "metadata": {},
   "source": [
    "__11__ Marjory is working on the accounts again, she has a list of values but she has been told to deduct 8% from each for National Insurance contributions. Write a program that will achieve this for her and print out the new values after the deduction?"
   ]
  },
  {
   "cell_type": "code",
   "execution_count": 14,
   "id": "249bb1c2-c4de-4fdc-a001-c58980476651",
   "metadata": {},
   "outputs": [],
   "source": [
    "marjorys_list = [12.30,14.20,15.62,12.54,14.56,16.28]\n",
    "# answer below this line\n"
   ]
  },
  {
   "cell_type": "markdown",
   "id": "95456de4-0861-47ea-921a-10238ebb72aa",
   "metadata": {},
   "source": [
    "__12__ Marjory only wants the values that are divisable by 10 after the 8% deduction, write a program to check if any of the values meet her criteria?"
   ]
  },
  {
   "cell_type": "code",
   "execution_count": 15,
   "id": "91a3052f-8d9c-49ac-b287-dc31ceea178e",
   "metadata": {},
   "outputs": [],
   "source": [
    "# answer below this line\n"
   ]
  },
  {
   "cell_type": "markdown",
   "id": "226a815a-8c38-4371-8fe3-c4a9f309b94b",
   "metadata": {},
   "source": [
    "__13__ You have two lists `a` and `b` you should write a program that will check if any item in list `a` matches any item list `b`. If a match is found the program should print the match?"
   ]
  },
  {
   "cell_type": "code",
   "execution_count": 16,
   "id": "609404fd-1e45-4687-a032-cf63ef2ef908",
   "metadata": {},
   "outputs": [],
   "source": [
    "# answer below this line\n"
   ]
  },
  {
   "cell_type": "markdown",
   "id": "edc8d0a8-ce95-47a5-a27b-94893f6f37fb",
   "metadata": {},
   "source": [
    "__14__ Create a program that uses the `range` function to print the numbers from 10-20?"
   ]
  },
  {
   "cell_type": "code",
   "execution_count": 17,
   "id": "b6f11004-9d9c-41ef-b79b-5aae32de674f",
   "metadata": {},
   "outputs": [],
   "source": [
    "# answer below this line\n"
   ]
  },
  {
   "cell_type": "markdown",
   "id": "ac33656c-5f7d-417d-98a3-f64aeebb1d7d",
   "metadata": {},
   "source": [
    "__15__ Create a program to check the length of this list and also how many even numbers exist in the list?"
   ]
  },
  {
   "cell_type": "code",
   "execution_count": 18,
   "id": "dd500e6c-af18-45f8-a328-0bd55abc4044",
   "metadata": {},
   "outputs": [],
   "source": [
    "this_list = [1,32,15,32,156,4,321,35,4,321,321,65,4,31,3]\n",
    "# answer below this line\n"
   ]
  },
  {
   "cell_type": "markdown",
   "id": "809c5d6d-b8d6-4699-88c7-f363714c149c",
   "metadata": {},
   "source": [
    "__16__ Create a program that asks the user to input a number, each time a number is entered it should be added to the `input_list`. After the user enters the number the program should print out the values in the `input_list`?"
   ]
  },
  {
   "cell_type": "code",
   "execution_count": 19,
   "id": "7f42d15f-09ff-4261-9559-029f35599ef9",
   "metadata": {},
   "outputs": [],
   "source": [
    "input_list = [ ]\n",
    "# answer below this line\n"
   ]
  },
  {
   "cell_type": "markdown",
   "id": "e48e2d20-7a40-4bd6-9bcd-1f6972cd008f",
   "metadata": {},
   "source": [
    "__17__ Create a program that asks the user to input a number, each time a number is entered it should be added to the `input_list2` only if it is an even number. After the user enters the number the program should print out the values in `input_list2`?"
   ]
  },
  {
   "cell_type": "code",
   "execution_count": 20,
   "id": "a63303b9-3222-49e6-b200-f560e4faa800",
   "metadata": {},
   "outputs": [],
   "source": [
    "input_list2 = [ ]\n",
    "# answer below this line\n"
   ]
  },
  {
   "cell_type": "markdown",
   "id": "24e6bc29-6678-4939-9099-9b5285301a6f",
   "metadata": {},
   "source": [
    "__18__ Create a program that removes John from the names list?"
   ]
  },
  {
   "cell_type": "code",
   "execution_count": 21,
   "id": "116a4d61-0d86-450d-a4e5-93ad9b812de9",
   "metadata": {},
   "outputs": [],
   "source": [
    "names = ['John','Hilary','Bob','Liam','Emma']\n",
    "# answer below this line\n"
   ]
  },
  {
   "cell_type": "markdown",
   "id": "03e88693-afd3-489c-9432-177001697a72",
   "metadata": {},
   "source": [
    "__19__ Create a program that asks the user to enter their name and then adds it to the `name_collection_list`, the program should reject the users input with an error message if the name they enter is already in the list?"
   ]
  },
  {
   "cell_type": "code",
   "execution_count": 22,
   "id": "99ff6841-832a-4e46-8698-39ecd7097192",
   "metadata": {},
   "outputs": [],
   "source": [
    "name_collection_list = ['Jon','Hilary','Bob','Steve','Marjory','Michael','Jim']\n",
    "# answer below this line\n"
   ]
  },
  {
   "cell_type": "markdown",
   "id": "51924cf0-39e5-4a4e-b7b0-6d9e2b77d69e",
   "metadata": {},
   "source": [
    "<div class=\"alert alert-block alert-success\">\n",
    "<b>Challenge question:</b> Attempt this, if you finish all the other questions!\n",
    "</div>"
   ]
  },
  {
   "cell_type": "markdown",
   "id": "079d9146-cb54-4212-bb78-44110af417c9",
   "metadata": {},
   "source": [
    "__20__ Let a be 1 and b be 2 ... until z is 26, these are the positions of the letters, create a Caesar cipher generation program. The user should be asked to enter a positive integer. Once the user has entered the number use this as the key to shift the letters and print out the letters in their new position. \n",
    "<br>\n",
    "For example, if the user enters a key of 2 the program should print out the letters in their new positions in the alphabet. With a key of 2 the new list would start with `y` and `a` would move to position 3. If the user entered 1 the letter `a` would move to position 2 and `b` would move to position 3."
   ]
  },
  {
   "cell_type": "code",
   "execution_count": 23,
   "id": "48600774-7d61-4872-91c0-313ee35c74ee",
   "metadata": {},
   "outputs": [],
   "source": [
    "letters = ['a', 'b', 'c', 'd', 'e', 'f', 'g', 'h', 'i', 'j', 'k', 'l', 'm', 'n', 'o', 'p', 'q', 'r', 's', 't', 'u', 'v', 'w', 'x', 'y', 'z']\n",
    "# answer below this line\n"
   ]
  }
 ],
 "metadata": {
  "kernelspec": {
   "display_name": "Python 3 (ipykernel)",
   "language": "python",
   "name": "python3"
  },
  "language_info": {
   "codemirror_mode": {
    "name": "ipython",
    "version": 3
   },
   "file_extension": ".py",
   "mimetype": "text/x-python",
   "name": "python",
   "nbconvert_exporter": "python",
   "pygments_lexer": "ipython3",
   "version": "3.9.2"
  },
  "toc-showmarkdowntxt": false
 },
 "nbformat": 4,
 "nbformat_minor": 5
}
