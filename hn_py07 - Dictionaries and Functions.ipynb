{
 "cells": [
  {
   "cell_type": "markdown",
   "id": "2d5f66c2",
   "metadata": {
    "tags": []
   },
   "source": [
    "# Computer Programming and Software Development Introduction 7: Dictonaries and Functions\n",
    "#### Notebook by: michael.ferrie@edinburghcollege.ac.uk\n",
    "#### Edinburgh College, Dec 2021"
   ]
  },
  {
   "cell_type": "markdown",
   "id": "3df50d96",
   "metadata": {
    "tags": []
   },
   "source": [
    "## Part 1 - Dictionaries "
   ]
  },
  {
   "cell_type": "markdown",
   "id": "521bca2c-02de-47eb-9903-f961bd2feb4a",
   "metadata": {},
   "source": [
    "<div class=\"alert alert-block alert-danger\">\n",
    "    <b>Note:</b> Make sure you run every cell, click on the cell and press <b>CTRL+ENTER</b>\n",
    "</div>"
   ]
  },
  {
   "cell_type": "markdown",
   "id": "a3f5a090-23e2-4359-9447-fae13379f644",
   "metadata": {},
   "source": [
    "Dictionaries are another way to organise data. At first glance, a dictionary may look just like a list. However, dictionaries have different jobs, rules, and syntax. Dictionaries have names and use curly braces to store information. For example, if we wanted to make a dictionary called sports, we would then put the dictionary entries inside of curly braces. Here is a simple example:\n",
    "\n",
    "`numbers = {'one': 1, 'two': 2, 'three': 3}`\n",
    "\n",
    "A dictionary stores information with things called keys and values. In a dictionary of items, for example, we may have keys that tell us the names of each item and values that tell us how many of each item we have in our inventory. Once we store these items in our dictionary, we can add or remove new items (keys), add new amounts (values), or change the amounts of existing items. Here is an example of a dictionary that could hold some information for a game. Let’s suppose that the hero in our game has some items needed to survive. Here is a dictionary of our hero’s items:\n",
    "\n",
    "`items = {'arrows' : 200, 'rocks' : 25, 'food' : 15, 'lives' : 2}`\n",
    "\n",
    "Unlike lists, a dictionary uses keys and values to find information. So, this dictionary has the keys called arrows, rocks, food, and lives. Each of the numbers tells us the amount of items that our hero has. Dictionaries have different characteristics than lists do. So, we can look up certain items in our dictionary using the print function:\n",
    "\n",
    "`print(items['arrows'])`\n",
    "\n",
    "The result of this print command will print 200, as this is the number of arrows our hero has in his inventory. Changing the dictionary – adding and removing information. Python offers us ways not only to make a dictionary but to also add and remove things from our dictionaries. For example, let’s say that in our game, we allow the player to discover a fireball later in the game. To add the item to the dictionary, we will use what is called the subscript method to add a new key and a new value to our dictionary. This means that we will use the name of the dictionary and square brackets to write the name of the item that we wish to add, and finally, we will set the value to how many items we want to put into our dictionary:\n",
    "\n",
    "`items['fireball'] = 10`\n",
    "\n",
    "If we print the entire dictionary of items, you will see that fireball has been added: \n",
    "\n",
    "```python\n",
    "print(items)\n",
    "items = {'arrows' : 200, 'rocks' : 25, 'food' : 15, 'lives' : 2, 'fireball' : 10}\n",
    "```\n",
    "\n",
    "We can also change the number of items in our dictionary using the dict.update() method. This method uses the name of the dictionary and the word update. Then, in parentheses (), we use curly braces {} to type the name of the item that we wish to update—a colon (:), and the new number of items we want in the dictionary. Try this in your Python shell:\n",
    "\n",
    "```python\n",
    "items.update({'rocks':10})\n",
    "print(items)\n",
    "```\n",
    "\n",
    "You will notice that if you have done print(items), then you will now have 10 rocks instead of 25. We have successfully updated our number of items. To remove something from a dictionary, one must reference the key or the name of the item. By doing so, the value that goes with the item will also be removed. This means using del along with the name of the dictionary and the name of the item you wish to remove. Using the items list as our example, let’s remove lives, and then use a print statement to test and see if the lives key was removed:\n",
    "\n",
    "```python\n",
    "del items['lives']\n",
    "print(items)\n",
    "```\n",
    "\n",
    "With dictionaries, information is stored and retrieved differently than with lists, but we can still perform the same operation of adding and removing information as well as making changes to information."
   ]
  },
  {
   "cell_type": "markdown",
   "id": "5a4d5f4f-c731-4d1f-9787-bd453cb45c93",
   "metadata": {},
   "source": [
    "## Part 2 - Functions\n",
    "\n",
    "A function is a block of code which only runs when it is called, you can pass data, known as parameters, into a function. A function can return data as a result, in Python a function is defined using the `def` keyword - look at the following function:\n",
    "\n",
    "`def my_function(): `\n",
    "\n",
    "`  print('Hello from a function') `\n",
    "\n",
    "To call a function, use the function name followed by parenthesis:\n",
    "\n",
    "`my_function()`\n",
    "\n",
    "Arguments - information can be passed into functions as arguments. Parameters are specified after the function name, inside the parentheses. \n",
    "\n",
    "You can add as many parameters as you want, just separate them with a comma. Look at the following function with one argument (loves). When the function is called, we pass along a first name, which is used inside the function to print the full output - hint! You can use your own name here, my lack of imagination resulted in me using 3 variations of the name Michael.\n",
    "\n",
    "```python\n",
    "\n",
    "def my_function_2(loves):\n",
    "    print(loves + \" loves python\")\n",
    "\n",
    "    \n",
    "# Call the function and pass an argument    \n",
    "my_function_2(\"Michael\")\n",
    "my_function_2(\"Mike\")\n",
    "my_function_2(\"Mick\")\n",
    "\n",
    "```\n",
    "\n",
    "* Run the example to see the code working, swap your name in for Michael, unless your name is already Michael, if that is the case, swap it for James."
   ]
  },
  {
   "cell_type": "code",
   "execution_count": 2,
   "id": "4b53b2da-51c2-4ae2-9809-02c082c71375",
   "metadata": {},
   "outputs": [
    {
     "name": "stdout",
     "output_type": "stream",
     "text": [
      "Michael loves python\n",
      "Mike loves python\n",
      "Mick loves python\n"
     ]
    }
   ],
   "source": [
    "def my_function_2(loves):\n",
    "    print(loves + \" loves python\")\n",
    "\n",
    "    \n",
    "# Call the function and pass an argument    \n",
    "my_function_2(\"Michael\")\n",
    "my_function_2(\"Mike\")\n",
    "my_function_2(\"Mick\")"
   ]
  },
  {
   "cell_type": "markdown",
   "id": "6dc80936-918f-4807-bc49-af66321e71e9",
   "metadata": {},
   "source": [
    "Arguments are often shortened to args in Python documentation. *Parameters or Arguments*? \n",
    "\n",
    "The terms parameter and argument can be used for the same thing. \n",
    "\n",
    "* A parameter is the variable listed inside the parentheses in the function definition. \n",
    "\n",
    "* An argument is the value that is sent to the function when it is called. By default, a function must be called with the correct number of arguments. Meaning that if your function expects 2 arguments, you have to call the function with 2 arguments, not more, and not less. Look at the following example: This function expects 2 arguments, and gets 2 arguments:\n",
    "\n",
    "```python\n",
    "def my_function(fname, lname):\n",
    "  print(fname + \" \" + lname)\n",
    "my_function(\"Michael\", \"Jordan\")\n",
    "```\n",
    "If the number of arguments is unknown, add a * before the parameter name:\n",
    "\n",
    "```python\n",
    "def my_function(*kids):\n",
    "  print(\"The number of children is \" + kids)\n",
    "my_function(\"Bill\", \"William\", \"Billybob\")\n",
    "```\n",
    "\n",
    "#### The Cheerleader Function\n",
    "\n",
    "In this task we will create a python program to print out the letters in a string in the style of a team of cheerleaders. First we need a string to pass into the program and an empty variable called letter:\n",
    "\n",
    "```python\n",
    "\n",
    "def cheer(input_value):\n",
    "\tletter = ' '\n",
    "\taaaas = 'cbdgpqktu'\n",
    "\tfor letter in input_value:\n",
    "    \tif letter in aaaas:\n",
    "            \tprint (\"Give me a: \")\n",
    "            \tprint (letter)\n",
    "    \telse:\n",
    "        \tprint (\"Give me an: \")\n",
    "        \tprint (letter)\n",
    "\tprint (\"Let's hear it for\")\n",
    "\tprint (input_value.upper())\n",
    "\tprint ('!!!')\n",
    "    \n",
    "```\n",
    "\n",
    "Now we need to pass a string into the body of the function, in this case let's send the function the string scotland and see how it is evaluated\n",
    "\n",
    "```cheer(\"Scotland\")```\n",
    "\n",
    "* Run the cheerleader function in the next cell"
   ]
  },
  {
   "cell_type": "code",
   "execution_count": 2,
   "id": "459ea489-8eac-4687-9515-b94ca5675bf5",
   "metadata": {},
   "outputs": [
    {
     "name": "stdout",
     "output_type": "stream",
     "text": [
      "Give me an: \n",
      "n\n",
      "Let's hear it for\n",
      " JOHN\n",
      "!!!\n"
     ]
    }
   ],
   "source": [
    "# Cheerleader Function\n",
    "def cheer(input_value):\n",
    "    letter = ' '\n",
    "    aaaas = 'cbdgpqktu'\n",
    "    for letter in input_value:\n",
    "        if letter in aaaas:\n",
    "            print (\"Give me a: \")\n",
    "            print (letter)\n",
    "    else:\n",
    "        print (\"Give me an: \")\n",
    "        print (letter)\n",
    "        print (\"Let's hear it for\")\n",
    "        print (input_value.upper())\n",
    "        print ('!!!')\n",
    "    \n",
    "# Uncomment and pass an argument to the function    \n",
    "cheer(\" John\")"
   ]
  },
  {
   "cell_type": "markdown",
   "id": "75d23878-c4f6-4ed4-984e-2c97036f0cfd",
   "metadata": {
    "tags": []
   },
   "source": [
    "## Part 3 - Questions\n",
    "<div class=\"alert alert-block alert-success\">\n",
    "<b>How to answer: </b> Add your code to the code cell below each question.\n",
    "</div>"
   ]
  },
  {
   "cell_type": "markdown",
   "id": "55c348d8-9b5d-467c-8d47-52c455cbd80e",
   "metadata": {},
   "source": [
    "### Introduction\n",
    "\n",
    "* Hopefully, you are familiar with the concept of a turn based RPG, but if you aren't, sorry about that.\n",
    "\n",
    "* In this task we will be working on a turn based RPG game, I have developed some code and the questions will involve adding new features to the game, run the code in the next cell to copy the code into RAM.\n",
    "\n",
    "* The game has an attack function that will generate an attack with the strength of between 1 and 20\n",
    "\n",
    "* The game has two characters Enemy and Cloud and each has a dictionary of attributes\n",
    "\n",
    "* When a character uses an attack the attack function is called, the value passed back from the function is deducted from the targets health\n",
    "\n",
    "* This excercise will help you to use dictionaries and fuctions"
   ]
  },
  {
   "cell_type": "code",
   "execution_count": 17,
   "id": "fbf8f04c-fc0b-4b20-9d0a-d47c810912c7",
   "metadata": {},
   "outputs": [
    {
     "name": "stdout",
     "output_type": "stream",
     "text": [
      "Cloud Attack:  15\n",
      "Enemy Attack:  20\n",
      "Cloud's health before attack:  100\n",
      "Cloud's health after attack:  80\n",
      "Status now:  {'Name': 'Cloud', 'Health': 80, 'Magic': 50}\n"
     ]
    }
   ],
   "source": [
    "# Boilerplate code, run this\n",
    "import random\n",
    "# define a function to generate a number between 1 and 20\n",
    "def attack():\n",
    "    return random.randint(1, 20)\n",
    "\n",
    "# create two characters with attributes in dictionary\n",
    "cloud = {'Name': 'Cloud', 'Health': 100, 'Magic': 50}\n",
    "enemy = {'Name': 'Enemy', 'Health': 110, 'Magic': 40}\n",
    "\n",
    "# call the attack function and pass to a variable\n",
    "attack_cloud = attack()\n",
    "attack_enemy = attack()\n",
    "print ('Cloud Attack: ', (attack_cloud))\n",
    "print ('Enemy Attack: ', (attack_enemy))\n",
    "\n",
    "# print current health only from character dictionary\n",
    "cloud_health = cloud['Health']\n",
    "print (\"Cloud's health before attack: \", cloud_health)\n",
    "\n",
    "# set new health and then put this into character dictionary\n",
    "new_health = cloud_health - attack_enemy\n",
    "print (\"Cloud's health after attack: \", new_health)\n",
    "cloud['Health'] = new_health\n",
    "print ('Status now: ', cloud)"
   ]
  },
  {
   "cell_type": "markdown",
   "id": "c587af92-422b-4c34-8dee-897186d9750f",
   "metadata": {},
   "source": [
    "1) Create a print statement that prints out the enemy attack variable?"
   ]
  },
  {
   "cell_type": "code",
   "execution_count": 14,
   "id": "4310ea54-5cf9-48c4-8d58-22ff54d99dc3",
   "metadata": {},
   "outputs": [],
   "source": [
    "# code below this line for Q1\n"
   ]
  },
  {
   "cell_type": "markdown",
   "id": "c13b547d-f6ed-469a-8dc1-d24365a45b52",
   "metadata": {},
   "source": [
    "2) Create a variable called enemy_health and print out the value of this?"
   ]
  },
  {
   "cell_type": "code",
   "execution_count": 15,
   "id": "a65394d1-4fd0-4310-b2fe-d6df72b1d63f",
   "metadata": {},
   "outputs": [],
   "source": [
    "# code below this line for Q2\n"
   ]
  },
  {
   "cell_type": "markdown",
   "id": "ff246ea1-149f-4c90-808c-7d5e4e313194",
   "metadata": {},
   "source": [
    "3 Create 2 new variables called `attack_enemy2` and `attack_cloud2`, use the attack function to generate a random value and assign this value to the new variables?"
   ]
  },
  {
   "cell_type": "code",
   "execution_count": 16,
   "id": "bdbf8436-a775-43e5-afd2-85eb499c3bdb",
   "metadata": {},
   "outputs": [],
   "source": [
    "# code below this line for Q3\n"
   ]
  },
  {
   "cell_type": "markdown",
   "id": "200d2824-7d7d-419f-af07-b46de05abf2f",
   "metadata": {},
   "source": [
    "4 Write the code to use the second attack on cloud and enemy, subtract the values of the second attack and then, print the new character status following this calculation?"
   ]
  },
  {
   "cell_type": "code",
   "execution_count": null,
   "id": "6707f67f-bdf7-4806-98c2-b6807f0c0820",
   "metadata": {},
   "outputs": [],
   "source": [
    "# code below this line for Q4\n"
   ]
  },
  {
   "cell_type": "markdown",
   "id": "0c11be87-3a9f-4818-a333-caff10ae0ae4",
   "metadata": {},
   "source": [
    "<div class=\"alert alert-block alert-danger\">\n",
    "    <b>Challenge Questions:</b> Fire Magic <b>Attack</b>?</div>"
   ]
  },
  {
   "cell_type": "markdown",
   "id": "42f35ac8-7c6a-4c74-80f2-0fd9bc787961",
   "metadata": {},
   "source": [
    "Create a new function called `fire`, this performs an attack which does 10% of the enemys health but costs 5 magic points from the attacker?"
   ]
  },
  {
   "cell_type": "code",
   "execution_count": 17,
   "id": "f0bcdeb6-0857-4612-968b-4dbd33d15b42",
   "metadata": {},
   "outputs": [],
   "source": [
    "# code below this line for Q5\n"
   ]
  },
  {
   "cell_type": "markdown",
   "id": "a33fd4c0-d226-40c1-8298-e4c630365284",
   "metadata": {},
   "source": [
    "6 Write the code of cloud using fire on the enemy twice, and print out the enemy status dictionary after each attack?"
   ]
  },
  {
   "cell_type": "code",
   "execution_count": 18,
   "id": "90ff57be-4159-42e1-b402-f741c31e5f9d",
   "metadata": {},
   "outputs": [],
   "source": [
    "# code below this line for Q6\n"
   ]
  },
  {
   "cell_type": "markdown",
   "id": "1ee96caf-5915-49c5-b1ad-7e310ab5013e",
   "metadata": {},
   "source": [
    "7 Add another character dictionary for Aeris they should start with 100 Health and 40 Magic?"
   ]
  },
  {
   "cell_type": "code",
   "execution_count": 19,
   "id": "32f8c524-252f-4ca9-97a9-a92436512d3a",
   "metadata": {},
   "outputs": [],
   "source": [
    "# code below this line for Q7\n"
   ]
  },
  {
   "cell_type": "markdown",
   "id": "66ce6e3e-8c75-45a7-821d-dfe1666d700b",
   "metadata": {},
   "source": [
    "8 Create a fuction to add a magic spell for Aeris, when cast it should give the target a 15 point Health increase? (careful not to cast it on the enemy!)"
   ]
  },
  {
   "cell_type": "code",
   "execution_count": 20,
   "id": "85d0e86d-2bd2-4858-8420-00492554f676",
   "metadata": {},
   "outputs": [],
   "source": [
    "# code below this line for Q8\n"
   ]
  }
 ],
 "metadata": {
  "kernelspec": {
   "display_name": "Python 3 (ipykernel)",
   "language": "python",
   "name": "python3"
  },
  "language_info": {
   "codemirror_mode": {
    "name": "ipython",
    "version": 3
   },
   "file_extension": ".py",
   "mimetype": "text/x-python",
   "name": "python",
   "nbconvert_exporter": "python",
   "pygments_lexer": "ipython3",
   "version": "3.9.2"
  },
  "toc-autonumbering": false,
  "toc-showmarkdowntxt": false
 },
 "nbformat": 4,
 "nbformat_minor": 5
}
