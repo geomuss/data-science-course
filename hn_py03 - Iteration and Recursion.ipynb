{
 "cells": [
  {
   "cell_type": "markdown",
   "id": "2d5f66c2",
   "metadata": {
    "tags": []
   },
   "source": [
    "# Computer Programming and Software Development Introduction 3: Iteration\n",
    "#### Notebook by: michael.ferrie@edinburghcollege.ac.uk\n",
    "#### Edinburgh College, Sep 2021"
   ]
  },
  {
   "cell_type": "markdown",
   "id": "3df50d96",
   "metadata": {
    "tags": []
   },
   "source": [
    "# Part 1 - Iteration and Recursion"
   ]
  },
  {
   "cell_type": "markdown",
   "id": "521bca2c-02de-47eb-9903-f961bd2feb4a",
   "metadata": {},
   "source": [
    "<div class=\"alert alert-block alert-danger\">\n",
    "    <b>Note:</b> Make sure you run every cell, click on the cell and press <b>CTRL+ENTER</b>\n",
    "</div>"
   ]
  },
  {
   "cell_type": "markdown",
   "id": "81ea5342-3cc9-4646-a1c9-8d7f46d2500a",
   "metadata": {
    "tags": []
   },
   "source": [
    "In topics 1 and 2 we learned about algorithms and how we can use these to perform calculations and then find results. Two terms we need to be\n",
    "aware of are *iteration* and *recursion*.\n",
    "\n",
    "### Exhaustive Enumeration - Iteration\n",
    "\n",
    "Iteration is working through a problem one step at a time, **exhaustive enumeration** is an iterative method of performing a calculation. If we\n",
    "want to add together two numbers 3 and 4. I know we know the answer is seven but how did we find that - ok we just know because it's simple\n",
    "arithmetic - an iterative method of doing this would be decrementing 3 by one until we read 0 and for each decrement incrementing 4 by 1. The\n",
    "steps would be:\n",
    "\n",
    "* 3 + 4 is the same as\n",
    "\n",
    "* 2 + 5 is the same as\n",
    "\n",
    "* 1 + 6 is the same as\n",
    "\n",
    "* 0 + 7 - which is the answer as we cant add anymore\n",
    "\n",
    "Hopefully that makes sense - that is iteration, we slowly refine the problem ***one step at a time*** and each step is the same size. The\n",
    "solution is calculated by the number of steps.\n",
    "\n",
    "#### How to find the number 20 using iteration and exhaustive enumeration\n",
    "\n",
    "To find the number 20 we get 1 and add one until we find the answer\n",
    "\n",
    "*1 + 1 = 2 which is too small\n",
    "\n",
    "*2 + 1 = 3 which is too small\n",
    "\n",
    "*3 + 1 = 4 which is too small\n",
    "\n",
    "*… *and keep doing this until*\n",
    "\n",
    "*19 + 1 = 20 which is the answer\n",
    "\n",
    "### Bi-Section Search - Recursion\n",
    "\n",
    "A more efficient method of searching for a number is by halving the interval between guesses, let's say I asked you to pick a number between\n",
    "one and 10 you would likely say 5. Once I had a student who said 0, but that is a story for another day. \n",
    "\n",
    "Now let's say i told you that number was too high you would probably half the guess and say 2 or maybe 3. You already know how to do this but often it is good to put names to techniques and there is a name for this, it is called ***bisection search***.\n",
    "\n",
    "The bisection method is a ***recursive*** method, we take a value and use it to ***generate another value*** lets find 20 with the bisection\n",
    "method, taking 10 as the first guess.\n",
    "\n",
    "#### How to find the number 20 using recusion and interval halving\n",
    "\n",
    "* 20 + 10 is 30\n",
    "\n",
    "* 30 divided by 2 is 15 \n",
    "\n",
    "* 20 + 15 is 35\n",
    "\n",
    "* 35 divided by 2 is 17.5 round up to 18 \n",
    "\n",
    "* 20 + 18 is 38\n",
    "\n",
    "* 38 divided by 2 is 19 \n",
    "\n",
    "* 20 +19 = 39\n",
    "\n",
    "* 39 divided by 2 is 19.5 round up to 20 \\< which is the answer!!!\n",
    "\n",
    "That's amazing - we got the answer in 4 steps, 16 steps quicker than the iterative method. If we were just adding one each time, you can see how\n",
    "the recursive method is more efficient.\n",
    "\n",
    "### Revision to help with this weeks practical tasks: **Heron's Method of Finding the Square Root**\n",
    "\n",
    "Heron of Alexandria, who lived in ancient Egypt in around the first century AD, devised a method for calculating the square root of numbers,\n",
    "now sometimes it doesn't give the exact answer but most of the time it gets a ***good-enough*** guess that it is almost the exact value. First\n",
    "we set a target to find the square root of - 36, now we know that the square root of 36 is 6 because 6\\*6 is 36 but using heron's method we\n",
    "can calculate this. We need to take a guess so let's guess 4 - we know its not right but let's see how we can use heron's method to get to the\n",
    "right answer the formula for this:\n",
    "\n",
    "#### Calculate the square root of 36 using Heron's Method\n",
    "\n",
    "1. Take a guess (g) and then average 36 / g and g:\n",
    "\n",
    "2. The guess is 4 and 36 / 4 = 9\n",
    "\n",
    "3. Let's take the average of 9 and 4\n",
    "\n",
    "4. 9 + 4 is 13 divided by 2 is 6.5 - this is the new g\n",
    "\n",
    "5. Take the average of 36 / g and g \n",
    "\n",
    "6. 6.5 is g so 36 / 6.5 is 5.538461538\n",
    "\n",
    "7. Take the average of g and 5.538461538 \n",
    "\n",
    "8. 6.5 + 5.538461538=12.038461538\n",
    "\n",
    "9. 12.038461538 / 2 = 6.01 - we can round that as 6 which is the answer."
   ]
  },
  {
   "cell_type": "markdown",
   "id": "75d23878-c4f6-4ed4-984e-2c97036f0cfd",
   "metadata": {
    "tags": []
   },
   "source": [
    "# Part 2 - Questions\n",
    "<div class=\"alert alert-block alert-success\">\n",
    "<b>How to answer: </b> Add your code to the code cell below each question.\n",
    "</div>"
   ]
  },
  {
   "cell_type": "markdown",
   "id": "e3ef0385-d72b-4cc9-aa5b-6c8d837010ac",
   "metadata": {
    "tags": []
   },
   "source": [
    "#### Iteration Algorithm\n",
    "1 In part 1 we learned about iteration, write out in pseudocode an algorithm that shows how to count up to 20 by adding 2 iteratively until you reach 20?"
   ]
  },
  {
   "cell_type": "code",
   "execution_count": null,
   "id": "c688c981-64cb-4bf0-b056-25892bd5168d",
   "metadata": {},
   "outputs": [],
   "source": [
    "# Pseudocode for Q1 in this cell\n",
    "# "
   ]
  },
  {
   "cell_type": "markdown",
   "id": "adb0815f-df80-4c2b-9292-1a285c6908b0",
   "metadata": {},
   "source": [
    "2 Create a flowchart to represent your algorithm?\n",
    "\n",
    "* add below this line"
   ]
  },
  {
   "cell_type": "markdown",
   "id": "de5993b9-871b-4063-8b9c-79e5c937b8a6",
   "metadata": {},
   "source": [
    "# Add flowchart here, drag and drop into this cell\n"
   ]
  },
  {
   "cell_type": "markdown",
   "id": "b3bacd33-05b8-4c7e-97a6-0157d778d032",
   "metadata": {},
   "source": [
    "3 This next cell should give a syntax error - and python will tell you that there is a missing parenthesis, fix the error so the cell runs!"
   ]
  },
  {
   "cell_type": "code",
   "execution_count": 1,
   "id": "badd97da-95f8-4ab1-b498-ed1be4d5a1cb",
   "metadata": {},
   "outputs": [
    {
     "ename": "SyntaxError",
     "evalue": "Missing parentheses in call to 'print'. Did you mean print(“Hello World”))? (2518357163.py, line 2)",
     "output_type": "error",
     "traceback": [
      "\u001b[0;36m  File \u001b[0;32m\"/tmp/ipykernel_5963/2518357163.py\"\u001b[0;36m, line \u001b[0;32m2\u001b[0m\n\u001b[0;31m    print “Hello World”)\u001b[0m\n\u001b[0m          ^\u001b[0m\n\u001b[0;31mSyntaxError\u001b[0m\u001b[0;31m:\u001b[0m Missing parentheses in call to 'print'. Did you mean print(“Hello World”))?\n"
     ]
    }
   ],
   "source": [
    "# run this cell\n",
    "print “Hello World”)\n"
   ]
  },
  {
   "cell_type": "markdown",
   "id": "fd7df050-ad22-4f95-9f5a-0146893e2b96",
   "metadata": {},
   "source": [
    "4 Run this program to print out the letter E using asterisks."
   ]
  },
  {
   "cell_type": "code",
   "execution_count": null,
   "id": "505134fb-adf1-4009-9853-42fadacc8345",
   "metadata": {},
   "outputs": [],
   "source": [
    "print (\"\\*\\*\\*\\*\\*\\*\\*\")\n",
    "\n",
    "print (\"\\*\")\n",
    "\n",
    "print (\"\\*\\*\\*\\*\\*\\*\\*\")\n",
    "\n",
    "print (\"\\*\")\n",
    "\n",
    "print (\"\\*\\*\\*\\*\\*\\*\\*\")"
   ]
  },
  {
   "cell_type": "markdown",
   "id": "280ea287-c0cd-45ab-a06d-1319d3d7d85b",
   "metadata": {},
   "source": [
    "5 Edit the program written in 4 to print out the word ‘EYE' in the next cell?"
   ]
  },
  {
   "cell_type": "code",
   "execution_count": null,
   "id": "c50c7e9f-da3b-40e8-90fa-0b13fd60fdfe",
   "metadata": {},
   "outputs": [],
   "source": [
    "# Code for Q5 in this cell\n"
   ]
  },
  {
   "cell_type": "markdown",
   "id": "699fd8a7-eca3-4f3d-8878-9f53d29b6f23",
   "metadata": {},
   "source": [
    "6 This is how we take user input, using the `input()` function, look at the code in the next cell, run it to see the output"
   ]
  },
  {
   "cell_type": "code",
   "execution_count": null,
   "id": "a3ba376f-4fa6-4646-bc74-9a3d86559631",
   "metadata": {},
   "outputs": [],
   "source": [
    "# review and run code - enter a number in the text box\n",
    "\n",
    "print(\"enter a number: \")\n",
    "\n",
    "number = input() # pass the value from input to the variable `number`\n",
    "\n",
    "print(\"Your number was: \")\n",
    "\n",
    "print(number) # print the variable to see the stored value"
   ]
  },
  {
   "cell_type": "markdown",
   "id": "906957e1-7f3f-4fe8-b4bb-201726bc3d07",
   "metadata": {},
   "source": [
    "7 Modify the program from Q6 to, prompt the user to enter their name and get python to reply with *Hello, good day NAME* (where NAME is the\n",
    "name they entered)"
   ]
  },
  {
   "cell_type": "code",
   "execution_count": null,
   "id": "e4ed2c4e-7990-4e94-a817-4e8c64bcf168",
   "metadata": {},
   "outputs": [],
   "source": [
    "# your code for Q7 below this line\n"
   ]
  }
 ],
 "metadata": {
  "kernelspec": {
   "display_name": "Python 3 (ipykernel)",
   "language": "python",
   "name": "python3"
  },
  "language_info": {
   "codemirror_mode": {
    "name": "ipython",
    "version": 3
   },
   "file_extension": ".py",
   "mimetype": "text/x-python",
   "name": "python",
   "nbconvert_exporter": "python",
   "pygments_lexer": "ipython3",
   "version": "3.9.2"
  },
  "toc-autonumbering": false,
  "toc-showmarkdowntxt": false
 },
 "nbformat": 4,
 "nbformat_minor": 5
}
